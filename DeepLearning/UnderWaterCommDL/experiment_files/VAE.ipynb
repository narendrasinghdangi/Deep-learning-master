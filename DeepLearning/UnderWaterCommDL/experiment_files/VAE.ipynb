{
 "cells": [
  {
   "cell_type": "code",
   "execution_count": 12,
   "metadata": {},
   "outputs": [],
   "source": [
    "import tensorflow as tf\n",
    "import numpy as np\n",
    "from sklearn.preprocessing import LabelBinarizer\n",
    "from tensorflow.keras.models import Sequential\n",
    "from tensorflow.keras.layers import Dense\n",
    "from tensorflow.keras.optimizers import SGD\n",
    "import matplotlib.pyplot as plt\n",
    "from sklearn.model_selection import train_test_split\n",
    "import time\n",
    "import math"
   ]
  },
  {
   "cell_type": "code",
   "execution_count": 13,
   "metadata": {},
   "outputs": [],
   "source": [
    "def encod_map(x):\n",
    "    e = np.zeros(16).astype(int)\n",
    "    index = int(\"\".join(str(y) for y in x), 2)\n",
    "    e[index] = 1\n",
    "    return  e\n"
   ]
  },
  {
   "cell_type": "code",
   "execution_count": 14,
   "metadata": {},
   "outputs": [],
   "source": [
    "batch_size = 1000\n",
    "varience = 1"
   ]
  },
  {
   "cell_type": "code",
   "execution_count": 17,
   "metadata": {},
   "outputs": [],
   "source": [
    "X = np.random.randint(1,10,size=(10,4))%2\n",
    "x_train,x_val = train_test_split(X,test_size=0.2,random_state=4)"
   ]
  },
  {
   "cell_type": "code",
   "execution_count": 18,
   "metadata": {},
   "outputs": [],
   "source": [
    "def one_hot_vec(x_train,x_val):\n",
    "    x_new_train = np.zeros((x_train.shape[0],2**(x_train.shape[1])))\n",
    "    for i in range(x_train.shape[0]):\n",
    "        x_new_train[i] = encod_map(x_train[i])\n",
    "\n",
    "    x_new_val = np.zeros((x_val.shape[0],2**(x_val.shape[1])))\n",
    "    for i in range(x_val.shape[0]):\n",
    "        x_new_val[i] = encod_map(x_val[i])\n",
    "\n",
    "    x_tensor_train = tf.convert_to_tensor(x_new_train,dtype = tf.float32)\n",
    "    x_tensor_val = tf.convert_to_tensor(x_new_val,dtype = tf.float32)\n",
    "    \n",
    "    return x_tensor_train,x_tensor_val"
   ]
  },
  {
   "cell_type": "code",
   "execution_count": null,
   "metadata": {},
   "outputs": [],
   "source": [
    "x_tensor_train,x_tensor_val = one_hot_vec(x_train,x_val)"
   ]
  },
  {
   "cell_type": "code",
   "execution_count": null,
   "metadata": {},
   "outputs": [],
   "source": [
    "class VAE():\n",
    "    "
   ]
  }
 ],
 "metadata": {
  "kernelspec": {
   "display_name": "Python 3.7.10 ('basic')",
   "language": "python",
   "name": "python3"
  },
  "language_info": {
   "codemirror_mode": {
    "name": "ipython",
    "version": 3
   },
   "file_extension": ".py",
   "mimetype": "text/x-python",
   "name": "python",
   "nbconvert_exporter": "python",
   "pygments_lexer": "ipython3",
   "version": "3.7.10"
  },
  "orig_nbformat": 4,
  "vscode": {
   "interpreter": {
    "hash": "cbb9b752b2e00d79181b10810213ec250859823ac34c680a70252b6b3a1c26f5"
   }
  }
 },
 "nbformat": 4,
 "nbformat_minor": 2
}
