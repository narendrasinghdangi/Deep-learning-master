{
 "cells": [
  {
   "cell_type": "markdown",
   "metadata": {},
   "source": [
    "#### Importing libraries"
   ]
  },
  {
   "cell_type": "code",
   "execution_count": 1,
   "metadata": {},
   "outputs": [],
   "source": [
    "import numpy as np\n",
    "import matplotlib.pyplot as plt\n",
    "from sklearn.model_selection import train_test_split\n",
    "import torch.nn as nn\n",
    "import torch.nn.functional as F\n",
    "from torch.utils.data import DataLoader\n",
    "import torch"
   ]
  },
  {
   "cell_type": "code",
   "execution_count": 2,
   "metadata": {},
   "outputs": [],
   "source": [
    "def do_seed():\n",
    "    RANDOM_SEED = 50\n",
    "    np.random.seed(RANDOM_SEED)\n",
    "    torch.manual_seed(RANDOM_SEED)\n",
    "    return "
   ]
  },
  {
   "cell_type": "markdown",
   "metadata": {},
   "source": [
    "#### encoding 4 bits into one hot "
   ]
  },
  {
   "cell_type": "code",
   "execution_count": 3,
   "metadata": {},
   "outputs": [],
   "source": [
    "def encod_map(x):\n",
    "    e = np.zeros(16).astype(int)\n",
    "    index = int(\"\".join(str(y) for y in x), 2)\n",
    "    e[index] = 1\n",
    "    return  e"
   ]
  },
  {
   "cell_type": "code",
   "execution_count": 4,
   "metadata": {},
   "outputs": [
    {
     "name": "stdout",
     "output_type": "stream",
     "text": [
      "[0 0 0 0 0 0 0 0 0 1 0 0 0 0 0 0]\n"
     ]
    }
   ],
   "source": [
    "l = [1,0,0,1]\n",
    "encod_l = encod_map(l)\n",
    "print(encod_l)"
   ]
  },
  {
   "cell_type": "markdown",
   "metadata": {},
   "source": [
    "#### train_test_split"
   ]
  },
  {
   "cell_type": "code",
   "execution_count": 5,
   "metadata": {},
   "outputs": [],
   "source": [
    "do_seed()\n",
    "X = np.random.randint(1,10,size=(10000,4))%2"
   ]
  },
  {
   "cell_type": "code",
   "execution_count": 6,
   "metadata": {},
   "outputs": [],
   "source": [
    "Y = np.mean(X,axis = 1)"
   ]
  },
  {
   "cell_type": "code",
   "execution_count": 7,
   "metadata": {},
   "outputs": [],
   "source": [
    "x_train,x_test = train_test_split(X,test_size=0.2,random_state=4,stratify=Y)"
   ]
  },
  {
   "cell_type": "code",
   "execution_count": 8,
   "metadata": {},
   "outputs": [
    {
     "data": {
      "text/plain": [
       "(8000, 4)"
      ]
     },
     "execution_count": 8,
     "metadata": {},
     "output_type": "execute_result"
    }
   ],
   "source": [
    "x_train.shape"
   ]
  },
  {
   "cell_type": "code",
   "execution_count": 9,
   "metadata": {},
   "outputs": [
    {
     "data": {
      "text/plain": [
       "(2000, 4)"
      ]
     },
     "execution_count": 9,
     "metadata": {},
     "output_type": "execute_result"
    }
   ],
   "source": [
    "x_test.shape"
   ]
  },
  {
   "cell_type": "code",
   "execution_count": 10,
   "metadata": {},
   "outputs": [],
   "source": [
    "x_new_train = np.zeros((x_train.shape[0],2**(x_train.shape[1])))\n",
    "for i in range(x_train.shape[0]):\n",
    "    x_new_train[i] = encod_map(x_train[i])"
   ]
  },
  {
   "cell_type": "code",
   "execution_count": 11,
   "metadata": {},
   "outputs": [],
   "source": [
    "x_new_test = np.zeros((x_test.shape[0],2**(x_test.shape[1])))\n",
    "for i in range(x_test.shape[0]):\n",
    "    x_new_test[i] = encod_map(x_test[i])"
   ]
  },
  {
   "cell_type": "code",
   "execution_count": 12,
   "metadata": {},
   "outputs": [
    {
     "name": "stdout",
     "output_type": "stream",
     "text": [
      "(array([], dtype=int64),)\n",
      "(array([], dtype=int64),)\n"
     ]
    }
   ],
   "source": [
    "print(np.where(np.sum(x_new_train,axis=1) != 1))\n",
    "print(np.where(np.sum(x_new_test,axis=1) != 1))"
   ]
  },
  {
   "cell_type": "code",
   "execution_count": 13,
   "metadata": {},
   "outputs": [],
   "source": [
    "x_torch_train = torch.from_numpy(x_new_train).float()\n",
    "x_torch_test = torch.from_numpy(x_new_test).float()"
   ]
  },
  {
   "cell_type": "code",
   "execution_count": 14,
   "metadata": {},
   "outputs": [],
   "source": [
    "batch = 100"
   ]
  },
  {
   "cell_type": "code",
   "execution_count": 15,
   "metadata": {},
   "outputs": [],
   "source": [
    "do_seed()\n",
    "train_loader = DataLoader(x_torch_train,batch_size = batch,shuffle = True)\n",
    "test_loader = DataLoader(x_new_test,batch_size = batch,shuffle = False)"
   ]
  },
  {
   "cell_type": "markdown",
   "metadata": {},
   "source": [
    "#### Autoencoder Class"
   ]
  },
  {
   "cell_type": "code",
   "execution_count": 16,
   "metadata": {},
   "outputs": [],
   "source": [
    "class Autoencoder(nn.Module):\n",
    "    def __init__(self, in_sz = 16, out_sz = 16, layers=[7]):\n",
    "        super().__init__()\n",
    "        self.layer1 = nn.Linear(in_sz,layers[0])\n",
    "        self.relu = nn.ReLU()\n",
    "        self.layer2 = nn.Linear(layers[0],out_sz)\n",
    "        self.softmax = nn.Softmax()\n",
    "\n",
    "    def forward(self,X,var = 0):\n",
    "        out1 = self.relu(self.layer1(X))\n",
    "        self.out_bef_noise = out1\n",
    "        self.encoded_sig = self.normalize(self.out_bef_noise)\n",
    "        self.encoded_sig = self.add_noise( self.encoded_sig,var)\n",
    "        # self.encoded_sig = self.normalize(self.encoded_sig)\n",
    "        out = self.softmax(self.layer2(self.encoded_sig))\n",
    "        self.output = out\n",
    "        return out\n",
    "    \n",
    "    def encoded_msg(self):\n",
    "        return self.out_bef_noise,self.encoded_sig\n",
    "    \n",
    "    def add_noise(self,msg,var):\n",
    "        # torch.manual_seed(50)\n",
    "        msg = msg + (var ** 0.5)*torch.randn(msg.size())\n",
    "        return msg\n",
    "    \n",
    "    def normalize(self,sig):\n",
    "        norm = torch.zeros(sig.size()[0],1)\n",
    "        norm[:,0] = (torch.linalg.norm(sig,dim = 1))\n",
    "        norm = norm.expand(-1,sig.size()[1])\n",
    "        sig = torch.div(sig,norm)\n",
    "        sig = sig * 7\n",
    "        return sig"
   ]
  },
  {
   "cell_type": "markdown",
   "metadata": {},
   "source": [
    "#### Model"
   ]
  },
  {
   "cell_type": "code",
   "execution_count": 17,
   "metadata": {},
   "outputs": [
    {
     "data": {
      "text/plain": [
       "Autoencoder(\n",
       "  (layer1): Linear(in_features=16, out_features=7, bias=True)\n",
       "  (relu): ReLU()\n",
       "  (layer2): Linear(in_features=7, out_features=16, bias=True)\n",
       "  (softmax): Softmax(dim=None)\n",
       ")"
      ]
     },
     "execution_count": 17,
     "metadata": {},
     "output_type": "execute_result"
    }
   ],
   "source": [
    "do_seed()\n",
    "model = Autoencoder()\n",
    "model"
   ]
  },
  {
   "cell_type": "code",
   "execution_count": 18,
   "metadata": {},
   "outputs": [],
   "source": [
    "criterion = nn.NLLLoss()\n",
    "optimizer = torch.optim.Adam(model.parameters(), lr=0.01)"
   ]
  },
  {
   "cell_type": "code",
   "execution_count": 19,
   "metadata": {},
   "outputs": [
    {
     "name": "stderr",
     "output_type": "stream",
     "text": [
      "/home/lohith/chida/environments/basic/lib/python3.7/site-packages/ipykernel_launcher.py:15: UserWarning: Implicit dimension choice for softmax has been deprecated. Change the call to include dim=X as an argument.\n",
      "  from ipykernel import kernelapp as app\n",
      "/home/lohith/chida/environments/basic/lib/python3.7/site-packages/torch/autograd/__init__.py:175: UserWarning: CUDA initialization: The NVIDIA driver on your system is too old (found version 9000). Please update your GPU driver by downloading and installing a new version from the URL: http://www.nvidia.com/Download/index.aspx Alternatively, go to: https://pytorch.org to install a PyTorch version that has been compiled with your version of the CUDA driver. (Triggered internally at  ../c10/cuda/CUDAFunctions.cpp:112.)\n",
      "  allow_unreachable=True, accumulate_grad=True)  # Calls into the C++ engine to run the backward pass\n"
     ]
    }
   ],
   "source": [
    "do_seed()\n",
    "import time\n",
    "start_time = time.time()\n",
    "\n",
    "epochs = 50\n",
    "train_losses = []\n",
    "test_losses = []\n",
    "train_correct = []\n",
    "test_correct = []\n",
    "\n",
    "fp = open('output_1hd.txt',\"w\")\n",
    "for i in range(epochs):\n",
    "    trn_corr = 0\n",
    "    tst_corr = 0\n",
    "    \n",
    "\n",
    "    for b,x in enumerate(train_loader):\n",
    "\n",
    "        b+=1\n",
    "\n",
    "        y_pred = model(x.view(batch,-1))\n",
    "        pred_index = torch.argmax(y_pred,dim = 1)\n",
    "        actual_index = torch.argmax(x,dim = 1)\n",
    "        \n",
    "        loss = criterion(y_pred, actual_index)\n",
    " \n",
    "        batch_corr = torch.sum(pred_index == actual_index)\n",
    "        trn_corr += batch_corr\n",
    "\n",
    "        optimizer.zero_grad()\n",
    "        loss.backward()\n",
    "        optimizer.step()\n",
    "\n",
    "\n",
    "        if b%20 == 0:\n",
    "            fp.write(f'epoch: {i}  batch: {b} [{batch*b:6}/{x_train.shape[0]}]  loss: {loss.item():10.8f}  \\\n",
    "accuracy: {trn_corr.item()*100/(batch*b):7.3f}%')\n",
    "            fp.write('\\n')\n",
    "        \n",
    "    train_losses.append(loss.item())\n",
    "    train_correct.append(trn_corr)\n",
    "\n",
    "    with torch.no_grad():\n",
    "        for test in test_loader:\n",
    "\n",
    "            y_val = model(test.view(batch, -1).float())\n",
    "\n",
    "            predicted_test = torch.argmax(y_val,dim = 1)\n",
    "            actual_test = torch.argmax(test,dim = 1)\n",
    "            \n",
    "            tst_corr += torch.sum(predicted_test == actual_test)\n",
    "    \n",
    "    loss = criterion(y_val, actual_test)\n",
    "    test_losses.append(loss.item())\n",
    "    test_correct.append(tst_corr)\n",
    "\n",
    "fp.close()\n",
    "fp = open('output_1hd.txt',\"a\")\n",
    "fp.write(f'\\nDuration: {time.time() - start_time:.0f} seconds')\n",
    "fp.close()  # ouput written on output.txt"
   ]
  },
  {
   "cell_type": "markdown",
   "metadata": {},
   "source": [
    "#### Decoding one hot into 4 bit"
   ]
  },
  {
   "cell_type": "code",
   "execution_count": 20,
   "metadata": {},
   "outputs": [],
   "source": [
    "def decod_map(e):\n",
    "    e = e.numpy().astype(int)\n",
    "    print(e)\n",
    "    i = int(np.where(e == 1)[0])\n",
    "    ls = list(bin(i).replace(\"0b\",\"\"))\n",
    "    if len(ls) != 4:\n",
    "        ls = [0]*abs(len(ls)-4) + ls\n",
    "    return np.array(ls).astype(int)"
   ]
  },
  {
   "cell_type": "markdown",
   "metadata": {},
   "source": [
    "#### plots"
   ]
  },
  {
   "cell_type": "code",
   "execution_count": 21,
   "metadata": {},
   "outputs": [
    {
     "data": {
      "image/png": "[encoded data removed]",
      "text/plain": [
       "<Figure size 432x288 with 1 Axes>"
      ]
     },
     "metadata": {
      "needs_background": "light"
     },
     "output_type": "display_data"
    }
   ],
   "source": [
    "plt.plot(train_losses, label='training loss')\n",
    "plt.plot(test_losses, label='validation loss')\n",
    "plt.title('Loss at the end of each epoch')\n",
    "plt.legend();"
   ]
  },
  {
   "cell_type": "code",
   "execution_count": 22,
   "metadata": {},
   "outputs": [
    {
     "name": "stdout",
     "output_type": "stream",
     "text": [
      "8000 2000\n"
     ]
    }
   ],
   "source": [
    "print(x_train.shape[0],x_test.shape[0])"
   ]
  },
  {
   "cell_type": "code",
   "execution_count": 23,
   "metadata": {},
   "outputs": [
    {
     "data": {
      "image/png": "[encoded data removed]",
      "text/plain": [
       "<Figure size 432x288 with 1 Axes>"
      ]
     },
     "metadata": {
      "needs_background": "light"
     },
     "output_type": "display_data"
    }
   ],
   "source": [
    "plt.plot([(t*100)/x_train.shape[0] for t in train_correct], label='training accuracy')\n",
    "plt.plot([(t*100)/x_test.shape[0] for t in test_correct], label='validation accuracy')\n",
    "plt.title('Accuracy at the end of each epoch')\n",
    "plt.legend();"
   ]
  },
  {
   "cell_type": "code",
   "execution_count": 24,
   "metadata": {},
   "outputs": [
    {
     "name": "stdout",
     "output_type": "stream",
     "text": [
      "Test accuracy: 100.000%\n"
     ]
    }
   ],
   "source": [
    "print(f'Test accuracy: {test_correct[-1].item()*100/(x_test.shape[0]):.3f}%')"
   ]
  },
  {
   "cell_type": "markdown",
   "metadata": {},
   "source": [
    "#### impact of varience of the noise on accuracy"
   ]
  },
  {
   "cell_type": "code",
   "execution_count": 25,
   "metadata": {},
   "outputs": [],
   "source": [
    "def cal_accuracy(var,fp,epochs = 150):\n",
    "    do_seed()\n",
    "\n",
    "    train_losses_var = []\n",
    "    test_losses_var = []\n",
    "    train_correct_var = []\n",
    "    test_correct_var = []\n",
    "\n",
    "    for i in range(epochs):\n",
    "        trn_corr = 0\n",
    "        tst_corr = 0\n",
    "        \n",
    "        for b,x in enumerate(train_loader):\n",
    "\n",
    "            b+=1\n",
    "\n",
    "            y_pred = model(x.view(batch,-1))\n",
    "            pred_index = torch.argmax(y_pred,dim = 1)\n",
    "            actual_index = torch.argmax(x,dim = 1)\n",
    "            \n",
    "            loss = criterion(y_pred, actual_index)\n",
    "    \n",
    "            batch_corr = torch.sum(pred_index == actual_index)\n",
    "            trn_corr += batch_corr\n",
    "\n",
    "            optimizer.zero_grad()\n",
    "            loss.backward()\n",
    "            optimizer.step()\n",
    "\n",
    "        \n",
    "\n",
    "        train_losses_var.append(loss.item())\n",
    "        train_correct_var.append(trn_corr)\n",
    "\n",
    "        with torch.no_grad():\n",
    "            for x_test in test_loader:\n",
    "\n",
    "                y_val = model(x_test.view(batch, -1).float())\n",
    "\n",
    "                predicted_test = torch.argmax(y_val,dim = 1)\n",
    "                actual_test = torch.argmax(x_test,dim = 1)\n",
    "            \n",
    "                tst_corr += torch.sum(predicted_test == actual_test)\n",
    "        \n",
    "        loss = criterion(y_val, actual_test)\n",
    "        test_losses_var.append(loss.item())\n",
    "        test_correct_var.append(tst_corr)\n",
    "\n",
    "    fp.write(f'accuracy for the given {var} of noise after {epochs} epochs is {(train_correct_var[-1] * 100)/x_train.shape[0]}')\n",
    "    fp.write('\\n')\n",
    "    return (train_correct_var[-1] * 100)/x_train.shape[0]"
   ]
  },
  {
   "cell_type": "code",
   "execution_count": 26,
   "metadata": {},
   "outputs": [],
   "source": [
    "def run_model(var,fp):\n",
    "    do_seed()\n",
    "    return cal_accuracy(var,fp,150)"
   ]
  },
  {
   "cell_type": "code",
   "execution_count": 27,
   "metadata": {},
   "outputs": [
    {
     "name": "stderr",
     "output_type": "stream",
     "text": [
      "/home/lohith/chida/environments/basic/lib/python3.7/site-packages/ipykernel_launcher.py:15: UserWarning: Implicit dimension choice for softmax has been deprecated. Change the call to include dim=X as an argument.\n",
      "  from ipykernel import kernelapp as app\n"
     ]
    }
   ],
   "source": [
    "fp = open(\"varience_impact.txt\",'w')\n",
    "fp.close()\n",
    "fp = open(\"varience_impact.txt\",'a')\n",
    "accuracy_varience = []\n",
    "for var in range(1,10):\n",
    "    accuracy_varience.append(run_model(var,fp))\n",
    "fp.close()"
   ]
  },
  {
   "cell_type": "code",
   "execution_count": 28,
   "metadata": {},
   "outputs": [
    {
     "data": {
      "text/plain": [
       "[tensor(100.),\n",
       " tensor(100.),\n",
       " tensor(100.),\n",
       " tensor(100.),\n",
       " tensor(100.),\n",
       " tensor(100.),\n",
       " tensor(100.),\n",
       " tensor(100.),\n",
       " tensor(100.)]"
      ]
     },
     "execution_count": 28,
     "metadata": {},
     "output_type": "execute_result"
    }
   ],
   "source": [
    "accuracy_varience"
   ]
  },
  {
   "cell_type": "code",
   "execution_count": 29,
   "metadata": {},
   "outputs": [
    {
     "data": {
      "image/png": "[encoded data removed]",
      "text/plain": [
       "<Figure size 432x288 with 1 Axes>"
      ]
     },
     "metadata": {
      "needs_background": "light"
     },
     "output_type": "display_data"
    }
   ],
   "source": [
    "plt.plot(accuracy_varience)\n",
    "plt.title('Accuracy after 50 epochs with changing noise varience')\n",
    "plt.show();"
   ]
  },
  {
   "cell_type": "markdown",
   "metadata": {},
   "source": [
    "#### model with two hidden layers"
   ]
  },
  {
   "cell_type": "code",
   "execution_count": 30,
   "metadata": {},
   "outputs": [],
   "source": [
    "class change_layers_2hd(nn.Module):\n",
    "    def __init__(self, in_sz = 16, out_sz = 16, layers=[7,7]):\n",
    "        super().__init__()\n",
    "        self.layer1 = nn.Linear(in_sz,layers[0])\n",
    "        self.relu = nn.ReLU()\n",
    "        self.layer2 = nn.Linear(layers[0],layers[1])\n",
    "        self.relu = nn.ReLU()\n",
    "        self.layer3 = nn.Linear(layers[1],out_sz)\n",
    "        self.logsoftmax = nn.LogSoftmax()\n",
    "\n",
    "    def forward(self,X,var = 0):\n",
    "        out1 = self.relu(self.layer1(X))\n",
    "        out2 = self.relu(self.layer2(out1))\n",
    "        self.out_bef_noise = out2\n",
    "        self.encoded_sig = self.normalize(self.out_bef_noise)\n",
    "        self.encoded_sig = self.add_noise(self.encoded_sig,var)\n",
    "        # self.encoded_sig = self.normalize(self.encoded_sig)\n",
    "        out = self.logsoftmax(self.layer3(self.encoded_sig))\n",
    "        self.output = out\n",
    "        return out\n",
    "    \n",
    "    def encoded_msg(self):\n",
    "        return self.out_bef_noise,self.encoded_sig\n",
    "    \n",
    "    def add_noise(self,msg,var):\n",
    "        # torch.manual_seed(50)\n",
    "        msg = msg + (var ** 0.5)*torch.randn(msg.size())\n",
    "        return msg\n",
    "    \n",
    "    def normalize(self,sig):\n",
    "        norm = torch.zeros(sig.size()[0],1)\n",
    "        norm[:,0] = (torch.linalg.norm(sig,dim = 1))\n",
    "        norm = norm.expand(-1,sig.size()[1])\n",
    "        sig = torch.div(sig,norm)\n",
    "        sig = sig * 7\n",
    "        return sig"
   ]
  },
  {
   "cell_type": "code",
   "execution_count": 31,
   "metadata": {},
   "outputs": [
    {
     "data": {
      "text/plain": [
       "change_layers_2hd(\n",
       "  (layer1): Linear(in_features=16, out_features=7, bias=True)\n",
       "  (relu): ReLU()\n",
       "  (layer2): Linear(in_features=7, out_features=7, bias=True)\n",
       "  (layer3): Linear(in_features=7, out_features=16, bias=True)\n",
       "  (logsoftmax): LogSoftmax(dim=None)\n",
       ")"
      ]
     },
     "execution_count": 31,
     "metadata": {},
     "output_type": "execute_result"
    }
   ],
   "source": [
    "do_seed()\n",
    "model_with_2hd = change_layers_2hd(layers = [7,7])\n",
    "model_with_2hd"
   ]
  },
  {
   "cell_type": "code",
   "execution_count": 38,
   "metadata": {},
   "outputs": [
    {
     "name": "stderr",
     "output_type": "stream",
     "text": [
      "/home/lohith/chida/environments/basic/lib/python3.7/site-packages/ipykernel_launcher.py:18: UserWarning: Implicit dimension choice for log_softmax has been deprecated. Change the call to include dim=X as an argument.\n"
     ]
    }
   ],
   "source": [
    "do_seed()\n",
    "import time\n",
    "start_time = time.time()\n",
    "\n",
    "epochs = 50\n",
    "train_losses_2hd = []\n",
    "test_losses_2hd = []\n",
    "train_correct_2hd = []\n",
    "test_correct_2hd = []\n",
    "\n",
    "fp = open('output_2hd.txt',\"w\")\n",
    "for i in range(epochs):\n",
    "    trn_corr = 0\n",
    "    tst_corr = 0\n",
    "    \n",
    "\n",
    "    for b,x in enumerate(train_loader):\n",
    "\n",
    "        b+=1\n",
    "\n",
    "        y_pred = model_with_2hd(x.view(batch,-1))\n",
    "        pred_index = torch.argmax(y_pred,dim = 1)\n",
    "        actual_index = torch.argmax(x,dim = 1)\n",
    "            \n",
    "        loss = criterion(y_pred, actual_index)\n",
    "    \n",
    "        batch_corr = torch.sum(pred_index == actual_index)\n",
    "        trn_corr += batch_corr\n",
    "\n",
    "        optimizer.zero_grad()\n",
    "        loss.backward()\n",
    "        optimizer.step()\n",
    "\n",
    "\n",
    "        if b%20 == 0:\n",
    "            fp.write(f'epoch: {i}  batch: {b} [{batch*b:6}/{x_train.shape[0]}]  loss: {loss.item():10.8f}  \\\n",
    "accuracy: {trn_corr.item()*100/(batch*b):7.3f}%')\n",
    "            fp.write('\\n')\n",
    "        \n",
    "    train_losses_2hd.append(loss.item())\n",
    "    train_correct_2hd.append(trn_corr)\n",
    "\n",
    "    with torch.no_grad():\n",
    "        for test in test_loader:\n",
    "\n",
    "            y_val = model_with_2hd(test.view(batch, -1).float())\n",
    "\n",
    "            predicted_test = torch.argmax(y_val,dim = 1)\n",
    "            actual_test = torch.argmax(test,dim = 1)\n",
    "            \n",
    "            tst_corr += torch.sum(predicted_test == actual_test)\n",
    "    \n",
    "    loss = criterion(y_val, actual_test)\n",
    "    test_losses_2hd.append(loss.item())\n",
    "    test_correct_2hd.append(tst_corr)\n",
    "\n",
    "fp.close()\n",
    "fp = open('output_2hd.txt',\"a\")\n",
    "fp.write(f'\\nDuration: {time.time() - start_time:.0f} seconds')\n",
    "fp.close()  # ouput written on output.txt"
   ]
  },
  {
   "cell_type": "code",
   "execution_count": 39,
   "metadata": {},
   "outputs": [
    {
     "data": {
      "image/png": "[encoded data removed]",
      "text/plain": [
       "<Figure size 432x288 with 1 Axes>"
      ]
     },
     "metadata": {
      "needs_background": "light"
     },
     "output_type": "display_data"
    }
   ],
   "source": [
    "plt.plot(train_losses, label='training loss for one hidden layer')\n",
    "plt.plot(test_losses, label='testing loss for one hidden layer')\n",
    "plt.plot(train_losses_2hd, label='training loss for two hidden layers')\n",
    "plt.plot(test_losses_2hd, label='testing loss for two hidden layers')\n",
    "plt.title('Loss with different number of hidden layers')\n",
    "plt.legend();"
   ]
  },
  {
   "cell_type": "markdown",
   "metadata": {},
   "source": [
    "#### model with three hidden layers"
   ]
  },
  {
   "cell_type": "code",
   "execution_count": 45,
   "metadata": {},
   "outputs": [],
   "source": [
    "class change_layers_3hd(nn.Module):\n",
    "    def __init__(self, in_sz = 16, out_sz = 16, layers=[7,7,7]):\n",
    "        super().__init__()\n",
    "        self.layer1 = nn.Linear(in_sz,layers[0])\n",
    "        self.relu = nn.ReLU()\n",
    "        self.layer2 = nn.Linear(layers[0],layers[1])\n",
    "        self.relu = nn.ReLU()\n",
    "        self.layer3 = nn.Linear(layers[1],layers[2])\n",
    "        self.relu = nn.ReLU()\n",
    "        self.layer4 = nn.Linear(layers[2],out_sz)\n",
    "        self.logsoftmax = nn.LogSoftmax()\n",
    "\n",
    "    def forward(self,X,var = 0):\n",
    "        out1 = self.relu(self.layer1(X))\n",
    "        out2 = self.relu(self.layer2(out1))\n",
    "        self.out_bef_noise = out2\n",
    "        self.out_bef_noise = self.normalize(self.out_bef_noise)\n",
    "        self.encoded_sig = self.add_noise(self.out_bef_noise,var)\n",
    "        # self.encoded_sig = self.normalize(self.encoded_sig)\n",
    "        self.encoded_sig = self.relu(self.layer3(self.encoded_sig))\n",
    "        out = self.logsoftmax(self.layer4(self.encoded_sig))\n",
    "        self.output = out\n",
    "        return out\n",
    "    \n",
    "    def encoded_msg(self):\n",
    "        return self.out_bef_noise,self.encoded_sig\n",
    "    \n",
    "    def add_noise(self,msg,var = 1):\n",
    "        # torch.manual_seed(50)\n",
    "        msg = msg + (var ** 0.5)*torch.randn(msg.size())\n",
    "        return msg\n",
    "    \n",
    "    def normalize(self,sig):\n",
    "        norm = torch.zeros(sig.size()[0],1)\n",
    "        norm[:,0] = (torch.linalg.norm(sig,dim = 1))\n",
    "        norm = norm.expand(-1,sig.size()[1])\n",
    "        sig = torch.div(sig,norm)\n",
    "        sig = sig * 7\n",
    "        return sig"
   ]
  },
  {
   "cell_type": "code",
   "execution_count": 46,
   "metadata": {},
   "outputs": [
    {
     "data": {
      "text/plain": [
       "change_layers_3hd(\n",
       "  (layer1): Linear(in_features=16, out_features=7, bias=True)\n",
       "  (relu): ReLU()\n",
       "  (layer2): Linear(in_features=7, out_features=7, bias=True)\n",
       "  (layer3): Linear(in_features=7, out_features=7, bias=True)\n",
       "  (layer4): Linear(in_features=7, out_features=16, bias=True)\n",
       "  (logsoftmax): LogSoftmax(dim=None)\n",
       ")"
      ]
     },
     "execution_count": 46,
     "metadata": {},
     "output_type": "execute_result"
    }
   ],
   "source": [
    "do_seed()\n",
    "model_with_3hd = change_layers_3hd(layers = [7,7,7])\n",
    "model_with_3hd"
   ]
  },
  {
   "cell_type": "code",
   "execution_count": 47,
   "metadata": {},
   "outputs": [
    {
     "name": "stderr",
     "output_type": "stream",
     "text": [
      "/home/lohith/chida/environments/basic/lib/python3.7/site-packages/ipykernel_launcher.py:21: UserWarning: Implicit dimension choice for log_softmax has been deprecated. Change the call to include dim=X as an argument.\n"
     ]
    }
   ],
   "source": [
    "do_seed()\n",
    "import time\n",
    "start_time = time.time()\n",
    "\n",
    "epochs = 50\n",
    "train_losses_3hd = []\n",
    "test_losses_3hd = []\n",
    "train_correct_3hd = []\n",
    "test_correct_3hd = []\n",
    "\n",
    "fp = open('output_3hd.txt',\"w\")\n",
    "for i in range(epochs):\n",
    "    trn_corr = 0\n",
    "    tst_corr = 0\n",
    "    \n",
    "\n",
    "    for b,x in enumerate(train_loader):\n",
    "        \n",
    "        b+=1\n",
    "\n",
    "        y_pred = model_with_3hd(x.view(batch,-1))\n",
    "        pred_index = torch.argmax(y_pred,dim = 1)\n",
    "        actual_index = torch.argmax(x,dim = 1)\n",
    "            \n",
    "        loss = criterion(y_pred, actual_index)\n",
    "    \n",
    "        batch_corr = torch.sum(pred_index == actual_index)\n",
    "        trn_corr += batch_corr\n",
    "\n",
    "        optimizer.zero_grad()\n",
    "        loss.backward()\n",
    "        optimizer.step()\n",
    "\n",
    "\n",
    "        if b%20 == 0:\n",
    "            fp.write(f'epoch: {i}  batch: {b} [{batch*b:6}/{x_train.shape[0]}]  loss: {loss.item():10.8f}  \\\n",
    "accuracy: {trn_corr.item()*100/(batch*b):7.3f}%')\n",
    "            fp.write('\\n')\n",
    "        \n",
    "    train_losses_3hd.append(loss.item())\n",
    "    train_correct_3hd.append(trn_corr)\n",
    "\n",
    "    with torch.no_grad():\n",
    "        for test in test_loader:\n",
    "\n",
    "            y_val = model_with_3hd(test.view(batch, -1).float())\n",
    "\n",
    "            predicted_test = torch.argmax(y_val,dim = 1)\n",
    "            actual_test = torch.argmax(test,dim = 1)\n",
    "            \n",
    "            tst_corr += torch.sum(predicted_test == actual_test)\n",
    "    \n",
    "    loss = criterion(y_val, actual_test)\n",
    "    test_losses_3hd.append(loss.item())\n",
    "    test_correct_3hd.append(tst_corr)\n",
    "\n",
    "fp.close()\n",
    "fp = open('output_3hd.txt',\"a\")\n",
    "fp.write(f'\\nDuration: {time.time() - start_time:.0f} seconds')\n",
    "fp.close()  # ouput written on output.txt"
   ]
  },
  {
   "cell_type": "code",
   "execution_count": 48,
   "metadata": {},
   "outputs": [
    {
     "data": {
      "image/png": "[encoded data removed]",
      "text/plain": [
       "<Figure size 432x288 with 1 Axes>"
      ]
     },
     "metadata": {
      "needs_background": "light"
     },
     "output_type": "display_data"
    }
   ],
   "source": [
    "plt.plot(train_losses, label='training loss for one hidden layer')\n",
    "plt.plot(test_losses, label='testing loss for one hidden layer')\n",
    "plt.plot(train_losses_2hd, label='training loss for two hidden layers')\n",
    "plt.plot(test_losses_2hd, label='testing loss for two hidden layers')\n",
    "plt.plot(train_losses_3hd, label='training loss for three hidden layers')\n",
    "plt.plot(test_losses_3hd, label='testing loss for three hidden layers')\n",
    "plt.title('Loss with different number of hidden layers')\n",
    "plt.legend();"
   ]
  },
  {
   "cell_type": "code",
   "execution_count": null,
   "metadata": {},
   "outputs": [],
   "source": []
  }
 ],
 "metadata": {
  "kernelspec": {
   "display_name": "Python 3.7.10 64-bit",
   "language": "python",
   "name": "python3"
  },
  "language_info": {
   "codemirror_mode": {
    "name": "ipython",
    "version": 3
   },
   "file_extension": ".py",
   "mimetype": "text/x-python",
   "name": "python",
   "nbconvert_exporter": "python",
   "pygments_lexer": "ipython3",
   "version": "3.7.10"
  },
  "orig_nbformat": 4,
  "vscode": {
   "interpreter": {
    "hash": "cbb9b752b2e00d79181b10810213ec250859823ac34c680a70252b6b3a1c26f5"
   }
  }
 },
 "nbformat": 4,
 "nbformat_minor": 2
}
