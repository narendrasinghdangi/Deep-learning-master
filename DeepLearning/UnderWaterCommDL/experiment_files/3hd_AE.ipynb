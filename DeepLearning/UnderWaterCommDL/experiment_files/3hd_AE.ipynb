{
 "cells": [
  {
   "cell_type": "code",
   "execution_count": 1,
   "metadata": {},
   "outputs": [],
   "source": [
    "import numpy as np\n",
    "import matplotlib.pyplot as plt\n",
    "from sklearn.model_selection import train_test_split\n",
    "import torch.nn as nn\n",
    "import torch.nn.functional as F\n",
    "from torch.utils.data import DataLoader,TensorDataset\n",
    "import torch\n",
    "import time\n",
    "import math\n",
    "from sklearn.metrics import accuracy_score"
   ]
  },
  {
   "cell_type": "code",
   "execution_count": 2,
   "metadata": {},
   "outputs": [],
   "source": [
    "def encod_map(x):\n",
    "    e = np.zeros(16).astype(int)\n",
    "    index = int(\"\".join(str(y) for y in x), 2)\n",
    "    e[index] = 1\n",
    "    return  e"
   ]
  },
  {
   "cell_type": "code",
   "execution_count": 3,
   "metadata": {},
   "outputs": [],
   "source": [
    "X = np.random.randint(1,10,size=(100000,4))%2\n",
    "x_train,x_val = train_test_split(X,test_size=0.2,random_state=4)"
   ]
  },
  {
   "cell_type": "code",
   "execution_count": 4,
   "metadata": {},
   "outputs": [],
   "source": [
    "def one_hot_vec(x_train,x_val):\n",
    "    x_new_train = np.zeros((x_train.shape[0],2**(x_train.shape[1])))\n",
    "    for i in range(x_train.shape[0]):\n",
    "        x_new_train[i] = encod_map(x_train[i])\n",
    "\n",
    "    x_new_val = np.zeros((x_val.shape[0],2**(x_val.shape[1])))\n",
    "    for i in range(x_val.shape[0]):\n",
    "        x_new_val[i] = encod_map(x_val[i])\n",
    "    # print(x_new_train[:2])\n",
    "    # print(np.where(np.sum(x_new_train,axis=1) != 1))\n",
    "    # print(np.where(np.sum(x_new_val,axis=1) != 1))\n",
    "\n",
    "    x_torch_train = torch.from_numpy(x_new_train).float()\n",
    "    x_torch_test = torch.from_numpy(x_new_val).float()\n",
    "    \n",
    "    return x_torch_train,x_torch_test"
   ]
  },
  {
   "cell_type": "code",
   "execution_count": 5,
   "metadata": {},
   "outputs": [],
   "source": [
    "x_torch_train,x_torch_val = one_hot_vec(x_train,x_val)"
   ]
  },
  {
   "cell_type": "code",
   "execution_count": 6,
   "metadata": {},
   "outputs": [],
   "source": [
    "batch = 1000\n",
    "train_loader = DataLoader(x_torch_train,batch_size = batch,shuffle = True)\n",
    "val_loader = DataLoader(x_torch_val,batch_size = batch,shuffle = False)"
   ]
  },
  {
   "cell_type": "code",
   "execution_count": 7,
   "metadata": {},
   "outputs": [],
   "source": [
    "varience = 1"
   ]
  },
  {
   "cell_type": "code",
   "execution_count": 8,
   "metadata": {},
   "outputs": [],
   "source": [
    "class hd3_VE(nn.Module):\n",
    "    def __init__(self, in_sz = 16, out_sz = 16, layers=[16,7]):\n",
    "        super().__init__()\n",
    "        self.relu = nn.ReLU()\n",
    "        self.encoder = nn.Sequential(\n",
    "            nn.Linear(in_sz,layers[0]),\n",
    "            self.relu,\n",
    "            nn.Linear(layers[0],layers[1]),\n",
    "            # self.relu,\n",
    "            # nn.Linear(layers[1],layers[2]),\n",
    "            # self.relu\n",
    "            # nn.Linear(layers[2],layers[3])\n",
    "        )\n",
    "        self.decoder = nn.Sequential(\n",
    "            # nn.Linear(layers[3],layers[2]),\n",
    "            # self.relu,\n",
    "            # nn.Linear(layers[2],layers[1]),\n",
    "            # self.relu,\n",
    "            nn.Linear(layers[1],layers[0]),\n",
    "            self.relu,\n",
    "            nn.Linear(layers[0],out_sz),\n",
    "            nn.LogSoftmax()\n",
    "        )\n",
    "        # self.var = None\n",
    "        # self.encoded_sig = None\n",
    "        # self.normalized_sig = None\n",
    "        # self.corr_sig = None\n",
    "        # self.decoded_sig = None\n",
    "        # self.EbNochannel = None\n",
    "\n",
    "    def encode_data(self,X):\n",
    "        return self.encoder(X)\n",
    "        \n",
    "    def decode_data(self,X):\n",
    "        return self.decoder(X)\n",
    "    \n",
    "    # def used_in_test(self,X,var = 0):\n",
    "    #     self.var = var\n",
    "    #     encoded_sig = self.encoder(X)\n",
    "    #     decoded_sig = self.decoder(encoded_sig)\n",
    "    #     return decoded_sig\n",
    "    \n",
    "    def forward(self,X,var = varience):\n",
    "        # self.var = var\n",
    "        encoded_sig = self.encoder(X)\n",
    "        normalized_sig = self.normalize(encoded_sig)\n",
    "        corr_sig = self.add_noise(normalized_sig,var)\n",
    "        decoded_sig = self.decoder(corr_sig)\n",
    "        return decoded_sig\n",
    "    \n",
    "    def normalize(self,sig):\n",
    "        norm = torch.zeros(sig.size()[0],1)\n",
    "        norm[:,0] = (torch.linalg.norm(sig,dim = 1))\n",
    "        norm = norm.expand(-1,sig.size()[1])\n",
    "        sig = torch.div(sig,norm)\n",
    "        sig = sig * 7\n",
    "        return sig\n",
    "    \n",
    "    def add_noise(self,msg,var = varience):\n",
    "        msg = msg + (var ** 0.5) * torch.randn(*msg.size())\n",
    "        return msg\n",
    "    \n",
    "    def EbNoChannel(self,var = varience):\n",
    "        k = 4\n",
    "        n = 7\n",
    "        R = k/n\n",
    "        Eb = 7\n",
    "        No = var\n",
    "        self.channel = Eb/No + 10 * math.log10(R)\n",
    "    "
   ]
  },
  {
   "cell_type": "markdown",
   "metadata": {},
   "source": [
    "#### Skip"
   ]
  },
  {
   "cell_type": "code",
   "execution_count": 9,
   "metadata": {},
   "outputs": [
    {
     "data": {
      "text/plain": [
       "hd3_VE(\n",
       "  (relu): ReLU()\n",
       "  (encoder): Sequential(\n",
       "    (0): Linear(in_features=16, out_features=16, bias=True)\n",
       "    (1): ReLU()\n",
       "    (2): Linear(in_features=16, out_features=7, bias=True)\n",
       "  )\n",
       "  (decoder): Sequential(\n",
       "    (0): Linear(in_features=7, out_features=16, bias=True)\n",
       "    (1): ReLU()\n",
       "    (2): Linear(in_features=16, out_features=16, bias=True)\n",
       "    (3): LogSoftmax(dim=None)\n",
       "  )\n",
       ")"
      ]
     },
     "execution_count": 9,
     "metadata": {},
     "output_type": "execute_result"
    }
   ],
   "source": [
    "model = hd3_VE()\n",
    "model"
   ]
  },
  {
   "cell_type": "code",
   "execution_count": 10,
   "metadata": {},
   "outputs": [],
   "source": [
    "criterion = nn.NLLLoss()\n",
    "optimizer = torch.optim.Adam(model.parameters(), lr=0.01)"
   ]
  },
  {
   "cell_type": "code",
   "execution_count": 11,
   "metadata": {},
   "outputs": [
    {
     "name": "stderr",
     "output_type": "stream",
     "text": [
      "/home/lohith/chida/environments/basic/lib/python3.7/site-packages/torch/nn/modules/container.py:141: UserWarning: Implicit dimension choice for log_softmax has been deprecated. Change the call to include dim=X as an argument.\n",
      "  input = module(input)\n",
      "/home/lohith/chida/environments/basic/lib/python3.7/site-packages/torch/autograd/__init__.py:175: UserWarning: CUDA initialization: The NVIDIA driver on your system is too old (found version 9000). Please update your GPU driver by downloading and installing a new version from the URL: http://www.nvidia.com/Download/index.aspx Alternatively, go to: https://pytorch.org to install a PyTorch version that has been compiled with your version of the CUDA driver. (Triggered internally at  ../c10/cuda/CUDAFunctions.cpp:112.)\n",
      "  allow_unreachable=True, accumulate_grad=True)  # Calls into the C++ engine to run the backward pass\n"
     ]
    }
   ],
   "source": [
    "torch.autograd.set_detect_anomaly(True)\n",
    "start_time = time.time()\n",
    "epochs = 10\n",
    "train_losses = []\n",
    "val_losses = []\n",
    "accuracy = {}\n",
    "\n",
    "fp = open('3hd_AE.txt',\"w\")\n",
    "for i in range(epochs):\n",
    "    trn_corr = 0\n",
    "    tst_corr = 0\n",
    "    \n",
    "    for b,x in enumerate(train_loader):\n",
    "\n",
    "        b+=1\n",
    "        \n",
    "        y_pred = model(x,var = varience)\n",
    "\n",
    "        # assert torch.count_nonzero(y_pred) != 16000.0, print(torch.count_nonzero(y_pred))\n",
    "\n",
    "        pred_index = torch.argmax(y_pred,dim = 1)\n",
    "        actual_index = torch.argmax(x,dim = 1)\n",
    "\n",
    "        # loss = criterion(torch.log(y_pred), actual_index)\n",
    "        loss = criterion((y_pred), actual_index)\n",
    "\n",
    "        batch_corr = torch.sum(pred_index == actual_index)\n",
    "        trn_corr += batch_corr\n",
    "\n",
    "        optimizer.zero_grad()\n",
    "        loss.backward()\n",
    "        optimizer.step()\n",
    "\n",
    "        if b%8 == 0:\n",
    "            fp.write(f'epoch: {i}  batch: {b} [{batch*b:6}/{x_train.shape[0]}]  loss: {loss.item():10.8f}  accuracy: {trn_corr.item()*100/(batch*b):7.3f}%')\n",
    "                \n",
    "            fp.write('\\n')\n",
    "            \n",
    "    accuracy[i] = trn_corr.item()*100/(batch*b)\n",
    "    train_losses.append(loss.item())\n",
    "\n",
    "    with torch.no_grad():\n",
    "        for val in val_loader:\n",
    "\n",
    "            y_val = model(val,var = varience)\n",
    "\n",
    "            pred_val_index = torch.argmax(y_val,dim = 1)\n",
    "            actual_val_index = torch.argmax(val,dim = 1)\n",
    "            \n",
    "            tst_corr += torch.sum(pred_val_index == actual_val_index)\n",
    "   \n",
    "        # loss = criterion(torch.log(y_val), actual_val_index)\n",
    "        loss = criterion((y_val), actual_val_index)\n",
    "        val_losses.append(loss.item())\n",
    "\n",
    "fp.close()\n",
    "fp = open('3hd_AE.txt',\"a\")\n",
    "fp.write(f'\\nDuration: {time.time() - start_time:.0f} seconds')\n",
    "fp.close()"
   ]
  },
  {
   "cell_type": "code",
   "execution_count": 12,
   "metadata": {},
   "outputs": [
    {
     "data": {
      "image/png": "[encoded data removed]",
      "text/plain": [
       "<Figure size 432x288 with 1 Axes>"
      ]
     },
     "metadata": {
      "needs_background": "light"
     },
     "output_type": "display_data"
    }
   ],
   "source": [
    "key,value = zip(*sorted(accuracy.items()))\n",
    "plt.xlabel('number of epochs')\n",
    "plt.ylabel(\"accuracy\")\n",
    "plt.plot(key,value);"
   ]
  },
  {
   "cell_type": "code",
   "execution_count": 13,
   "metadata": {},
   "outputs": [
    {
     "data": {
      "image/png": "[encoded data removed]",
      "text/plain": [
       "<Figure size 432x288 with 1 Axes>"
      ]
     },
     "metadata": {
      "needs_background": "light"
     },
     "output_type": "display_data"
    }
   ],
   "source": [
    "plt.plot(train_losses, label='training loss')\n",
    "plt.plot(val_losses, label='validation loss')\n",
    "plt.title('Loss over training and validation sets')\n",
    "plt.legend();"
   ]
  },
  {
   "cell_type": "markdown",
   "metadata": {},
   "source": [
    "#### till here"
   ]
  },
  {
   "cell_type": "code",
   "execution_count": 14,
   "metadata": {},
   "outputs": [],
   "source": [
    "total_data = torch.cat((x_torch_train,x_torch_val))\n",
    "big_train = DataLoader(total_data,batch_size = batch)"
   ]
  },
  {
   "cell_type": "code",
   "execution_count": 15,
   "metadata": {},
   "outputs": [
    {
     "name": "stdout",
     "output_type": "stream",
     "text": [
      "tensor(0.0002)\n",
      "tensor(99975)\n"
     ]
    }
   ],
   "source": [
    "model.eval()\n",
    "with torch.no_grad():\n",
    "    corr_batch = 0\n",
    "    for set in big_train:\n",
    "        y_val = model(set,var = varience)\n",
    "        # print(y_val.size())\n",
    "        predicted_tot_train_index = torch.argmax(y_val,dim = 1)\n",
    "        actual_tot_train_index = torch.argmax(set,dim = 1)\n",
    "        \n",
    "        corr_batch += torch.sum(predicted_tot_train_index == actual_tot_train_index)\n",
    "        # print(accuracy_score(predicted_new_test,check))\n",
    "    print(1 - corr_batch/total_data.shape[0])\n",
    "    print(corr_batch)"
   ]
  },
  {
   "cell_type": "code",
   "execution_count": 16,
   "metadata": {},
   "outputs": [
    {
     "name": "stdout",
     "output_type": "stream",
     "text": [
      "torch.Size([100000, 16])\n"
     ]
    }
   ],
   "source": [
    "block = np.random.randint(1,10,size = (100000,4))%2\n",
    "map_block = np.zeros((block.shape[0],2**(block.shape[1])))\n",
    "for i in range(block.shape[0]):\n",
    "    map_block[i] = encod_map(block[i])\n",
    "test = torch.from_numpy(map_block).float()\n",
    "print(test.shape)\n",
    "test_loader = DataLoader(test,batch_size = 100000)"
   ]
  },
  {
   "cell_type": "code",
   "execution_count": 17,
   "metadata": {},
   "outputs": [
    {
     "name": "stdout",
     "output_type": "stream",
     "text": [
      "tensor(0.0001)\n",
      "tensor(99986.)\n"
     ]
    }
   ],
   "source": [
    "model.eval()\n",
    "with torch.no_grad():\n",
    "    corr = 0.0\n",
    "    for test_samp in test_loader:\n",
    "        # print(type(test_samp))\n",
    "        y_test = model.encode_data(test_samp)\n",
    "        # print(y_test)\n",
    "        # print(y_test.size())\n",
    "        # print(torch.linalg.norm(y_test,dim = 1))\n",
    "        y_test = model.normalize(y_test)\n",
    "        # print(y_test)\n",
    "        # print(torch.linalg.norm(y_test,dim = 1))\n",
    "        y_test = model.add_noise(y_test,var = varience)\n",
    "        # print(y_test)\n",
    "        y_test = model.decode_data(y_test)\n",
    "        # print(y_test)\n",
    "        # print(y_val.size())\n",
    "        predicted_test_index = torch.argmax(y_test,dim = 1)\n",
    "        # print(predicted_test_index)\n",
    "        actual_test_index = torch.argmax(test_samp,dim = 1)\n",
    "        corr += torch.sum(predicted_test_index == actual_test_index)\n",
    "        # print(accuracy_score(predicted_test_index,actual_test_index))\n",
    "    print(1 - corr/test.size()[0])\n",
    "    print(corr)"
   ]
  },
  {
   "cell_type": "code",
   "execution_count": 18,
   "metadata": {},
   "outputs": [],
   "source": [
    "var_ls = np.linspace(1,10,20)"
   ]
  },
  {
   "cell_type": "code",
   "execution_count": 19,
   "metadata": {},
   "outputs": [],
   "source": [
    "model.eval()\n",
    "with torch.no_grad():\n",
    "    bler = {}\n",
    "    for samp_var in var_ls:\n",
    "        corr = 0.0\n",
    "        for test_samp in test_loader:\n",
    "            # print(type(test_samp))\n",
    "            y_test = model.encode_data(test_samp)\n",
    "            # print(y_test)\n",
    "            # print(y_test.size())\n",
    "            # print(torch.linalg.norm(y_test,dim = 1))\n",
    "            y_test = model.normalize(y_test)\n",
    "            # print(y_test)\n",
    "            # print(torch.linalg.norm(y_test,dim = 1))\n",
    "            y_test = model.add_noise(y_test,var = samp_var)\n",
    "            # print(y_test)\n",
    "            y_test = model.decode_data(y_test)\n",
    "            # print(y_test)\n",
    "            # print(y_val.size())\n",
    "            model.EbNoChannel(var = samp_var)\n",
    "            predicted_test_index = torch.argmax(y_test,dim = 1)\n",
    "            # print(predicted_test_index)\n",
    "            actual_test_index = torch.argmax(test_samp,dim = 1)\n",
    "            corr += torch.sum(predicted_test_index == actual_test_index)\n",
    "        bler[model.channel] = (1 - corr/test.size()[0])"
   ]
  },
  {
   "cell_type": "code",
   "execution_count": 31,
   "metadata": {},
   "outputs": [
    {
     "data": {
      "image/png": "[encoded data removed]",
      "text/plain": [
       "<Figure size 432x288 with 1 Axes>"
      ]
     },
     "metadata": {
      "needs_background": "light"
     },
     "output_type": "display_data"
    }
   ],
   "source": [
    "key,value = zip(*sorted(bler.items()))\n",
    "plt.xlabel(\"SNR\")\n",
    "plt.ylabel(\"BLER\")\n",
    "plt.yticks([1e-4,1e-3,1e-2,1e-1,1.0])\n",
    "plt.plot(key,value);"
   ]
  },
  {
   "cell_type": "code",
   "execution_count": 21,
   "metadata": {},
   "outputs": [
    {
     "data": {
      "text/plain": [
       "{4.569619513137056: tensor(0.0002),\n",
       " 2.3196195131370554: tensor(0.0025),\n",
       " 1.1642141077316501: tensor(0.0110),\n",
       " 0.4609238609631423: tensor(0.0262),\n",
       " -0.012198668681126179: tensor(0.0469),\n",
       " -0.3522554868629446: tensor(0.0733),\n",
       " -0.6084626786437666: tensor(0.0998),\n",
       " -0.8084292673507496: tensor(0.1280),\n",
       " -0.9688420253244829: tensor(0.1557),\n",
       " -1.1003804868629445: tensor(0.1857),\n",
       " -1.2101970006244125: tensor(0.2104),\n",
       " -1.303261842795148: tensor(0.2362),\n",
       " -1.3831363923747557: tensor(0.2601),\n",
       " -1.4524393103923563: tensor(0.2820),\n",
       " -1.5131391075525997: tensor(0.3056),\n",
       " -1.5667441232265809: tensor(0.3272),\n",
       " -1.6144295666175457: tensor(0.3480),\n",
       " -1.6571246729094562: tensor(0.3641),\n",
       " -1.6955738570286902: tensor(0.3782),\n",
       " -1.7303804868629447: tensor(0.3964)}"
      ]
     },
     "execution_count": 21,
     "metadata": {},
     "output_type": "execute_result"
    }
   ],
   "source": [
    "bler"
   ]
  }
 ],
 "metadata": {
  "kernelspec": {
   "display_name": "Python 3.7.10 ('basic')",
   "language": "python",
   "name": "python3"
  },
  "language_info": {
   "codemirror_mode": {
    "name": "ipython",
    "version": 3
   },
   "file_extension": ".py",
   "mimetype": "text/x-python",
   "name": "python",
   "nbconvert_exporter": "python",
   "pygments_lexer": "ipython3",
   "version": "3.7.10"
  },
  "orig_nbformat": 4,
  "vscode": {
   "interpreter": {
    "hash": "cbb9b752b2e00d79181b10810213ec250859823ac34c680a70252b6b3a1c26f5"
   }
  }
 },
 "nbformat": 4,
 "nbformat_minor": 2
}
