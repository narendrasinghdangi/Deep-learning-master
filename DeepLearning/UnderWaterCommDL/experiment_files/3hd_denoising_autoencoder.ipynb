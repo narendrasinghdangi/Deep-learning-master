{
 "cells": [
  {
   "cell_type": "code",
   "execution_count": 1,
   "metadata": {},
   "outputs": [],
   "source": [
    "import numpy as np\n",
    "import matplotlib.pyplot as plt\n",
    "from sklearn.model_selection import train_test_split\n",
    "import torch.nn as nn\n",
    "import torch.nn.functional as F\n",
    "from torch.utils.data import DataLoader\n",
    "import torch\n",
    "import time"
   ]
  },
  {
   "cell_type": "code",
   "execution_count": 2,
   "metadata": {},
   "outputs": [],
   "source": [
    "def encod_map(x):\n",
    "    e = np.zeros(16).astype(int)\n",
    "    index = int(\"\".join(str(y) for y in x), 2)\n",
    "    e[index] = 1\n",
    "    return  e"
   ]
  },
  {
   "cell_type": "code",
   "execution_count": 3,
   "metadata": {},
   "outputs": [],
   "source": [
    "X = np.random.randint(1,10,size=(100000,4))%2"
   ]
  },
  {
   "cell_type": "code",
   "execution_count": 4,
   "metadata": {},
   "outputs": [],
   "source": [
    "Y = np.mean(X,axis = 1)"
   ]
  },
  {
   "cell_type": "code",
   "execution_count": 5,
   "metadata": {},
   "outputs": [],
   "source": [
    "x_train,x_test = train_test_split(X,test_size=0.2,random_state=4,stratify=Y)"
   ]
  },
  {
   "cell_type": "code",
   "execution_count": 6,
   "metadata": {},
   "outputs": [],
   "source": [
    "x_new_train = np.zeros((x_train.shape[0],2**(x_train.shape[1])))\n",
    "for i in range(x_train.shape[0]):\n",
    "    x_new_train[i] = encod_map(x_train[i])"
   ]
  },
  {
   "cell_type": "code",
   "execution_count": 7,
   "metadata": {},
   "outputs": [],
   "source": [
    "x_new_test = np.zeros((x_test.shape[0],2**(x_test.shape[1])))\n",
    "for i in range(x_test.shape[0]):\n",
    "    x_new_test[i] = encod_map(x_test[i])"
   ]
  },
  {
   "cell_type": "code",
   "execution_count": 8,
   "metadata": {},
   "outputs": [
    {
     "name": "stdout",
     "output_type": "stream",
     "text": [
      "(array([], dtype=int64),)\n",
      "(array([], dtype=int64),)\n"
     ]
    }
   ],
   "source": [
    "print(np.where(np.sum(x_new_train,axis=1) != 1))\n",
    "print(np.where(np.sum(x_new_test,axis=1) != 1))"
   ]
  },
  {
   "cell_type": "code",
   "execution_count": 9,
   "metadata": {},
   "outputs": [],
   "source": [
    "x_torch_train = torch.from_numpy(x_new_train).float()\n",
    "x_torch_test = torch.from_numpy(x_new_test).float()"
   ]
  },
  {
   "cell_type": "code",
   "execution_count": 10,
   "metadata": {},
   "outputs": [],
   "source": [
    "nf = 0.2"
   ]
  },
  {
   "cell_type": "code",
   "execution_count": 11,
   "metadata": {},
   "outputs": [],
   "source": [
    "x_torch_train_noisy = x_torch_train + nf * torch.randn(x_new_train.shape)\n",
    "x_torch_test_noisy = x_torch_test + nf * torch.randn(x_new_test.shape)"
   ]
  },
  {
   "cell_type": "code",
   "execution_count": 12,
   "metadata": {},
   "outputs": [],
   "source": [
    "batch = 500"
   ]
  },
  {
   "cell_type": "code",
   "execution_count": 13,
   "metadata": {},
   "outputs": [],
   "source": [
    "train_loader = DataLoader(x_torch_train,batch_size = batch,shuffle = False)\n",
    "test_loader = DataLoader(x_torch_test,batch_size = batch,shuffle = False)"
   ]
  },
  {
   "cell_type": "code",
   "execution_count": 14,
   "metadata": {},
   "outputs": [],
   "source": [
    "noisy_train_loader = DataLoader(x_torch_train_noisy,batch_size = batch,shuffle = False)\n",
    "noisy_test_loader = DataLoader(x_torch_test_noisy,batch_size = batch,shuffle = False)"
   ]
  },
  {
   "cell_type": "code",
   "execution_count": 15,
   "metadata": {},
   "outputs": [],
   "source": [
    "class hd3_autoencoder(nn.Module):\n",
    "    def __init__(self, in_sz = 16, out_sz = 16, layers=[7,7,7]):\n",
    "        super().__init__()\n",
    "        self.layer1 = nn.Linear(in_sz,layers[0])\n",
    "        self.relu = nn.ReLU()\n",
    "        self.layer2 = nn.Linear(layers[0],layers[1])\n",
    "        self.relu = nn.ReLU()\n",
    "        self.layer3 = nn.Linear(layers[1],layers[2])\n",
    "        self.relu = nn.ReLU()\n",
    "        self.layer4 = nn.Linear(layers[2],out_sz)\n",
    "        self.logsoftmax = nn.LogSoftmax()\n",
    "\n",
    "    def forward(self,X):\n",
    "        out1 = self.relu(self.layer1(X))\n",
    "        out2 = self.relu(self.layer2(out1))\n",
    "        self.out_bef_noise = out2\n",
    "        self.encoded_sig = self.normalize(self.out_bef_noise)\n",
    "        self.encoded_sig = self.relu(self.layer3(self.encoded_sig))\n",
    "        out = self.logsoftmax(self.layer4(self.encoded_sig))\n",
    "        self.output = out\n",
    "        return out\n",
    "    \n",
    "    def encoded_msg(self):\n",
    "        return self.encoded_sig\n",
    "    \n",
    "    def normalize(self,sig):\n",
    "        norm = torch.zeros(sig.size()[0],1)\n",
    "        norm[:,0] = (torch.linalg.norm(sig,dim = 1))\n",
    "        norm = norm.expand(-1,sig.size()[1])\n",
    "        sig = torch.div(sig,norm)\n",
    "        sig = sig * 7\n",
    "        return sig"
   ]
  },
  {
   "cell_type": "code",
   "execution_count": 16,
   "metadata": {},
   "outputs": [
    {
     "data": {
      "text/plain": [
       "hd3_autoencoder(\n",
       "  (layer1): Linear(in_features=16, out_features=7, bias=True)\n",
       "  (relu): ReLU()\n",
       "  (layer2): Linear(in_features=7, out_features=7, bias=True)\n",
       "  (layer3): Linear(in_features=7, out_features=7, bias=True)\n",
       "  (layer4): Linear(in_features=7, out_features=16, bias=True)\n",
       "  (logsoftmax): LogSoftmax(dim=None)\n",
       ")"
      ]
     },
     "execution_count": 16,
     "metadata": {},
     "output_type": "execute_result"
    }
   ],
   "source": [
    "model = hd3_autoencoder(layers = [7,7,7])\n",
    "model"
   ]
  },
  {
   "cell_type": "code",
   "execution_count": 17,
   "metadata": {},
   "outputs": [],
   "source": [
    "criterion = nn.NLLLoss()\n",
    "optimizer = torch.optim.Adam(model.parameters(), lr=0.01)"
   ]
  },
  {
   "cell_type": "code",
   "execution_count": 18,
   "metadata": {},
   "outputs": [
    {
     "name": "stderr",
     "output_type": "stream",
     "text": [
      "/home/lohith/chida/environments/basic/lib/python3.7/site-packages/ipykernel_launcher.py:19: UserWarning: Implicit dimension choice for log_softmax has been deprecated. Change the call to include dim=X as an argument.\n",
      "/home/lohith/chida/environments/basic/lib/python3.7/site-packages/torch/autograd/__init__.py:175: UserWarning: CUDA initialization: The NVIDIA driver on your system is too old (found version 9000). Please update your GPU driver by downloading and installing a new version from the URL: http://www.nvidia.com/Download/index.aspx Alternatively, go to: https://pytorch.org to install a PyTorch version that has been compiled with your version of the CUDA driver. (Triggered internally at  ../c10/cuda/CUDAFunctions.cpp:112.)\n",
      "  allow_unreachable=True, accumulate_grad=True)  # Calls into the C++ engine to run the backward pass\n"
     ]
    }
   ],
   "source": [
    "\n",
    "import time\n",
    "start_time = time.time()\n",
    "\n",
    "epochs = 50\n",
    "train_losses_3hd = []\n",
    "test_losses_3hd = []\n",
    "train_correct_3hd = []\n",
    "test_correct_3hd = []\n",
    "\n",
    "fp = open('3hd_unitvar.txt',\"w\")\n",
    "for i in range(epochs):\n",
    "    trn_corr = 0\n",
    "    tst_corr = 0\n",
    "    \n",
    "\n",
    "    for b,(x,y) in enumerate(zip(noisy_train_loader,train_loader)):\n",
    "\n",
    "        b += 1\n",
    "        y_pred = model(x.view(batch,-1))\n",
    "        pred_index = torch.argmax(y_pred,dim = 1)\n",
    "        actual_index = torch.argmax(y,dim = 1)\n",
    "        loss = criterion((y_pred), actual_index)\n",
    "\n",
    "        \n",
    "        batch_corr = torch.sum(pred_index == actual_index)\n",
    "        trn_corr += batch_corr\n",
    "\n",
    "        optimizer.zero_grad()\n",
    "        loss.backward()\n",
    "        optimizer.step()\n",
    "\n",
    "        if b%20 == 0:\n",
    "            fp.write(f'epoch: {i}  batch: {b} [{batch*(b):6}/{x_train.shape[0]}]  loss: {loss.item():10.8f}  \\\n",
    "accuracy: {trn_corr.item()*100/(batch*b):7.3f}%')\n",
    "            fp.write('\\n')\n",
    "        \n",
    "    train_losses_3hd.append(loss.item())\n",
    "    train_correct_3hd.append(trn_corr)\n",
    "\n",
    "    with torch.no_grad():\n",
    "        for test,y_test in zip(noisy_test_loader,test_loader):\n",
    "\n",
    "            y_val = model(test.view(batch, -1))\n",
    "\n",
    "            pred_val_index = torch.argmax(y_val,dim = 1)\n",
    "            actual_val_index = torch.argmax(y_test,dim = 1)\n",
    "            \n",
    "            tst_corr += torch.sum(pred_val_index == actual_val_index)\n",
    "    \n",
    "    loss = criterion(y_val, actual_val_index)\n",
    "    test_losses_3hd.append(loss.item())\n",
    "    test_correct_3hd.append(tst_corr)\n",
    "\n",
    "fp.close()\n",
    "fp = open('3hd_unitvar.txt',\"a\")\n",
    "fp.write(f'\\nDuration: {time.time() - start_time:.0f} seconds')\n",
    "fp.close()  # ouput written on output.txt"
   ]
  },
  {
   "cell_type": "code",
   "execution_count": 19,
   "metadata": {},
   "outputs": [
    {
     "data": {
      "image/png": "[encoded data removed]",
      "text/plain": [
       "<Figure size 432x288 with 1 Axes>"
      ]
     },
     "metadata": {
      "needs_background": "light"
     },
     "output_type": "display_data"
    }
   ],
   "source": [
    "plt.plot(train_losses_3hd, label='training loss')\n",
    "plt.plot(test_losses_3hd, label='validation loss')\n",
    "plt.title('Loss at the end of each epoch')\n",
    "plt.legend();"
   ]
  }
 ],
 "metadata": {
  "kernelspec": {
   "display_name": "Python 3.7.10 ('basic')",
   "language": "python",
   "name": "python3"
  },
  "language_info": {
   "codemirror_mode": {
    "name": "ipython",
    "version": 3
   },
   "file_extension": ".py",
   "mimetype": "text/x-python",
   "name": "python",
   "nbconvert_exporter": "python",
   "pygments_lexer": "ipython3",
   "version": "3.7.10"
  },
  "orig_nbformat": 4,
  "vscode": {
   "interpreter": {
    "hash": "cbb9b752b2e00d79181b10810213ec250859823ac34c680a70252b6b3a1c26f5"
   }
  }
 },
 "nbformat": 4,
 "nbformat_minor": 2
}
