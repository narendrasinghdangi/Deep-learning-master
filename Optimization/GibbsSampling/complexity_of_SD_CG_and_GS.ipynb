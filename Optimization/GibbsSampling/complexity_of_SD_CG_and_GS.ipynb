{
  "cells": [
    {
      "cell_type": "code",
      "execution_count": null,
      "metadata": {
        "id": "oin50lDbRRxO"
      },
      "outputs": [],
      "source": [
        "import numpy as np\n",
        "from scipy.io import loadmat"
      ]
    },
    {
      "cell_type": "markdown",
      "metadata": {
        "id": "hfoRwUyZPOby"
      },
      "source": [
        "# importing mat files"
      ]
    },
    {
      "cell_type": "code",
      "execution_count": null,
      "metadata": {
        "id": "QU5he-MjQyKl"
      },
      "outputs": [],
      "source": [
        "\n",
        "mat1 = loadmat('ForceVec.mat')"
      ]
    },
    {
      "cell_type": "code",
      "execution_count": null,
      "metadata": {
        "colab": {
          "base_uri": "https://localhost:8080/"
        },
        "id": "gSyRmTjHQ_pC",
        "outputId": "443ef671-7caa-48a0-eb3a-7ab2c1f9c1d8"
      },
      "outputs": [
        {
          "data": {
            "text/plain": [
              "dict_keys(['__header__', '__version__', '__globals__', 'B'])"
            ]
          },
          "execution_count": 3,
          "metadata": {},
          "output_type": "execute_result"
        }
      ],
      "source": [
        "mat1.keys()"
      ]
    },
    {
      "cell_type": "code",
      "execution_count": null,
      "metadata": {
        "colab": {
          "base_uri": "https://localhost:8080/"
        },
        "id": "ld0VRwTYR0sa",
        "outputId": "9f1d119b-eded-4fe7-8a64-5f473cd45e6c"
      },
      "outputs": [
        {
          "data": {
            "text/plain": [
              "dict_items([('__header__', b'MATLAB 5.0 MAT-file, Platform: PCWIN64, Created on: Tue Mar  8 16:37:11 2022'), ('__version__', '1.0'), ('__globals__', []), ('B', array([[ -0.        ],\n",
              "       [ -0.        ],\n",
              "       [ -0.        ],\n",
              "       [ -0.        ],\n",
              "       [ -0.        ],\n",
              "       [ -0.        ],\n",
              "       [ -0.        ],\n",
              "       [ -0.        ],\n",
              "       [ -0.        ],\n",
              "       [ -0.        ],\n",
              "       [375.        ],\n",
              "       [ -0.        ],\n",
              "       [ -0.        ],\n",
              "       [ -0.        ],\n",
              "       [ -0.        ],\n",
              "       [ -0.        ],\n",
              "       [ -0.        ],\n",
              "       [ -0.        ],\n",
              "       [ -0.        ],\n",
              "       [117.32584878],\n",
              "       [ -0.        ],\n",
              "       [ -0.        ],\n",
              "       [ -0.        ],\n",
              "       [ -0.        ],\n",
              "       [ -0.        ],\n",
              "       [ -0.        ],\n",
              "       [ -0.        ],\n",
              "       [ -0.        ],\n",
              "       [231.76274578],\n",
              "       [ -0.        ],\n",
              "       [ -0.        ],\n",
              "       [ -0.        ],\n",
              "       [ -0.        ],\n",
              "       [ -0.        ],\n",
              "       [ -0.        ],\n",
              "       [ -0.        ],\n",
              "       [ -0.        ],\n",
              "       [340.4928748 ],\n",
              "       [ -0.        ],\n",
              "       [ -0.        ],\n",
              "       [ -0.        ],\n",
              "       [ -0.        ],\n",
              "       [ -0.        ],\n",
              "       [ -0.        ],\n",
              "       [ -0.        ],\n",
              "       [ -0.        ],\n",
              "       [440.83893922],\n",
              "       [ -0.        ],\n",
              "       [ -0.        ],\n",
              "       [ -0.        ],\n",
              "       [ -0.        ],\n",
              "       [ -0.        ],\n",
              "       [ -0.        ],\n",
              "       [ -0.        ],\n",
              "       [ -0.        ],\n",
              "       [530.33008589],\n",
              "       [ -0.        ],\n",
              "       [ -0.        ],\n",
              "       [ -0.        ],\n",
              "       [ -0.        ],\n",
              "       [ -0.        ],\n",
              "       [ -0.        ],\n",
              "       [ -0.        ],\n",
              "       [ -0.        ],\n",
              "       [606.76274578],\n",
              "       [ -0.        ],\n",
              "       [ -0.        ],\n",
              "       [ -0.        ],\n",
              "       [ -0.        ],\n",
              "       [ -0.        ],\n",
              "       [ -0.        ],\n",
              "       [ -0.        ],\n",
              "       [ -0.        ],\n",
              "       [668.25489314],\n",
              "       [ -0.        ],\n",
              "       [ -0.        ],\n",
              "       [ -0.        ],\n",
              "       [ -0.        ],\n",
              "       [ -0.        ],\n",
              "       [ -0.        ],\n",
              "       [ -0.        ],\n",
              "       [ -0.        ],\n",
              "       [713.29238722],\n",
              "       [ -0.        ],\n",
              "       [ -0.        ],\n",
              "       [ -0.        ],\n",
              "       [ -0.        ],\n",
              "       [ -0.        ],\n",
              "       [ -0.        ],\n",
              "       [ -0.        ],\n",
              "       [ -0.        ],\n",
              "       [740.76625545],\n",
              "       [ -0.        ],\n",
              "       [ -0.        ],\n",
              "       [ -0.        ],\n",
              "       [ -0.        ],\n",
              "       [ -0.        ],\n",
              "       [ -0.        ],\n",
              "       [ -0.        ],\n",
              "       [ -0.        ]]))])"
            ]
          },
          "execution_count": 4,
          "metadata": {},
          "output_type": "execute_result"
        }
      ],
      "source": [
        "mat1.items()"
      ]
    },
    {
      "cell_type": "code",
      "execution_count": null,
      "metadata": {
        "colab": {
          "base_uri": "https://localhost:8080/"
        },
        "id": "WZ_5SgU_SFSx",
        "outputId": "8da89794-18cc-48f9-e629-ec16a7084e83"
      },
      "outputs": [
        {
          "data": {
            "text/plain": [
              "(100, 1)"
            ]
          },
          "execution_count": 5,
          "metadata": {},
          "output_type": "execute_result"
        }
      ],
      "source": [
        "mat1['B'].shape"
      ]
    },
    {
      "cell_type": "code",
      "execution_count": null,
      "metadata": {
        "id": "aMalNeH8Stoo"
      },
      "outputs": [],
      "source": [
        "mat2 = loadmat('Stiffness.mat')"
      ]
    },
    {
      "cell_type": "code",
      "execution_count": null,
      "metadata": {
        "colab": {
          "base_uri": "https://localhost:8080/"
        },
        "id": "njBSNYbTS00C",
        "outputId": "d6b68725-a56b-43af-9cc8-b56e9714dfb9"
      },
      "outputs": [
        {
          "data": {
            "text/plain": [
              "dict_keys(['__header__', '__version__', '__globals__', 'K'])"
            ]
          },
          "execution_count": 7,
          "metadata": {},
          "output_type": "execute_result"
        }
      ],
      "source": [
        "\n",
        "mat2.keys()"
      ]
    },
    {
      "cell_type": "code",
      "execution_count": null,
      "metadata": {
        "colab": {
          "base_uri": "https://localhost:8080/"
        },
        "id": "0qz4hIzoS2kN",
        "outputId": "8b2da430-aa27-418e-c6cc-1f62611c204c"
      },
      "outputs": [
        {
          "data": {
            "text/plain": [
              "dict_items([('__header__', b'MATLAB 5.0 MAT-file, Platform: PCWIN64, Created on: Tue Mar  8 16:36:32 2022'), ('__version__', '1.0'), ('__globals__', []), ('K', array([[ 1.08333333, -0.33333333,  0.        , ...,  0.        ,\n",
              "         0.        ,  0.        ],\n",
              "       [-0.33333333,  2.16666667, -0.33333333, ...,  0.        ,\n",
              "         0.        , -1.5       ],\n",
              "       [ 0.        , -0.33333333,  2.16666667, ...,  0.        ,\n",
              "         0.        ,  0.        ],\n",
              "       ...,\n",
              "       [ 0.        ,  0.        ,  0.        , ...,  4.33333333,\n",
              "        -1.5       ,  0.        ],\n",
              "       [ 0.        ,  0.        ,  0.        , ..., -1.5       ,\n",
              "         4.33333333, -1.5       ],\n",
              "       [ 0.        , -1.5       ,  0.        , ...,  0.        ,\n",
              "        -1.5       ,  4.33333333]]))])"
            ]
          },
          "execution_count": 8,
          "metadata": {},
          "output_type": "execute_result"
        }
      ],
      "source": [
        "mat2.items()"
      ]
    },
    {
      "cell_type": "code",
      "execution_count": null,
      "metadata": {
        "colab": {
          "base_uri": "https://localhost:8080/"
        },
        "id": "lRheJrcRS6W6",
        "outputId": "ba6afe2d-98c5-42cd-81bc-aa7819670f71"
      },
      "outputs": [
        {
          "data": {
            "text/plain": [
              "(100, 100)"
            ]
          },
          "execution_count": 9,
          "metadata": {},
          "output_type": "execute_result"
        }
      ],
      "source": [
        "mat2['K'].shape"
      ]
    },
    {
      "cell_type": "code",
      "execution_count": null,
      "metadata": {
        "colab": {
          "base_uri": "https://localhost:8080/"
        },
        "id": "sFxQk5tZPuvs",
        "outputId": "10af5800-59cc-46ef-92c0-0624dab1bc04"
      },
      "outputs": [
        {
          "data": {
            "text/plain": [
              "numpy.ndarray"
            ]
          },
          "execution_count": 10,
          "metadata": {},
          "output_type": "execute_result"
        }
      ],
      "source": [
        "type(mat2['K'])"
      ]
    },
    {
      "cell_type": "code",
      "execution_count": null,
      "metadata": {
        "id": "CwlBCFN9TPhh"
      },
      "outputs": [],
      "source": [
        "ForceVec = mat1['B']\n",
        "stiffness = mat2['K']"
      ]
    },
    {
      "cell_type": "code",
      "execution_count": null,
      "metadata": {
        "colab": {
          "base_uri": "https://localhost:8080/"
        },
        "id": "TMCu9ZedThw4",
        "outputId": "d99e704e-ee09-4d80-ce8f-71fa5f494985"
      },
      "outputs": [
        {
          "name": "stdout",
          "output_type": "stream",
          "text": [
            "<class 'numpy.ndarray'> <class 'numpy.ndarray'>\n"
          ]
        }
      ],
      "source": [
        "print(type(ForceVec),type(stiffness))"
      ]
    },
    {
      "cell_type": "markdown",
      "metadata": {
        "id": "6UcRnH1eOBaZ"
      },
      "source": [
        "# Steepest_descent\n"
      ]
    },
    {
      "cell_type": "code",
      "execution_count": null,
      "metadata": {
        "id": "J0DEOcLBOEou"
      },
      "outputs": [],
      "source": [
        "def steepest_descent(A,b,x):\n",
        "\n",
        "    if (np.all(np.linalg.eigvals(A) > 0) == False) | (A != A.T).any():\n",
        "        raise ValueError('Matrix A needs to be symmetric positive definite (SPD)')\n",
        "\n",
        "    residual = b - A @ x\n",
        "    num_iter = 0\n",
        "    residual_norm_init = (residual.T @ residual)\n",
        "    residual_norm_curr = residual_norm_init\n",
        "    epsilon = 1e-10\n",
        "    while (residual_norm_curr > (epsilon)*residual_norm_init):\n",
        "\n",
        "        temp = A @ residual\n",
        "        alpha = residual_norm_curr/(residual.T @ temp)\n",
        "        x = x + (alpha * residual)\n",
        "\n",
        "        if num_iter%10 == 0:\n",
        "            residual = b - A @ x\n",
        "\n",
        "        else:\n",
        "            residual = residual - (alpha * temp)\n",
        "\n",
        "        residual_norm_curr = (residual.T @ residual)\n",
        "        num_iter += 1\n",
        "\n",
        "    # print(np.linalg.norm(residual))\n",
        "    return x,num_iter"
      ]
    },
    {
      "cell_type": "code",
      "execution_count": null,
      "metadata": {
        "colab": {
          "base_uri": "https://localhost:8080/"
        },
        "id": "e8_IlIimRUum",
        "outputId": "2a935021-bf84-41fa-f166-2a1a40ff98a6"
      },
      "outputs": [
        {
          "name": "stdout",
          "output_type": "stream",
          "text": [
            "CPU times: user 811 µs, sys: 5.09 ms, total: 5.9 ms\n",
            "Wall time: 9.91 ms\n"
          ]
        }
      ],
      "source": [
        "%%time\n",
        "inverse_matrix = np.linalg.inv(stiffness) @ ForceVec"
      ]
    },
    {
      "cell_type": "code",
      "execution_count": null,
      "metadata": {
        "colab": {
          "base_uri": "https://localhost:8080/"
        },
        "id": "yn0qRzhdRgKc",
        "outputId": "0efc3255-0fbe-47ef-c294-aee44acd739f"
      },
      "outputs": [
        {
          "name": "stdout",
          "output_type": "stream",
          "text": [
            "CPU times: user 30.1 ms, sys: 44.7 ms, total: 74.7 ms\n",
            "Wall time: 62.2 ms\n"
          ]
        }
      ],
      "source": [
        "%%time\n",
        "starting_x = np.random.random((100,1))\n",
        "x,k = steepest_descent(stiffness,ForceVec,starting_x)"
      ]
    },
    {
      "cell_type": "code",
      "execution_count": null,
      "metadata": {
        "colab": {
          "base_uri": "https://localhost:8080/"
        },
        "id": "eXjrpK9ylHL2",
        "outputId": "65c1580b-cbef-4ee9-9225-4edac0a1989f"
      },
      "outputs": [
        {
          "data": {
            "text/plain": [
              "878"
            ]
          },
          "execution_count": 16,
          "metadata": {},
          "output_type": "execute_result"
        }
      ],
      "source": [
        "k"
      ]
    },
    {
      "cell_type": "code",
      "execution_count": null,
      "metadata": {
        "colab": {
          "base_uri": "https://localhost:8080/"
        },
        "id": "2SkTCvevSQ6J",
        "outputId": "a13328f7-a446-4daa-d00e-4541d751817c"
      },
      "outputs": [
        {
          "data": {
            "text/plain": [
              "0.2667130937003342"
            ]
          },
          "execution_count": 17,
          "metadata": {},
          "output_type": "execute_result"
        }
      ],
      "source": [
        "np.linalg.norm(x - inverse_matrix)"
      ]
    },
    {
      "cell_type": "markdown",
      "metadata": {
        "id": "vkNcQ9DeUHgg"
      },
      "source": [
        "# complexity of steepest descent"
      ]
    },
    {
      "cell_type": "code",
      "execution_count": null,
      "metadata": {
        "colab": {
          "base_uri": "https://localhost:8080/"
        },
        "id": "qK7g15kOUdYp",
        "outputId": "a9f4f209-d844-46bd-cd83-f67581f0ed6a"
      },
      "outputs": [
        {
          "name": "stdout",
          "output_type": "stream",
          "text": [
            "8.46616168907499 0.04364848232914995\n"
          ]
        }
      ],
      "source": [
        "lambda_max = max(np.linalg.eigvals(stiffness))\n",
        "lambda_min = min(np.linalg.eigvals(stiffness))\n",
        "print(lambda_max,lambda_min)"
      ]
    },
    {
      "cell_type": "code",
      "execution_count": null,
      "metadata": {
        "id": "iSnSz9dSUh3U"
      },
      "outputs": [],
      "source": [
        "spectral_radius = lambda_max"
      ]
    },
    {
      "cell_type": "code",
      "execution_count": null,
      "metadata": {
        "colab": {
          "base_uri": "https://localhost:8080/"
        },
        "id": "b0CC6vGMUvXk",
        "outputId": "65495c0f-cc3f-4c83-e70d-cb7df1901443"
      },
      "outputs": [
        {
          "name": "stdout",
          "output_type": "stream",
          "text": [
            "193.96233814574114\n"
          ]
        }
      ],
      "source": [
        "condition_number = abs(lambda_max/lambda_min)\n",
        "print(condition_number)"
      ]
    },
    {
      "cell_type": "code",
      "execution_count": null,
      "metadata": {
        "colab": {
          "base_uri": "https://localhost:8080/"
        },
        "id": "8FSkHs44U9Lr",
        "outputId": "9cd0556f-a920-4542-e25f-fd90b7ed6400"
      },
      "outputs": [
        {
          "name": "stdout",
          "output_type": "stream",
          "text": [
            "0.9977246871444824\n"
          ]
        }
      ],
      "source": [
        "import math\n",
        "omega_max = (k-1)/(k+1)\n",
        "print(omega_max)"
      ]
    },
    {
      "cell_type": "code",
      "execution_count": null,
      "metadata": {
        "id": "29WZDnJ_Zens"
      },
      "outputs": [],
      "source": [
        "epsilon = 1e-10\n",
        "steepest_max_iter = math.log(1/(epsilon))/math.log((condition_number+1)/(condition_number-1))"
      ]
    },
    {
      "cell_type": "code",
      "execution_count": null,
      "metadata": {
        "colab": {
          "base_uri": "https://localhost:8080/"
        },
        "id": "cGHITaGQaS6H",
        "outputId": "3d8c67a9-d7b4-4e95-e24a-9cc8c6945d4f"
      },
      "outputs": [
        {
          "data": {
            "text/plain": [
              "2233.054156443121"
            ]
          },
          "execution_count": 23,
          "metadata": {},
          "output_type": "execute_result"
        }
      ],
      "source": [
        "steepest_max_iter"
      ]
    },
    {
      "cell_type": "markdown",
      "metadata": {
        "id": "7T7flMTwcFC-"
      },
      "source": [
        "$O(max(sparsity,n)*steepest\\_max\\_iter) = O(n*steepest\\_max\\_iter)$\n",
        "\n",
        "$steepest\\_max\\_iter = \\frac{ln(1/ϵ)}{ln\\big(\\frac{κ+1}{κ-1}\\big)}$\n",
        "\n",
        "$κ = \\frac{λ_{max}}{λ_{min}}$"
      ]
    },
    {
      "cell_type": "markdown",
      "metadata": {
        "id": "FbxIvK9ZUJFL"
      },
      "source": [
        "# Conjugate_gradient"
      ]
    },
    {
      "cell_type": "code",
      "execution_count": null,
      "metadata": {
        "id": "-Jn1pr4NUMqn"
      },
      "outputs": [],
      "source": [
        "def conjugate_gradient(A,b,x,n):\n",
        "\n",
        "    if (np.all(np.linalg.eigvals(A) > 0) == False | (A != A.T).any()):\n",
        "        raise ValueError('Matrix A needs to be symmetric positive definite (SPD)')\n",
        "\n",
        "    r = b- A @ x\n",
        "    d = r\n",
        "    num_iter = 0\n",
        "    residual_norm_init = (r.T @ r)\n",
        "    residual_norm_curr = residual_norm_init\n",
        "    epsilon = 1e-10\n",
        "\n",
        "    while (residual_norm_curr > (epsilon)*residual_norm_init and num_iter < n):\n",
        "\n",
        "        p = A @ d\n",
        "        alpha = residual_norm_curr/(d.T @ p)\n",
        "        x = x + alpha * d\n",
        "        if num_iter%10 == 0:\n",
        "            r = b - A @ x\n",
        "        else:\n",
        "            r = r - alpha * p\n",
        "        temp = residual_norm_curr\n",
        "        residual_norm_curr = r.T @ r\n",
        "        beta = residual_norm_curr/temp\n",
        "        d = r + beta * d\n",
        "        num_iter = num_iter + 1\n",
        "\n",
        "    return x,num_iter"
      ]
    },
    {
      "cell_type": "code",
      "execution_count": null,
      "metadata": {
        "colab": {
          "base_uri": "https://localhost:8080/"
        },
        "id": "ZDdUHGd8pjhC",
        "outputId": "2efb59d7-89a9-4497-af63-e287e9b50c19"
      },
      "outputs": [
        {
          "name": "stdout",
          "output_type": "stream",
          "text": [
            "CPU times: user 1.25 ms, sys: 55 µs, total: 1.3 ms\n",
            "Wall time: 1.62 ms\n"
          ]
        }
      ],
      "source": [
        "%%time\n",
        "inverse_matrix = np.linalg.inv(stiffness) @ ForceVec"
      ]
    },
    {
      "cell_type": "code",
      "execution_count": null,
      "metadata": {
        "colab": {
          "base_uri": "https://localhost:8080/"
        },
        "id": "m5XvF8hQpqGW",
        "outputId": "cc5c720a-a4c4-4dd7-ff80-6e28a18db4fd"
      },
      "outputs": [
        {
          "name": "stdout",
          "output_type": "stream",
          "text": [
            "CPU times: user 6.63 ms, sys: 7 ms, total: 13.6 ms\n",
            "Wall time: 14 ms\n"
          ]
        }
      ],
      "source": [
        "%%time\n",
        "# x = np.zeros((100,1))\n",
        "x,num_iter = conjugate_gradient(stiffness,ForceVec,starting_x,100)"
      ]
    },
    {
      "cell_type": "code",
      "execution_count": null,
      "metadata": {
        "colab": {
          "base_uri": "https://localhost:8080/"
        },
        "id": "o0k5QfjLlYfv",
        "outputId": "dcfb40e8-1dd4-41b6-a6a2-6c6ae0d60772"
      },
      "outputs": [
        {
          "data": {
            "text/plain": [
              "41"
            ]
          },
          "execution_count": 27,
          "metadata": {},
          "output_type": "execute_result"
        }
      ],
      "source": [
        "num_iter"
      ]
    },
    {
      "cell_type": "code",
      "execution_count": null,
      "metadata": {
        "colab": {
          "base_uri": "https://localhost:8080/"
        },
        "id": "XyMCBVhLpuQ8",
        "outputId": "a03010fc-50a0-491e-870c-c10829a0dfb9"
      },
      "outputs": [
        {
          "data": {
            "text/plain": [
              "0.0040543865584149455"
            ]
          },
          "execution_count": 28,
          "metadata": {},
          "output_type": "execute_result"
        }
      ],
      "source": [
        "np.linalg.norm(x - inverse_matrix)"
      ]
    },
    {
      "cell_type": "markdown",
      "metadata": {
        "id": "NYajyIAA2tUL"
      },
      "source": [
        "# complexity of conjugate gradient"
      ]
    },
    {
      "cell_type": "code",
      "execution_count": null,
      "metadata": {
        "id": "cEzPCm0F2yB0"
      },
      "outputs": [],
      "source": [
        "epsilon = 1e-10\n",
        "temp = math.sqrt(condition_number)\n",
        "conjugate_max_iter = math.log(2/(epsilon))/math.log((temp+1)/(temp-1))"
      ]
    },
    {
      "cell_type": "code",
      "execution_count": null,
      "metadata": {
        "colab": {
          "base_uri": "https://localhost:8080/"
        },
        "id": "s0Cy3HCY3Gpc",
        "outputId": "c13e264c-7ccf-4ef6-95b6-0b5f2576f8d1"
      },
      "outputs": [
        {
          "data": {
            "text/plain": [
              "164.88343334982065"
            ]
          },
          "execution_count": 30,
          "metadata": {},
          "output_type": "execute_result"
        }
      ],
      "source": [
        "conjugate_max_iter"
      ]
    },
    {
      "cell_type": "code",
      "execution_count": null,
      "metadata": {
        "id": "N_ZLPXy04QRK"
      },
      "outputs": [],
      "source": [
        "omega = ((temp-1)/(temp+1))"
      ]
    },
    {
      "cell_type": "code",
      "execution_count": null,
      "metadata": {
        "colab": {
          "base_uri": "https://localhost:8080/"
        },
        "id": "AB9-w3oX4m-_",
        "outputId": "c3702322-6d87-4ce9-949f-c00aaffb2afc"
      },
      "outputs": [
        {
          "data": {
            "text/plain": [
              "0.8660149296074415"
            ]
          },
          "execution_count": 32,
          "metadata": {},
          "output_type": "execute_result"
        }
      ],
      "source": [
        "omega"
      ]
    },
    {
      "cell_type": "markdown",
      "metadata": {
        "id": "KhgKb8oQ6Dps"
      },
      "source": [
        "$O(max(sparsity,n)*conjugate\\_max\\_iter) = O(n*conjugate\\_max\\_iter)$\n",
        "\n",
        "$conjugate\\_max\\_iter = min\\Big(\\frac{ln(2/ϵ)}{ln\\big(\\frac{\\sqrt{k}+1}{\\sqrt{k} -1}\\big)},n \\Big)$\n",
        "\n",
        "$κ = \\frac{λ_{max}}{λ_{min}}$"
      ]
    },
    {
      "cell_type": "markdown",
      "metadata": {
        "id": "3ca4GiLc_ZFu"
      },
      "source": [
        "# Comparing steepest descent and conjugate gradient"
      ]
    },
    {
      "cell_type": "code",
      "execution_count": null,
      "metadata": {
        "id": "vs66rw5foLij"
      },
      "outputs": [],
      "source": [
        "def comp_steepest_descent(A,b,x,epsilon = 1e-10):\n",
        "\n",
        "    if (np.all(np.linalg.eigvals(A) > 0) == False) | (A != A.T).any():\n",
        "        raise ValueError('Matrix A needs to be symmetric positive definite (SPD)')\n",
        "\n",
        "    residual = b - A @ x\n",
        "    num_iter = 0\n",
        "    residual_norm_init = (residual.T @ residual)\n",
        "    residual_norm_curr = residual_norm_init\n",
        "    ls = []\n",
        "    k = []\n",
        "    while (residual_norm_curr > (epsilon)*residual_norm_init):\n",
        "        temp = A @ residual\n",
        "        alpha = residual_norm_curr/(residual.T @ temp)\n",
        "        x = x + (alpha * residual)\n",
        "\n",
        "        if num_iter%10 == 0:\n",
        "            residual = b - A @ x\n",
        "            ls.append(x)\n",
        "            k.append(num_iter)\n",
        "\n",
        "        else:\n",
        "            residual = residual - (alpha * temp)\n",
        "\n",
        "        residual_norm_curr = (residual.T @ residual)\n",
        "        num_iter += 1\n",
        "\n",
        "    ls = np.asarray(ls)\n",
        "    # print(np.linalg.norm(residual))\n",
        "    return x,num_iter,ls,k\n",
        "\n",
        "\n",
        "def comp_conjugate_gradient(A,b,x,n,epsilon = 1e-10):\n",
        "\n",
        "    if (np.all(np.linalg.eigvals(A) > 0) == False | (A != A.T).any()):\n",
        "        raise ValueError('Matrix A needs to be symmetric positive definite (SPD)')\n",
        "\n",
        "    r = b- A @ x\n",
        "    d = r\n",
        "    num_iter = 0\n",
        "    residual_norm_init = (r.T @ r)\n",
        "    residual_norm_curr = residual_norm_init\n",
        "    ls = []\n",
        "    k = []\n",
        "    while (residual_norm_curr > (epsilon)*residual_norm_init and num_iter < n):\n",
        "        p = A @ d\n",
        "        alpha = residual_norm_curr/(d.T @ p)\n",
        "        x = x + alpha * d\n",
        "        if num_iter%10 == 0:\n",
        "            r = b - A @ x\n",
        "            ls.append(x)\n",
        "            k.append(num_iter)\n",
        "        else:\n",
        "            r = r - alpha * p\n",
        "        temp = residual_norm_curr\n",
        "        residual_norm_curr = r.T @ r\n",
        "        beta = residual_norm_curr/temp\n",
        "        d = r + beta * d\n",
        "        num_iter = num_iter + 1\n",
        "\n",
        "    ls = np.asarray(ls)\n",
        "    return x,num_iter,ls,k\n",
        "\n",
        "def norm_calculator(curr_x,x):\n",
        "    return np.linalg.norm(curr_x - x)"
      ]
    },
    {
      "cell_type": "code",
      "execution_count": null,
      "metadata": {
        "id": "VQhGlFzCwDoK"
      },
      "outputs": [],
      "source": [
        "# %%time\n",
        "inverse = np.linalg.inv(stiffness) @ ForceVec"
      ]
    },
    {
      "cell_type": "code",
      "execution_count": null,
      "metadata": {
        "id": "P9y92CaT9x8Y"
      },
      "outputs": [],
      "source": [
        "x = np.random.random((100,1))"
      ]
    },
    {
      "cell_type": "code",
      "execution_count": null,
      "metadata": {
        "colab": {
          "base_uri": "https://localhost:8080/"
        },
        "id": "4zpu_bakveq_",
        "outputId": "b9b59880-8d51-4140-c64f-5c61b9ba819e"
      },
      "outputs": [
        {
          "name": "stdout",
          "output_type": "stream",
          "text": [
            "CPU times: user 42.5 ms, sys: 31.1 ms, total: 73.6 ms\n",
            "Wall time: 47.4 ms\n"
          ]
        }
      ],
      "source": [
        "%%time\n",
        "x_steepest,steepest_iter,arr1,k_steep = comp_steepest_descent(stiffness,ForceVec,x)\n",
        "steepest_norms = []\n",
        "for i in range(len(arr1)):\n",
        "    steepest_norms.append(norm_calculator(arr1[i],inverse))\n",
        "\n",
        "x_conjugate,conjugate_iter,arr2,k_conjugate = comp_conjugate_gradient(stiffness,ForceVec,x,100)\n",
        "conjugate_norms=[]\n",
        "for i in range(len(arr2)):\n",
        "    conjugate_norms.append(norm_calculator(arr2[i],inverse))\n",
        "\n",
        "final_steepest_norm = norm_calculator(x_steepest,inverse)\n",
        "final_conjugate_norm = norm_calculator(x_conjugate,inverse)"
      ]
    },
    {
      "cell_type": "code",
      "execution_count": null,
      "metadata": {
        "colab": {
          "base_uri": "https://localhost:8080/"
        },
        "id": "Keu4ph2Z99en",
        "outputId": "8d18978a-10b9-44ca-f44d-277754136c0b"
      },
      "outputs": [
        {
          "name": "stdout",
          "output_type": "stream",
          "text": [
            "Norm difference of final solution obtained by steepest_descent after 878 iterations is 0.2664364428918653\n",
            "Norm difference of final solution obtained by conjugate_gradient after 41 iterations is 0.004092750459702243\n"
          ]
        }
      ],
      "source": [
        "print(f'Norm difference of final solution obtained by steepest_descent after {steepest_iter} iterations is {final_steepest_norm}')\n",
        "print(f'Norm difference of final solution obtained by conjugate_gradient after {conjugate_iter} iterations is {final_conjugate_norm}')"
      ]
    },
    {
      "cell_type": "code",
      "execution_count": null,
      "metadata": {
        "id": "9u77t0n5zEmu"
      },
      "outputs": [],
      "source": [
        "num_iter = [0,10,20,30,40]"
      ]
    },
    {
      "cell_type": "code",
      "execution_count": null,
      "metadata": {
        "colab": {
          "base_uri": "https://localhost:8080/"
        },
        "id": "hJbaMpWdAE7V",
        "outputId": "c4bc20da-e89a-4bfa-8731-fcac11b8df75"
      },
      "outputs": [
        {
          "data": {
            "image/png": "[encoded data removed]",
            "text/plain": [
              "<Figure size 432x288 with 3 Axes>"
            ]
          },
          "metadata": {
            "needs_background": "light"
          },
          "output_type": "display_data"
        }
      ],
      "source": [
        "import matplotlib.pyplot as plt\n",
        "figure, axis = plt.subplots(1,3)\n",
        "axis[0].plot(k_steep,steepest_norms)\n",
        "axis[0].set_title(\"steepest_descent\")\n",
        "axis[1].plot(k_conjugate,conjugate_norms)\n",
        "axis[1].set_title('conjugate_gradient')\n",
        "axis[2].plot(num_iter,steepest_norms[:len(num_iter)])\n",
        "axis[2].plot(num_iter,conjugate_norms)\n",
        "axis[2].legend(['steepest_descent','conjugate_gradient'],loc = \"upper right\")\n",
        "axis[2].set_title(\"steepest descent and conjugate gradient\")\n",
        "# figure.subplots_adjust(hspace=10,wspace = 0.01)\n",
        "plt.subplots_adjust(top = 1.2,right = 2.3)\n",
        "plt.setp(axis,xlabel = 'number of iterations')\n",
        "plt.setp(axis,ylabel = 'norm difference')\n",
        "plt.show()\n"
      ]
    },
    {
      "cell_type": "markdown",
      "metadata": {
        "id": "RtYz-s1Cz_hr"
      },
      "source": [
        "# Gibbs Sampling"
      ]
    },
    {
      "cell_type": "code",
      "execution_count": null,
      "metadata": {
        "id": "RiUw8fDnHnnn"
      },
      "outputs": [],
      "source": [
        "import random\n",
        "import math\n",
        "import numpy as np\n",
        "from numpy.linalg import eig"
      ]
    },
    {
      "cell_type": "code",
      "execution_count": null,
      "metadata": {
        "id": "gn65KiuVGCPL"
      },
      "outputs": [],
      "source": [
        "def normal(mean,var):\n",
        "    return mean +  math.sqrt(var) * float(np.random.randn(1))"
      ]
    },
    {
      "cell_type": "code",
      "execution_count": null,
      "metadata": {
        "id": "PPLx33RuG5az"
      },
      "outputs": [],
      "source": [
        "def gibbs_sampling(N,num_iter = 1000,start = np.zeros(100)):\n",
        "    iter = num_iter\n",
        "    x = np.zeros((iter*N,N))\n",
        "    for j in range(iter):\n",
        "        for i in range(N):\n",
        "            temp = np.delete(start,[i],None)\n",
        "            var = 1/A[i][i]\n",
        "            intermediate = (np.delete(A[i],[i],None)/(-A[i][i]))\n",
        "            mean = intermediate @ temp.T\n",
        "            start[i] = normal(mean,var)\n",
        "            x[j*N+i] = start\n",
        "    return x\n",
        "\n",
        "def summation(N,x,sigma,samples,num_iter = 100,start = np.zeros(100)):\n",
        "    sum = np.zeros((N,N))\n",
        "    count = 0\n",
        "    visited = 0\n",
        "    if samples == 0:\n",
        "        sum = sum + np.outer(start,start.T)\n",
        "        return np.linalg.norm(sum-sigma)\n",
        "    \n",
        "    for j in range(num_iter):\n",
        "        for i in range(N):\n",
        "            sum = sum  + np.outer(x[j*N+i],x[j*N+i].T)/(samples)\n",
        "            count += 1\n",
        "            if count == samples:\n",
        "                visited = 1\n",
        "                break\n",
        "        if visited == 1:\n",
        "            break\n",
        "    dist = np.linalg.norm(sum - sigma)\n",
        "    return dist\n",
        "\n",
        "def matrixnorm(N,x,A,sigma,samples,num_iter = 100):\n",
        "    val = np.zeros((N,N))\n",
        "    count = 0\n",
        "    for j in range(num_iter):\n",
        "            val = val  + np.outer(x[j*N],x[j*N].T)/(x[j*N][None,:] @ A @ x[j*N][:,None])\n",
        "            count += 1\n",
        "            if count == samples:\n",
        "                break\n",
        "    val = (val/samples)*N\n",
        "    dist = np.linalg.norm(val - sigma)\n",
        "    return dist\n",
        "\n",
        "def new_summation(N,x,sigma,samples,num_iter = 100):\n",
        "    new_sum = np.zeros((N,N))\n",
        "    burn_in = N//10\n",
        "    count = 0\n",
        "    for j in range(burn_in,num_iter):\n",
        "        new_sum = new_sum + np.outer(x[j*N],x[j*N].T)/samples\n",
        "        count += 1\n",
        "        if count == samples:\n",
        "            break\n",
        "    # new_sum = (new_sum/samples)*N\n",
        "    dist = np.linalg.norm(new_sum - sigma)\n",
        "    return dist\n"
      ]
    },
    {
      "cell_type": "code",
      "execution_count": null,
      "metadata": {
        "id": "obQsFOg5sP8J"
      },
      "outputs": [],
      "source": [
        "N = 100\n",
        "A = stiffness\n",
        "sigma = np.linalg.inv(A)"
      ]
    },
    {
      "cell_type": "code",
      "execution_count": null,
      "metadata": {
        "colab": {
          "base_uri": "https://localhost:8080/"
        },
        "id": "syNOotdlZKxG",
        "outputId": "3f79ca48-be31-46a3-9000-ea1ac3d7e435"
      },
      "outputs": [
        {
          "data": {
            "text/plain": [
              "460"
            ]
          },
          "execution_count": 44,
          "metadata": {},
          "output_type": "execute_result"
        }
      ],
      "source": [
        "np.count_nonzero(A)"
      ]
    },
    {
      "cell_type": "code",
      "execution_count": null,
      "metadata": {
        "colab": {
          "base_uri": "https://localhost:8080/"
        },
        "id": "4OMjd23kypvK",
        "outputId": "ab6108a6-17dc-42ea-89e3-8a9dc519d006"
      },
      "outputs": [
        {
          "data": {
            "image/png": "[encoded data removed]",
            "text/plain": [
              "<Figure size 432x288 with 1 Axes>"
            ]
          },
          "metadata": {
            "needs_background": "light"
          },
          "output_type": "display_data"
        }
      ],
      "source": [
        "imgplt = plt.imshow(A)"
      ]
    },
    {
      "cell_type": "code",
      "execution_count": null,
      "metadata": {
        "colab": {
          "base_uri": "https://localhost:8080/"
        },
        "id": "L56wawYeIRkq",
        "outputId": "f62894c5-9fb8-49bb-d9db-6721bbbe74ba"
      },
      "outputs": [
        {
          "name": "stdout",
          "output_type": "stream",
          "text": [
            "Plane Gibbs sampling norm = 14.390980688034107\n",
            "Gibbs sampling norm with N samples = 24.18595774726838\n",
            "conjugate norm with N samples = 24.027142346358495\n"
          ]
        }
      ],
      "source": [
        "if __name__ == \"__main__\":\n",
        "    \n",
        "    num_iter = 1000\n",
        "    new_iter = 1000\n",
        "    start = np.zeros(N)\n",
        "    x = gibbs_sampling(N,num_iter,start)\n",
        "    norm = summation(N,x,sigma,num_iter*N,num_iter)\n",
        "    print(f'Plane Gibbs sampling norm = {norm}')\n",
        "\n",
        "    new_norm = new_summation(N,x,sigma,new_iter)\n",
        "    print(f'Gibbs sampling norm with N samples = {new_norm}')\n",
        "\n",
        "    conjugate_norm = matrixnorm(N,x,A,sigma,new_iter)\n",
        "    print(f'conjugate norm with N samples = {conjugate_norm}')"
      ]
    },
    {
      "cell_type": "code",
      "execution_count": null,
      "metadata": {
        "id": "3AXxq6huFb7I"
      },
      "outputs": [],
      "source": [
        "plane_gibbs_sampler_norm = []\n",
        "plane_sampler_num_samp = []\n",
        "for i in range(0,num_iter+1,100):\n",
        "    plane_gibbs_sampler_norm.append(summation(N,x,sigma,i*N,num_iter))\n",
        "    plane_sampler_num_samp.append(i*N)"
      ]
    },
    {
      "cell_type": "code",
      "execution_count": null,
      "metadata": {
        "id": "H7I7Q6ytFJkn"
      },
      "outputs": [],
      "source": [
        "plane_gs_norm_mat = []\n",
        "for j in range(10):\n",
        "    plane_gs_norm = []\n",
        "    x = gibbs_sampling(N,num_iter,start)\n",
        "    for i in range(0,num_iter+1,100):\n",
        "        plane_gs_norm.append(summation(N,x,sigma,i*N,num_iter))\n",
        "    plane_gs_norm_mat.append(plane_gs_norm)\n",
        "plane_gs_norm_mat = np.array(plane_gs_norm_mat)\n",
        "avg_plane_gs_norm = np.mean(plane_gs_norm_mat,axis = 0)"
      ]
    },
    {
      "cell_type": "code",
      "execution_count": null,
      "metadata": {
        "id": "VlPV0gvwbjBb"
      },
      "outputs": [],
      "source": [
        "N_samples_gibbs_sampler_norm = []\n",
        "N_sample_num_samp = []\n",
        "for i in range(1,new_iter+1,100):\n",
        "    N_samples_gibbs_sampler_norm.append(new_summation(N,x,sigma,i,new_iter))\n",
        "    N_sample_num_samp.append(i)"
      ]
    },
    {
      "cell_type": "code",
      "execution_count": null,
      "metadata": {
        "id": "pE1Bk9jfctJk"
      },
      "outputs": [],
      "source": [
        "N_samples_gs_norm_mat = []\n",
        "for j in range(10):\n",
        "    N_samples_gs_norm = []\n",
        "    x = gibbs_sampling(N,new_iter,start)\n",
        "    for i in range(1,new_iter+1,100):\n",
        "        N_samples_gs_norm.append(new_summation(N,x,sigma,i,new_iter))\n",
        "    N_samples_gs_norm_mat.append(N_samples_gs_norm)\n",
        "avg_N_samples_gs_norm = np.mean(np.array(N_samples_gs_norm_mat),axis=0)"
      ]
    },
    {
      "cell_type": "code",
      "execution_count": null,
      "metadata": {
        "id": "aDddyXx6QCmQ"
      },
      "outputs": [],
      "source": [
        "conjugate_gibbs_sampler_norm = []\n",
        "conjugate_gibbs_samp = []\n",
        "for i in range(1,new_iter+1,100):\n",
        "    conjugate_gibbs_sampler_norm.append(matrixnorm(N,x,A,sigma,i,num_iter))\n",
        "    conjugate_gibbs_samp.append(i)"
      ]
    },
    {
      "cell_type": "code",
      "execution_count": null,
      "metadata": {
        "id": "J2VunNWhUDUT"
      },
      "outputs": [],
      "source": [
        "conjugate_gs_norm_mat = []\n",
        "for j in range(10):\n",
        "    conjugate_gs_norm = []\n",
        "    x = gibbs_sampling(N,new_iter)\n",
        "    for i in range(1,new_iter+1,100):\n",
        "        conjugate_gs_norm.append(matrixnorm(N,x,A,sigma,i,new_iter))\n",
        "    conjugate_gs_norm_mat.append(conjugate_gs_norm)\n",
        "avg_conjugate_gs_norm = np.mean(np.array(conjugate_gs_norm_mat),axis=0)"
      ]
    },
    {
      "cell_type": "code",
      "execution_count": null,
      "metadata": {
        "colab": {
          "base_uri": "https://localhost:8080/"
        },
        "id": "c4b0oTU7Hl4E",
        "outputId": "2052df16-5b8b-440b-dcc9-8f3ab7bfdc1e"
      },
      "outputs": [
        {
          "data": {
            "image/png": "[encoded data removed]",
            "text/plain": [
              "<Figure size 432x288 with 6 Axes>"
            ]
          },
          "metadata": {
            "needs_background": "light"
          },
          "output_type": "display_data"
        }
      ],
      "source": [
        "import matplotlib.pyplot as plt\n",
        "figure, axis = plt.subplots(3, 2)\n",
        "axis[0, 0].plot(plane_sampler_num_samp,plane_gibbs_sampler_norm)\n",
        "axis[0, 0].set_title(\"Plane Gibbs Sampler\")\n",
        "axis[0,1].plot(plane_sampler_num_samp,avg_plane_gs_norm)\n",
        "axis[0,1].set_title('Averaged Plane Gibbs Sampler')\n",
        "axis[1, 0].plot(N_sample_num_samp,N_samples_gibbs_sampler_norm)\n",
        "axis[1, 0].set_title(\"N samples Gibbs Sampler\")\n",
        "axis[1, 1].plot(N_sample_num_samp,avg_N_samples_gs_norm)\n",
        "axis[1, 1].set_title(\"Averaged N samples Gibbs Sampler\")\n",
        "axis[2, 0].plot(conjugate_gibbs_samp,conjugate_gibbs_sampler_norm)\n",
        "axis[2, 0].set_title(\"Conjugate Gibbs Sampler\")\n",
        "axis[2, 1].plot(conjugate_gibbs_samp,avg_conjugate_gs_norm)\n",
        "axis[2, 1].set_title(\"Averaged Conjugate Gibbs Sampler\")\n",
        "figure.subplots_adjust(hspace=1, wspace=1)\n",
        "plt.show()"
      ]
    },
    {
      "cell_type": "code",
      "execution_count": null,
      "metadata": {
        "colab": {
          "base_uri": "https://localhost:8080/"
        },
        "id": "sBP8xQW-L8L3",
        "outputId": "7c88e885-2fb6-41a2-9cb8-3764ac7a64e4"
      },
      "outputs": [
        {
          "name": "stdout",
          "output_type": "stream",
          "text": [
            "Plane Gibbs sampler averaged norm = 9.922103582220446\n"
          ]
        }
      ],
      "source": [
        "print(f'Plane Gibbs sampler averaged norm = {avg_plane_gs_norm[-1]}')"
      ]
    },
    {
      "cell_type": "code",
      "execution_count": null,
      "metadata": {
        "colab": {
          "base_uri": "https://localhost:8080/"
        },
        "id": "B6JMUfHBVWyl",
        "outputId": "e35fe234-0507-4d54-9198-779d0811088d"
      },
      "outputs": [
        {
          "name": "stdout",
          "output_type": "stream",
          "text": [
            "averaged Gibbs sampling norm with N samples = 6.071085294706805\n"
          ]
        }
      ],
      "source": [
        "print(f'averaged Gibbs sampling norm with N samples = {avg_N_samples_gs_norm[-1]}')"
      ]
    },
    {
      "cell_type": "code",
      "execution_count": null,
      "metadata": {
        "colab": {
          "base_uri": "https://localhost:8080/"
        },
        "id": "Kkz0zVrefNFR",
        "outputId": "fbe7d512-2b94-4e07-a38b-31e0ec90afcf"
      },
      "outputs": [
        {
          "name": "stdout",
          "output_type": "stream",
          "text": [
            "averaged conjugate norm = 7.620766674907076\n"
          ]
        }
      ],
      "source": [
        "print(f'averaged conjugate norm = {avg_conjugate_gs_norm[-1]}')"
      ]
    },
    {
      "cell_type": "markdown",
      "metadata": {
        "id": "qQvdNy8O0p94"
      },
      "source": [
        "# Solution using Gibbs Sampling\n"
      ]
    },
    {
      "cell_type": "code",
      "execution_count": null,
      "metadata": {
        "id": "BnNTC4kf0wwk"
      },
      "outputs": [],
      "source": [
        "import random\n",
        "import math\n",
        "import numpy as np\n",
        "from numpy.linalg import eig"
      ]
    },
    {
      "cell_type": "code",
      "execution_count": null,
      "metadata": {
        "id": "wULqXAgj0ynX"
      },
      "outputs": [],
      "source": [
        "def normal(mean,var):\n",
        "    return mean +  math.sqrt(var) * float(np.random.randn(1))"
      ]
    },
    {
      "cell_type": "code",
      "execution_count": null,
      "metadata": {
        "id": "UnNxRA9b0tnK"
      },
      "outputs": [],
      "source": [
        "def gibbs_sampling(N,num_iter = 1000,start = np.zeros(100)):\n",
        "    iter = num_iter\n",
        "    x = np.zeros((iter*N,N))\n",
        "    for j in range(iter):\n",
        "        for i in range(N):\n",
        "            temp = np.delete(start,[i],None)\n",
        "            var = 1/A[i][i]\n",
        "            intermediate = (np.delete(A[i],[i],None)/(-A[i][i]))\n",
        "            mean = intermediate @ temp.T\n",
        "            start[i] = normal(mean,var)\n",
        "            x[j*N+i] = start\n",
        "    return x\n",
        "\n",
        "def many_samples_solution(N,x,b,actual_sol,sigma,samples,num_iter = 100,start = np.zeros(100)):\n",
        "    sum = np.zeros((N,N))\n",
        "    count = 0\n",
        "    visited = 0\n",
        "    if samples == 0:\n",
        "        sum = sum + np.outer(start,start.T)\n",
        "        return np.linalg.norm(sum-sigma)\n",
        "    \n",
        "    for j in range(num_iter):\n",
        "        for i in range(N):\n",
        "            sum = sum  + np.outer(x[j*N+i],x[j*N+i].T)/(samples)\n",
        "            count += 1\n",
        "            if count == samples:\n",
        "                visited = 1\n",
        "                break\n",
        "        if visited == 1:\n",
        "            break\n",
        "    \n",
        "    final_sol = sum @ b\n",
        "    dist = np.linalg.norm(final_sol - actual_sol)\n",
        "    print(np.linalg.norm(sum-sigma))\n",
        "\n",
        "    return dist\n",
        "\n",
        "def conjugate_solution(N,x,A,b,actual_sol,sigma,samples,num_iter = 100):\n",
        "    val = np.zeros((N,N))\n",
        "    count = 0\n",
        "    for j in range(num_iter):\n",
        "            val = val  + np.outer(x[j*N],x[j*N].T)/(x[j*N][None,:] @ A @ x[j*N][:,None])\n",
        "            count += 1\n",
        "            if count == samples:\n",
        "                break\n",
        "    val = (val/samples)*N\n",
        "    final_sol = val @ b\n",
        "    print(np.linalg.norm(val - sigma))\n",
        "    dist = np.linalg.norm(final_sol - actual_sol)\n",
        "    return dist\n",
        "\n",
        "def few_samples_solution(N,x,b,actual_sol,sigma,samples,num_iter = 100):\n",
        "    new_sum = np.zeros((N,N))\n",
        "    burn_in = N//10\n",
        "    count = 0\n",
        "    for j in range(burn_in,num_iter):\n",
        "        new_sum = new_sum + np.outer(x[j*N],x[j*N].T)/samples\n",
        "        count += 1\n",
        "        if count == samples:\n",
        "            break\n",
        "    final_sol = new_sum @ b \n",
        "    print(np.linalg.norm(new_sum - sigma))\n",
        "    dist = np.linalg.norm(final_sol - actual_sol)\n",
        "    return dist\n",
        "\n",
        "# def new_conjugate_solution(N,x,A,b,p,actual_sol,sigma,samples,num_iter = 100):\n",
        "#     val = np.zeros(N)\n",
        "#     count = 0\n",
        "#     for j in range(num_iter):\n",
        "#             r = b - A @ x[j*N]\n",
        "#             val = val  + np.dot(x[j*N].T,r)/(x[j*N].T @ A @ x[j*N]) * x[j*N]\n",
        "#             count += 1\n",
        "#             if count == samples:\n",
        "#                 break\n",
        "#     val = (val/samples)*N\n",
        "#     # print(np.linalg.norm(val - sigma))\n",
        "#     dist = np.linalg.norm(val - actual_sol)\n",
        "#     return dist\n"
      ]
    },
    {
      "cell_type": "code",
      "execution_count": null,
      "metadata": {
        "id": "0N3tk7EL13ya"
      },
      "outputs": [],
      "source": [
        "N = 100\n",
        "A = stiffness\n",
        "b = ForceVec\n",
        "sigma = np.linalg.inv(A)"
      ]
    },
    {
      "cell_type": "code",
      "execution_count": null,
      "metadata": {
        "colab": {
          "base_uri": "https://localhost:8080/"
        },
        "id": "cD_orN7Axnec",
        "outputId": "2873a4f3-a1ec-4755-b3e9-6b2daf7ca101"
      },
      "outputs": [
        {
          "data": {
            "text/plain": [
              "array([740.76625545])"
            ]
          },
          "execution_count": 61,
          "metadata": {},
          "output_type": "execute_result"
        }
      ],
      "source": [
        "max(b)"
      ]
    },
    {
      "cell_type": "code",
      "execution_count": null,
      "metadata": {
        "colab": {
          "base_uri": "https://localhost:8080/"
        },
        "id": "j7I9dTj5xrJ5",
        "outputId": "bf90eaab-892a-4cb8-db41-2983efb786f2"
      },
      "outputs": [
        {
          "data": {
            "text/plain": [
              "array([-0.])"
            ]
          },
          "execution_count": 62,
          "metadata": {},
          "output_type": "execute_result"
        }
      ],
      "source": [
        "min(b)"
      ]
    },
    {
      "cell_type": "code",
      "execution_count": null,
      "metadata": {
        "id": "tR9I3bpC2pV1"
      },
      "outputs": [],
      "source": [
        "actual_sol = sigma @ b"
      ]
    },
    {
      "cell_type": "code",
      "execution_count": null,
      "metadata": {
        "id": "LvGW5ULW8-R6"
      },
      "outputs": [],
      "source": [
        "# for i in range(N):\n",
        "#     new_conjugate_norm = new_conjugate_solution(N,x,A,b,i,actual_sol,sigma,new_iter)\n",
        "#     print(f'Norm of Final Solution obtained by Conjugate Gibbs Sampler wrt actual solution with p as {i} = {new_conjugate_norm}')"
      ]
    },
    {
      "cell_type": "code",
      "execution_count": null,
      "metadata": {
        "colab": {
          "base_uri": "https://localhost:8080/"
        },
        "id": "__cvadp42Aqp",
        "outputId": "ccf66249-9e95-4a69-8a91-465a958ea84f"
      },
      "outputs": [
        {
          "name": "stdout",
          "output_type": "stream",
          "text": [
            "5.448948364657716\n",
            "Norm of Final Solution obtained by Plane Gibbs Sampler wrt actual solution = 836.4121169055041\n",
            "18.94745538268126\n",
            "Norm of Final Solution obtained by Conjugate Gibbs Sampler wrt actual solution = 2254.2952773957013\n",
            "18.811524243510796\n",
            "Norm of Final Solution obtained by 1000 samples Gibbs Sampler wrt actual solution = 2243.2338237569184\n"
          ]
        }
      ],
      "source": [
        "if __name__ == \"__main__\":\n",
        "    \n",
        "    num_iter = 1000\n",
        "    new_iter = 1000\n",
        "    start = np.zeros(N)\n",
        "    x = gibbs_sampling(N,num_iter,start)\n",
        "\n",
        "    norm = many_samples_solution(N,x,b,actual_sol,sigma,num_iter*N,num_iter)\n",
        "    print(f'Norm of Final Solution obtained by Plane Gibbs Sampler wrt actual solution = {norm}')\n",
        "\n",
        "    conjugate_norm = conjugate_solution(N,x,A,b,actual_sol,sigma,new_iter)\n",
        "    print(f'Norm of Final Solution obtained by Conjugate Gibbs Sampler wrt actual solution = {conjugate_norm}')\n",
        "\n",
        "    N_sampler_norm = few_samples_solution(N,x,b,actual_sol,sigma,new_iter)\n",
        "    print(f'Norm of Final Solution obtained by {new_iter} samples Gibbs Sampler wrt actual solution = {N_sampler_norm}')\n"
      ]
    },
    {
      "cell_type": "code",
      "execution_count": null,
      "metadata": {
        "id": "TFKJtFfFoXoA"
      },
      "outputs": [],
      "source": [
        "def gibbs_sampling(N,num_iter = 1000,start = np.zeros(100)):\n",
        "    iter = num_iter\n",
        "    x = np.zeros((iter*N,N))\n",
        "    for j in range(iter):\n",
        "        for i in range(N):\n",
        "            temp = np.delete(start,[i],None)\n",
        "            var = 1/A[i][i]\n",
        "            intermediate = (np.delete(A[i],[i],None)/(-A[i][i]))\n",
        "            mean = intermediate @ temp.T\n",
        "            start[i] = normal(mean,var)\n",
        "            x[j*N+i] = start\n",
        "    return x\n",
        "\n",
        "def updated_many_samples_solution(N,x,b,actual_sol,sigma,samples,num_iter = 100,start = np.zeros(100)):\n",
        "    sum = np.zeros(N)\n",
        "    count = 0\n",
        "    visited = 0\n",
        "    # if samples == 0:\n",
        "    #     sum = sum + np.outer(start,start.T)\n",
        "    #     return np.linalg.norm(sum-sigma)\n",
        "    \n",
        "    for j in range(num_iter):\n",
        "        for i in range(N):\n",
        "            sum = sum  + (np.dot(x[j*N+i].T,b) * x[j*N+i])/(samples)\n",
        "            count += 1\n",
        "            if count == samples:\n",
        "                visited = 1\n",
        "                break\n",
        "        if visited == 1:\n",
        "            break\n",
        "    \n",
        "    final_sol = sum \n",
        "    dist = np.linalg.norm(final_sol - actual_sol)\n",
        "\n",
        "    return dist\n",
        "\n",
        "def updated_conjugate_solution(N,x,A,b,actual_sol,sigma,samples,num_iter = 100):\n",
        "    val = np.zeros(N)\n",
        "    count = 0\n",
        "    for j in range(num_iter):\n",
        "            val = val  + (np.dot(x[j*N].T,b) * x[j*N])/(x[j*N] @ A @ x[j*N].T)\n",
        "            count += 1\n",
        "            if count == samples:\n",
        "                break\n",
        "\n",
        "    val = (val/samples)*N\n",
        "    final_sol = val\n",
        "    dist = np.linalg.norm(final_sol - actual_sol)\n",
        "    return dist\n",
        "\n",
        "def updated_few_samples_solution(N,x,b,actual_sol,sigma,samples,num_iter = 100):\n",
        "    new_sum = np.zeros(N)\n",
        "    burn_in = N//10\n",
        "    count = 0\n",
        "    for j in range(burn_in,num_iter):\n",
        "        new_sum = new_sum + (np.dot(x[j*N].T,b) * x[j*N])/samples\n",
        "        count += 1\n",
        "        if count == samples:\n",
        "            break\n",
        "    final_sol = new_sum \n",
        "    dist = np.linalg.norm(final_sol - actual_sol)\n",
        "    return dist\n",
        "\n",
        "# def new_conjugate_solution(N,x,A,b,p,actual_sol,sigma,samples,num_iter = 100):\n",
        "#     val = np.zeros(N)\n",
        "#     count = 0\n",
        "#     for j in range(num_iter):\n",
        "#             r = b - A @ x[j*N]\n",
        "#             val = val  + np.dot(x[j*N].T,r)/(x[j*N].T @ A @ x[j*N]) * x[j*N]\n",
        "#             count += 1\n",
        "#             if count == samples:\n",
        "#                 break\n",
        "#     val = (val/samples)*N\n",
        "#     # print(np.linalg.norm(val - sigma))\n",
        "#     dist = np.linalg.norm(val - actual_sol)\n",
        "#     return dist\n"
      ]
    },
    {
      "cell_type": "code",
      "execution_count": null,
      "metadata": {
        "colab": {
          "base_uri": "https://localhost:8080/"
        },
        "id": "dCc_hVwapRHn",
        "outputId": "f2e60817-909f-4476-96d9-46527de03ace"
      },
      "outputs": [
        {
          "name": "stdout",
          "output_type": "stream",
          "text": [
            "Norm of Final Solution obtained by Plane Gibbs Sampler wrt actual solution = 15909.836129562866\n",
            "Norm of Final Solution obtained by Conjugate Gibbs Sampler wrt actual solution = 26195.73697763355\n",
            "Norm of Final Solution obtained by N samples Gibbs Sampler wrt actual solution = 26215.887506157596\n"
          ]
        }
      ],
      "source": [
        "if __name__ == \"__main__\":\n",
        "    \n",
        "    num_iter = 1000\n",
        "    new_iter = 1000\n",
        "    start = np.zeros(N)\n",
        "    x = gibbs_sampling(N,num_iter,start)\n",
        "\n",
        "    norm = updated_many_samples_solution(N,x,b,actual_sol,sigma,num_iter*N,num_iter)\n",
        "    print(f'Norm of Final Solution obtained by Plane Gibbs Sampler wrt actual solution = {norm}')\n",
        "\n",
        "    conjugate_norm = updated_conjugate_solution(N,x,A,b,actual_sol,sigma,new_iter)\n",
        "    print(f'Norm of Final Solution obtained by Conjugate Gibbs Sampler wrt actual solution = {conjugate_norm}')\n",
        "\n",
        "    N_sampler_norm = updated_few_samples_solution(N,x,b,actual_sol,sigma,new_iter)\n",
        "    print(f'Norm of Final Solution obtained by N samples Gibbs Sampler wrt actual solution = {N_sampler_norm}')\n"
      ]
    },
    {
      "cell_type": "markdown",
      "metadata": {
        "id": "hjRLOHX9xx87"
      },
      "source": [
        "# nCr"
      ]
    },
    {
      "cell_type": "code",
      "execution_count": null,
      "metadata": {
        "id": "UsXbQIjizh88"
      },
      "outputs": [],
      "source": [
        "import time\n",
        "import math"
      ]
    },
    {
      "cell_type": "code",
      "execution_count": null,
      "metadata": {
        "id": "piATwXkkx1Qq"
      },
      "outputs": [],
      "source": [
        "def combinations(n,r):\n",
        "    t = 1\n",
        "    if n-r > r:\n",
        "        for i in range(1,r+1):\n",
        "            t = t * (n-r+i)/i\n",
        "    else:\n",
        "        for i in range(1,n-r+1):\n",
        "            t = t * (r+i)/i\n",
        "            if math.isinf(t) == True:\n",
        "                print(i)\n",
        "                return -1\n",
        "    return int(t)"
      ]
    },
    {
      "cell_type": "code",
      "execution_count": null,
      "metadata": {
        "colab": {
          "base_uri": "https://localhost:8080/"
        },
        "id": "52-5yHsayJjS",
        "outputId": "99916dc6-db87-48ca-bd35-6fc91c0529ba"
      },
      "outputs": [
        {
          "name": "stdout",
          "output_type": "stream",
          "text": [
            "1096061485893795846139728583784861075791647209842905529623769337184881853001847626384386497063816236643638578049048597695145108692403358909741576520736512198403209155313664\n"
          ]
        }
      ],
      "source": [
        "tic = time.time()\n",
        "print(combinations(2000,100))\n",
        "toc = time.time()"
      ]
    },
    {
      "cell_type": "code",
      "execution_count": null,
      "metadata": {
        "colab": {
          "base_uri": "https://localhost:8080/"
        },
        "id": "d37SHgByzlcN",
        "outputId": "663ce867-6ee4-421d-cc17-4dc3b18ee5fd"
      },
      "outputs": [
        {
          "data": {
            "text/plain": [
              "0.0007882118225097656"
            ]
          },
          "execution_count": 71,
          "metadata": {},
          "output_type": "execute_result"
        }
      ],
      "source": [
        "toc - tic"
      ]
    },
    {
      "cell_type": "code",
      "execution_count": null,
      "metadata": {
        "id": "GmhWWxffzpX7"
      },
      "outputs": [],
      "source": []
    }
  ],
  "metadata": {
    "colab": {
      "collapsed_sections": [
        "hfoRwUyZPOby",
        "6UcRnH1eOBaZ",
        "vkNcQ9DeUHgg",
        "FbxIvK9ZUJFL",
        "NYajyIAA2tUL",
        "Xe6ixdNILYgo",
        "hjRLOHX9xx87"
      ],
      "name": "steepest_descent_conjugate_gradient_with_sparse_updated_complexity.ipynb",
      "provenance": []
    },
    "kernelspec": {
      "display_name": "Python 3.7.10 ('basic')",
      "language": "python",
      "name": "python3"
    },
    "language_info": {
      "name": "python",
      "version": "3.7.10"
    },
    "vscode": {
      "interpreter": {
        "hash": "cbb9b752b2e00d79181b10810213ec250859823ac34c680a70252b6b3a1c26f5"
      }
    }
  },
  "nbformat": 4,
  "nbformat_minor": 0
}
