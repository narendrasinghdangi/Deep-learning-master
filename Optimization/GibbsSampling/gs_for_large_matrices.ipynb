{
  "cells": [
    {
      "cell_type": "code",
      "execution_count": 1,
      "metadata": {
        "id": "oin50lDbRRxO"
      },
      "outputs": [],
      "source": [
        "import numpy as np\n",
        "from scipy.io import loadmat"
      ]
    },
    {
      "cell_type": "markdown",
      "metadata": {
        "id": "hfoRwUyZPOby"
      },
      "source": [
        "# importing mat files"
      ]
    },
    {
      "cell_type": "code",
      "execution_count": null,
      "metadata": {
        "id": "QU5he-MjQyKl"
      },
      "outputs": [],
      "source": [
        "mat1 = loadmat('ForceVec_1225.mat')"
      ]
    },
    {
      "cell_type": "code",
      "execution_count": null,
      "metadata": {
        "colab": {
          "base_uri": "https://localhost:8080/"
        },
        "id": "gSyRmTjHQ_pC",
        "outputId": "0b1e7c35-dbe6-4670-88c8-b963918bd604"
      },
      "outputs": [
        {
          "data": {
            "text/plain": [
              "dict_keys(['__header__', '__version__', '__globals__', 'B'])"
            ]
          },
          "execution_count": 59,
          "metadata": {},
          "output_type": "execute_result"
        }
      ],
      "source": [
        "mat1.keys()"
      ]
    },
    {
      "cell_type": "code",
      "execution_count": null,
      "metadata": {
        "colab": {
          "base_uri": "https://localhost:8080/"
        },
        "id": "ld0VRwTYR0sa",
        "outputId": "c6b5f55f-49a4-440b-9757-f70a4ef78add"
      },
      "outputs": [
        {
          "data": {
            "text/plain": [
              "dict_items([('__header__', b'MATLAB 5.0 MAT-file, Platform: PCWIN64, Created on: Fri May 20 13:10:50 2022'), ('__version__', '1.0'), ('__globals__', []), ('B', array([[-0.],\n",
              "       [-0.],\n",
              "       [-0.],\n",
              "       ...,\n",
              "       [-0.],\n",
              "       [-0.],\n",
              "       [-0.]]))])"
            ]
          },
          "execution_count": 60,
          "metadata": {},
          "output_type": "execute_result"
        }
      ],
      "source": [
        "mat1.items()"
      ]
    },
    {
      "cell_type": "code",
      "execution_count": null,
      "metadata": {
        "colab": {
          "base_uri": "https://localhost:8080/"
        },
        "id": "WZ_5SgU_SFSx",
        "outputId": "c8adada7-44f0-45c0-c683-4b9bce36fb8f"
      },
      "outputs": [
        {
          "data": {
            "text/plain": [
              "(1225, 1)"
            ]
          },
          "execution_count": 61,
          "metadata": {},
          "output_type": "execute_result"
        }
      ],
      "source": [
        "mat1['B'].shape"
      ]
    },
    {
      "cell_type": "code",
      "execution_count": null,
      "metadata": {
        "id": "o7V-bgycTb5t"
      },
      "outputs": [],
      "source": [
        "dim = int(mat1['B'].shape[0])"
      ]
    },
    {
      "cell_type": "code",
      "execution_count": null,
      "metadata": {
        "id": "aMalNeH8Stoo"
      },
      "outputs": [],
      "source": [
        "mat2 = loadmat('Stiffness_1225.mat')"
      ]
    },
    {
      "cell_type": "code",
      "execution_count": null,
      "metadata": {
        "colab": {
          "base_uri": "https://localhost:8080/"
        },
        "id": "njBSNYbTS00C",
        "outputId": "d20aae30-872b-44c8-d3c7-9f67b42dddc1"
      },
      "outputs": [
        {
          "data": {
            "text/plain": [
              "dict_keys(['__header__', '__version__', '__globals__', 'K'])"
            ]
          },
          "execution_count": 64,
          "metadata": {},
          "output_type": "execute_result"
        }
      ],
      "source": [
        "mat2.keys()"
      ]
    },
    {
      "cell_type": "code",
      "execution_count": null,
      "metadata": {
        "colab": {
          "base_uri": "https://localhost:8080/"
        },
        "id": "0qz4hIzoS2kN",
        "outputId": "d3ab22bc-a196-47e0-da5c-1686aedef99f"
      },
      "outputs": [
        {
          "data": {
            "text/plain": [
              "dict_items([('__header__', b'MATLAB 5.0 MAT-file, Platform: PCWIN64, Created on: Fri May 20 13:10:22 2022'), ('__version__', '1.0'), ('__globals__', []), ('K', array([[ 1.25, -0.25,  0.  , ...,  0.  ,  0.  ,  0.  ],\n",
              "       [-0.25,  2.5 , -0.25, ...,  0.  ,  0.  , -2.  ],\n",
              "       [ 0.  , -0.25,  2.5 , ...,  0.  ,  0.  ,  0.  ],\n",
              "       ...,\n",
              "       [ 0.  ,  0.  ,  0.  , ...,  5.  , -2.  ,  0.  ],\n",
              "       [ 0.  ,  0.  ,  0.  , ..., -2.  ,  5.  , -2.  ],\n",
              "       [ 0.  , -2.  ,  0.  , ...,  0.  , -2.  ,  5.  ]]))])"
            ]
          },
          "execution_count": 65,
          "metadata": {},
          "output_type": "execute_result"
        }
      ],
      "source": [
        "mat2.items()"
      ]
    },
    {
      "cell_type": "code",
      "execution_count": null,
      "metadata": {
        "colab": {
          "base_uri": "https://localhost:8080/"
        },
        "id": "lRheJrcRS6W6",
        "outputId": "49315945-ff39-47af-a8b5-93e83039f0f1"
      },
      "outputs": [
        {
          "data": {
            "text/plain": [
              "(1225, 1225)"
            ]
          },
          "execution_count": 66,
          "metadata": {},
          "output_type": "execute_result"
        }
      ],
      "source": [
        "mat2['K'].shape"
      ]
    },
    {
      "cell_type": "code",
      "execution_count": null,
      "metadata": {
        "colab": {
          "base_uri": "https://localhost:8080/"
        },
        "id": "sFxQk5tZPuvs",
        "outputId": "938c71a6-a42f-4da3-9fe6-1ba0ddc5f8a8"
      },
      "outputs": [
        {
          "data": {
            "text/plain": [
              "numpy.ndarray"
            ]
          },
          "execution_count": 67,
          "metadata": {},
          "output_type": "execute_result"
        }
      ],
      "source": [
        "type(mat2['K'])"
      ]
    },
    {
      "cell_type": "code",
      "execution_count": null,
      "metadata": {
        "id": "CwlBCFN9TPhh"
      },
      "outputs": [],
      "source": [
        "ForceVec = mat1['B']\n",
        "stiffness = mat2['K']"
      ]
    },
    {
      "cell_type": "code",
      "execution_count": null,
      "metadata": {
        "colab": {
          "base_uri": "https://localhost:8080/"
        },
        "id": "TMCu9ZedThw4",
        "outputId": "2f153fc9-318e-4de7-e2a8-c1bf7842e179"
      },
      "outputs": [
        {
          "name": "stdout",
          "output_type": "stream",
          "text": [
            "<class 'numpy.ndarray'> <class 'numpy.ndarray'>\n"
          ]
        }
      ],
      "source": [
        "print(type(ForceVec),type(stiffness))"
      ]
    },
    {
      "cell_type": "markdown",
      "metadata": {
        "id": "6UcRnH1eOBaZ"
      },
      "source": [
        "# Steepest_descent\n"
      ]
    },
    {
      "cell_type": "code",
      "execution_count": null,
      "metadata": {
        "colab": {
          "base_uri": "https://localhost:8080/"
        },
        "id": "dagGoQqfTlam",
        "outputId": "c7ac3674-f7f7-45fe-d32e-8dc7d7feb54d"
      },
      "outputs": [
        {
          "data": {
            "text/plain": [
              "1225"
            ]
          },
          "execution_count": 70,
          "metadata": {},
          "output_type": "execute_result"
        }
      ],
      "source": [
        "dim"
      ]
    },
    {
      "cell_type": "code",
      "execution_count": null,
      "metadata": {
        "id": "J0DEOcLBOEou"
      },
      "outputs": [],
      "source": [
        "def steepest_descent(A,b,x):\n",
        "\n",
        "    if (np.all(np.linalg.eigvals(A) > 0) == False) | (A != A.T).any():\n",
        "        raise ValueError('Matrix A needs to be symmetric positive definite (SPD)')\n",
        "\n",
        "    residual = b - A @ x\n",
        "    num_iter = 0\n",
        "    residual_norm_init = (residual.T @ residual)\n",
        "    residual_norm_curr = residual_norm_init\n",
        "    epsilon = 1e-10\n",
        "    while (residual_norm_curr > (epsilon)*residual_norm_init):\n",
        "\n",
        "        temp = A @ residual\n",
        "        alpha = residual_norm_curr/(residual.T @ temp)\n",
        "        x = x + (alpha * residual)\n",
        "\n",
        "        if num_iter%10 == 0:\n",
        "            residual = b - A @ x\n",
        "\n",
        "        else:\n",
        "            residual = residual - (alpha * temp)\n",
        "\n",
        "        residual_norm_curr = (residual.T @ residual)\n",
        "        num_iter += 1\n",
        "\n",
        "    # print(np.linalg.norm(residual))\n",
        "    return x,num_iter"
      ]
    },
    {
      "cell_type": "code",
      "execution_count": null,
      "metadata": {
        "colab": {
          "base_uri": "https://localhost:8080/"
        },
        "id": "e8_IlIimRUum",
        "outputId": "dfed525a-9c1a-4296-f35c-667534dd10ff"
      },
      "outputs": [
        {
          "name": "stdout",
          "output_type": "stream",
          "text": [
            "CPU times: user 366 ms, sys: 61.7 ms, total: 428 ms\n",
            "Wall time: 240 ms\n"
          ]
        }
      ],
      "source": [
        "%%time\n",
        "inverse_matrix = np.linalg.inv(stiffness) @ ForceVec"
      ]
    },
    {
      "cell_type": "code",
      "execution_count": null,
      "metadata": {
        "colab": {
          "base_uri": "https://localhost:8080/"
        },
        "id": "yn0qRzhdRgKc",
        "outputId": "5aa3f8b5-f820-4d9c-f07a-78ea6e816e2f"
      },
      "outputs": [
        {
          "name": "stdout",
          "output_type": "stream",
          "text": [
            "CPU times: user 10.2 s, sys: 1.79 s, total: 12 s\n",
            "Wall time: 6.22 s\n"
          ]
        }
      ],
      "source": [
        "%%time\n",
        "starting_x = np.random.random((dim,1))\n",
        "x,k = steepest_descent(stiffness,ForceVec,starting_x)"
      ]
    },
    {
      "cell_type": "code",
      "execution_count": null,
      "metadata": {
        "colab": {
          "base_uri": "https://localhost:8080/"
        },
        "id": "eXjrpK9ylHL2",
        "outputId": "bf25666a-e838-4459-e9e4-834fcf43d203"
      },
      "outputs": [
        {
          "data": {
            "text/plain": [
              "7654"
            ]
          },
          "execution_count": 74,
          "metadata": {},
          "output_type": "execute_result"
        }
      ],
      "source": [
        "k"
      ]
    },
    {
      "cell_type": "code",
      "execution_count": null,
      "metadata": {
        "colab": {
          "base_uri": "https://localhost:8080/"
        },
        "id": "2SkTCvevSQ6J",
        "outputId": "44dd56fb-bc2a-4aab-b488-28f339c8150d"
      },
      "outputs": [
        {
          "data": {
            "text/plain": [
              "6.175807193649508"
            ]
          },
          "execution_count": 75,
          "metadata": {},
          "output_type": "execute_result"
        }
      ],
      "source": [
        "np.linalg.norm(x - inverse_matrix)"
      ]
    },
    {
      "cell_type": "markdown",
      "metadata": {
        "id": "vkNcQ9DeUHgg"
      },
      "source": [
        "# complexity of steepest descent"
      ]
    },
    {
      "cell_type": "code",
      "execution_count": null,
      "metadata": {
        "colab": {
          "base_uri": "https://localhost:8080/"
        },
        "id": "qK7g15kOUdYp",
        "outputId": "de1b9c0c-be40-4d9c-b52e-20f94db62823"
      },
      "outputs": [
        {
          "name": "stdout",
          "output_type": "stream",
          "text": [
            "9.980256072471542 0.004752994253646774\n"
          ]
        }
      ],
      "source": [
        "lambda_max = max(np.linalg.eigvals(stiffness))\n",
        "lambda_min = min(np.linalg.eigvals(stiffness))\n",
        "print(lambda_max,lambda_min)"
      ]
    },
    {
      "cell_type": "code",
      "execution_count": null,
      "metadata": {
        "id": "iSnSz9dSUh3U"
      },
      "outputs": [],
      "source": [
        "spectral_radius = lambda_max"
      ]
    },
    {
      "cell_type": "code",
      "execution_count": null,
      "metadata": {
        "colab": {
          "base_uri": "https://localhost:8080/"
        },
        "id": "b0CC6vGMUvXk",
        "outputId": "56168d75-6d08-44a1-d4fa-aeac3eb3bb41"
      },
      "outputs": [
        {
          "name": "stdout",
          "output_type": "stream",
          "text": [
            "2099.7829031276674\n"
          ]
        }
      ],
      "source": [
        "condition_number = abs(lambda_max/lambda_min)\n",
        "print(condition_number)"
      ]
    },
    {
      "cell_type": "code",
      "execution_count": null,
      "metadata": {
        "colab": {
          "base_uri": "https://localhost:8080/"
        },
        "id": "8FSkHs44U9Lr",
        "outputId": "7659c46c-a72c-4dad-fd5b-21b2563cc2b4"
      },
      "outputs": [
        {
          "name": "stdout",
          "output_type": "stream",
          "text": [
            "0.9997387328543436\n"
          ]
        }
      ],
      "source": [
        "import math\n",
        "omega_max = (k-1)/(k+1)\n",
        "print(omega_max)"
      ]
    },
    {
      "cell_type": "code",
      "execution_count": null,
      "metadata": {
        "id": "29WZDnJ_Zens"
      },
      "outputs": [],
      "source": [
        "epsilon = 1e-10\n",
        "steepest_max_iter = math.log(1/(epsilon))/math.log((condition_number+1)/(condition_number-1))"
      ]
    },
    {
      "cell_type": "code",
      "execution_count": null,
      "metadata": {
        "colab": {
          "base_uri": "https://localhost:8080/"
        },
        "id": "cGHITaGQaS6H",
        "outputId": "1949e1ee-909c-488e-fe0a-4b39a72c74b2"
      },
      "outputs": [
        {
          "data": {
            "text/plain": [
              "24174.642228690023"
            ]
          },
          "execution_count": 81,
          "metadata": {},
          "output_type": "execute_result"
        }
      ],
      "source": [
        "steepest_max_iter"
      ]
    },
    {
      "cell_type": "markdown",
      "metadata": {
        "id": "7T7flMTwcFC-"
      },
      "source": [
        "$O(max(sparsity,n)*steepest\\_max\\_iter) = O(n*steepest\\_max\\_iter)$\n",
        "\n",
        "$steepest\\_max\\_iter = \\frac{ln(1/ϵ)}{ln\\big(\\frac{κ+1}{κ-1}\\big)}$\n",
        "\n",
        "$κ = \\frac{λ_{max}}{λ_{min}}$"
      ]
    },
    {
      "cell_type": "markdown",
      "metadata": {
        "id": "FbxIvK9ZUJFL"
      },
      "source": [
        "# Conjugate_gradient"
      ]
    },
    {
      "cell_type": "code",
      "execution_count": null,
      "metadata": {
        "id": "-Jn1pr4NUMqn"
      },
      "outputs": [],
      "source": [
        "def conjugate_gradient(A,b,x,n):\n",
        "\n",
        "    if (np.all(np.linalg.eigvals(A) > 0) == False | (A != A.T).any()):\n",
        "        raise ValueError('Matrix A needs to be symmetric positive definite (SPD)')\n",
        "\n",
        "    r = b- A @ x\n",
        "    d = r\n",
        "    num_iter = 0\n",
        "    residual_norm_init = (r.T @ r)\n",
        "    residual_norm_curr = residual_norm_init\n",
        "    epsilon = 1e-10\n",
        "\n",
        "    while (residual_norm_curr > (epsilon)*residual_norm_init and num_iter < n):\n",
        "\n",
        "        p = A @ d\n",
        "        alpha = residual_norm_curr/(d.T @ p)\n",
        "        x = x + alpha * d\n",
        "        if num_iter%10 == 0:\n",
        "            r = b - A @ x\n",
        "        else:\n",
        "            r = r - alpha * p\n",
        "        temp = residual_norm_curr\n",
        "        residual_norm_curr = r.T @ r\n",
        "        beta = residual_norm_curr/temp\n",
        "        d = r + beta * d\n",
        "        num_iter = num_iter + 1\n",
        "\n",
        "    return x,num_iter"
      ]
    },
    {
      "cell_type": "code",
      "execution_count": null,
      "metadata": {
        "colab": {
          "base_uri": "https://localhost:8080/"
        },
        "id": "ZDdUHGd8pjhC",
        "outputId": "19cce0d7-352d-45be-f6b5-264171db41df"
      },
      "outputs": [
        {
          "name": "stdout",
          "output_type": "stream",
          "text": [
            "CPU times: user 357 ms, sys: 74.5 ms, total: 432 ms\n",
            "Wall time: 239 ms\n"
          ]
        }
      ],
      "source": [
        "%%time\n",
        "inverse_matrix = np.linalg.inv(stiffness) @ ForceVec"
      ]
    },
    {
      "cell_type": "code",
      "execution_count": null,
      "metadata": {
        "colab": {
          "base_uri": "https://localhost:8080/"
        },
        "id": "m5XvF8hQpqGW",
        "outputId": "f3706b06-3717-4611-d3df-0944aab5a1b9"
      },
      "outputs": [
        {
          "name": "stdout",
          "output_type": "stream",
          "text": [
            "CPU times: user 2.59 s, sys: 985 ms, total: 3.57 s\n",
            "Wall time: 1.86 s\n"
          ]
        }
      ],
      "source": [
        "%%time\n",
        "# x = np.zeros((100,1))\n",
        "x,num_iter = conjugate_gradient(stiffness,ForceVec,starting_x,dim)"
      ]
    },
    {
      "cell_type": "code",
      "execution_count": null,
      "metadata": {
        "colab": {
          "base_uri": "https://localhost:8080/"
        },
        "id": "o0k5QfjLlYfv",
        "outputId": "67a29dda-2c2d-47a0-f884-25e53d4451fb"
      },
      "outputs": [
        {
          "data": {
            "text/plain": [
              "133"
            ]
          },
          "execution_count": 85,
          "metadata": {},
          "output_type": "execute_result"
        }
      ],
      "source": [
        "num_iter"
      ]
    },
    {
      "cell_type": "code",
      "execution_count": null,
      "metadata": {
        "colab": {
          "base_uri": "https://localhost:8080/"
        },
        "id": "XyMCBVhLpuQ8",
        "outputId": "f9810f43-72ca-4d88-fe29-1bbba442d3ca"
      },
      "outputs": [
        {
          "data": {
            "text/plain": [
              "0.14845893621255601"
            ]
          },
          "execution_count": 86,
          "metadata": {},
          "output_type": "execute_result"
        }
      ],
      "source": [
        "np.linalg.norm(x - inverse_matrix)"
      ]
    },
    {
      "cell_type": "markdown",
      "metadata": {
        "id": "NYajyIAA2tUL"
      },
      "source": [
        "# complexity of conjugate gradient"
      ]
    },
    {
      "cell_type": "code",
      "execution_count": null,
      "metadata": {
        "id": "cEzPCm0F2yB0"
      },
      "outputs": [],
      "source": [
        "epsilon = 1e-10\n",
        "temp = math.sqrt(condition_number)\n",
        "conjugate_max_iter = math.log(2/(epsilon))/math.log((temp+1)/(temp-1))"
      ]
    },
    {
      "cell_type": "code",
      "execution_count": null,
      "metadata": {
        "colab": {
          "base_uri": "https://localhost:8080/"
        },
        "id": "s0Cy3HCY3Gpc",
        "outputId": "136c0104-803c-487f-8700-22beceb2bd72"
      },
      "outputs": [
        {
          "data": {
            "text/plain": [
              "543.3561480978084"
            ]
          },
          "execution_count": 88,
          "metadata": {},
          "output_type": "execute_result"
        }
      ],
      "source": [
        "conjugate_max_iter"
      ]
    },
    {
      "cell_type": "code",
      "execution_count": null,
      "metadata": {
        "id": "N_ZLPXy04QRK"
      },
      "outputs": [],
      "source": [
        "omega = ((temp-1)/(temp+1))"
      ]
    },
    {
      "cell_type": "code",
      "execution_count": null,
      "metadata": {
        "colab": {
          "base_uri": "https://localhost:8080/"
        },
        "id": "AB9-w3oX4m-_",
        "outputId": "e9287a7b-8603-40e5-df1e-82c1365af265"
      },
      "outputs": [
        {
          "data": {
            "text/plain": [
              "0.9572863033137291"
            ]
          },
          "execution_count": 90,
          "metadata": {},
          "output_type": "execute_result"
        }
      ],
      "source": [
        "omega"
      ]
    },
    {
      "cell_type": "markdown",
      "metadata": {
        "id": "KhgKb8oQ6Dps"
      },
      "source": [
        "$O(max(sparsity,n)*conjugate\\_max\\_iter) = O(n*conjugate\\_max\\_iter)$\n",
        "\n",
        "$conjugate\\_max\\_iter = min\\Big(\\frac{ln(2/ϵ)}{ln\\big(\\frac{\\sqrt{k}+1}{\\sqrt{k} -1}\\big)},n \\Big)$\n",
        "\n",
        "$κ = \\frac{λ_{max}}{λ_{min}}$"
      ]
    },
    {
      "cell_type": "markdown",
      "metadata": {
        "id": "3ca4GiLc_ZFu"
      },
      "source": [
        "# Comparing steepest descent and conjugate gradient"
      ]
    },
    {
      "cell_type": "code",
      "execution_count": null,
      "metadata": {
        "id": "vs66rw5foLij"
      },
      "outputs": [],
      "source": [
        "def comp_steepest_descent(A,b,x,epsilon = 1e-10):\n",
        "\n",
        "    if (np.all(np.linalg.eigvals(A) > 0) == False) | (A != A.T).any():\n",
        "        raise ValueError('Matrix A needs to be symmetric positive definite (SPD)')\n",
        "\n",
        "    residual = b - A @ x\n",
        "    num_iter = 0\n",
        "    residual_norm_init = (residual.T @ residual)\n",
        "    residual_norm_curr = residual_norm_init\n",
        "    ls = []\n",
        "    k = []\n",
        "    while (residual_norm_curr > (epsilon)*residual_norm_init):\n",
        "        temp = A @ residual\n",
        "        alpha = residual_norm_curr/(residual.T @ temp)\n",
        "        x = x + (alpha * residual)\n",
        "\n",
        "        if num_iter%10 == 0:\n",
        "            residual = b - A @ x\n",
        "            ls.append(x)\n",
        "            k.append(num_iter)\n",
        "\n",
        "        else:\n",
        "            residual = residual - (alpha * temp)\n",
        "\n",
        "        residual_norm_curr = (residual.T @ residual)\n",
        "        num_iter += 1\n",
        "\n",
        "    ls = np.asarray(ls)\n",
        "    # print(np.linalg.norm(residual))\n",
        "    return x,num_iter,ls,k\n",
        "\n",
        "\n",
        "def comp_conjugate_gradient(A,b,x,n,epsilon = 1e-10):\n",
        "\n",
        "    if (np.all(np.linalg.eigvals(A) > 0) == False | (A != A.T).any()):\n",
        "        raise ValueError('Matrix A needs to be symmetric positive definite (SPD)')\n",
        "\n",
        "    r = b- A @ x\n",
        "    d = r\n",
        "    num_iter = 0\n",
        "    residual_norm_init = (r.T @ r)\n",
        "    residual_norm_curr = residual_norm_init\n",
        "    ls = []\n",
        "    k = []\n",
        "    while (residual_norm_curr > (epsilon)*residual_norm_init and num_iter < n):\n",
        "        p = A @ d\n",
        "        alpha = residual_norm_curr/(d.T @ p)\n",
        "        x = x + alpha * d\n",
        "        if num_iter%10 == 0:\n",
        "            r = b - A @ x\n",
        "            ls.append(x)\n",
        "            k.append(num_iter)\n",
        "        else:\n",
        "            r = r - alpha * p\n",
        "        temp = residual_norm_curr\n",
        "        residual_norm_curr = r.T @ r\n",
        "        beta = residual_norm_curr/temp\n",
        "        d = r + beta * d\n",
        "        num_iter = num_iter + 1\n",
        "\n",
        "    ls = np.asarray(ls)\n",
        "    return x,num_iter,ls,k\n",
        "\n",
        "def norm_calculator(curr_x,x):\n",
        "    return np.linalg.norm(curr_x - x)"
      ]
    },
    {
      "cell_type": "code",
      "execution_count": null,
      "metadata": {
        "id": "VQhGlFzCwDoK"
      },
      "outputs": [],
      "source": [
        "# %%time\n",
        "inverse = np.linalg.inv(stiffness) @ ForceVec"
      ]
    },
    {
      "cell_type": "code",
      "execution_count": null,
      "metadata": {
        "id": "P9y92CaT9x8Y"
      },
      "outputs": [],
      "source": [
        "x = np.random.random((dim,1))"
      ]
    },
    {
      "cell_type": "code",
      "execution_count": null,
      "metadata": {
        "colab": {
          "base_uri": "https://localhost:8080/"
        },
        "id": "4zpu_bakveq_",
        "outputId": "61a2ad33-fcbc-4a65-9542-0367af8389aa"
      },
      "outputs": [
        {
          "name": "stdout",
          "output_type": "stream",
          "text": [
            "CPU times: user 12.6 s, sys: 2.89 s, total: 15.5 s\n",
            "Wall time: 8.09 s\n"
          ]
        }
      ],
      "source": [
        "%%time\n",
        "x_steepest,steepest_iter,arr1,k_steep = comp_steepest_descent(stiffness,ForceVec,x)\n",
        "steepest_norms = []\n",
        "for i in range(len(arr1)):\n",
        "    steepest_norms.append(norm_calculator(arr1[i],inverse))\n",
        "\n",
        "x_conjugate,conjugate_iter,arr2,k_conjugate = comp_conjugate_gradient(stiffness,ForceVec,x,dim)\n",
        "conjugate_norms=[]\n",
        "for i in range(len(arr2)):\n",
        "    conjugate_norms.append(norm_calculator(arr2[i],inverse))\n",
        "\n",
        "final_steepest_norm = norm_calculator(x_steepest,inverse)\n",
        "final_conjugate_norm = norm_calculator(x_conjugate,inverse)"
      ]
    },
    {
      "cell_type": "code",
      "execution_count": null,
      "metadata": {
        "colab": {
          "base_uri": "https://localhost:8080/"
        },
        "id": "Keu4ph2Z99en",
        "outputId": "5d217803-72a0-4fe2-c49a-66cd94797dee"
      },
      "outputs": [
        {
          "name": "stdout",
          "output_type": "stream",
          "text": [
            "Norm difference of final solution obtained by steepest_descent after 7652 iterations is 6.180796698527477\n",
            "Norm difference of final solution obtained by conjugate_gradient after 133 iterations is 0.1495979605783287\n"
          ]
        }
      ],
      "source": [
        "print(f'Norm difference of final solution obtained by steepest_descent after {steepest_iter} iterations is {final_steepest_norm}')\n",
        "print(f'Norm difference of final solution obtained by conjugate_gradient after {conjugate_iter} iterations is {final_conjugate_norm}')"
      ]
    },
    {
      "cell_type": "code",
      "execution_count": null,
      "metadata": {
        "id": "9u77t0n5zEmu"
      },
      "outputs": [],
      "source": [
        "num_iter = np.arange(0,140,10)"
      ]
    },
    {
      "cell_type": "code",
      "execution_count": null,
      "metadata": {
        "colab": {
          "base_uri": "https://localhost:8080/",
          "height": 387
        },
        "id": "hJbaMpWdAE7V",
        "outputId": "8404c61c-4dab-4f83-d706-c6cd1a02862d"
      },
      "outputs": [
        {
          "data": {
            "image/png": "[encoded data removed]",
            "text/plain": [
              "<Figure size 432x288 with 3 Axes>"
            ]
          },
          "metadata": {
            "needs_background": "light"
          },
          "output_type": "display_data"
        }
      ],
      "source": [
        "import matplotlib.pyplot as plt\n",
        "figure, axis = plt.subplots(1,3)\n",
        "axis[0].plot(k_steep,steepest_norms)\n",
        "axis[0].set_title(\"steepest_descent\")\n",
        "axis[1].plot(k_conjugate,conjugate_norms)\n",
        "axis[1].set_title('conjugate_gradient')\n",
        "axis[2].plot(num_iter,steepest_norms[:len(num_iter)])\n",
        "axis[2].plot(num_iter,conjugate_norms)\n",
        "axis[2].legend(['steepest_descent','conjugate_gradient'],loc = \"upper right\")\n",
        "axis[2].set_title(\"steepest descent and conjugate gradient\")\n",
        "# figure.subplots_adjust(hspace=10,wspace = 0.01)\n",
        "plt.subplots_adjust(top = 1.2,right = 2.3)\n",
        "plt.setp(axis,xlabel = 'number of iterations')\n",
        "plt.setp(axis,ylabel = 'norm difference')\n",
        "plt.show()\n"
      ]
    },
    {
      "cell_type": "markdown",
      "metadata": {
        "id": "RtYz-s1Cz_hr"
      },
      "source": [
        "# Gibbs Sampling"
      ]
    },
    {
      "cell_type": "code",
      "execution_count": null,
      "metadata": {
        "id": "RiUw8fDnHnnn"
      },
      "outputs": [],
      "source": [
        "import random\n",
        "import math\n",
        "import numpy as np\n",
        "from numpy.linalg import eig"
      ]
    },
    {
      "cell_type": "code",
      "execution_count": null,
      "metadata": {
        "id": "gn65KiuVGCPL"
      },
      "outputs": [],
      "source": [
        "def normal(mean,var):\n",
        "    return mean +  math.sqrt(var) * float(np.random.randn(1))"
      ]
    },
    {
      "cell_type": "code",
      "execution_count": null,
      "metadata": {
        "id": "PPLx33RuG5az"
      },
      "outputs": [],
      "source": [
        "def gibbs_sampling(N,num_iter = 1000,start = np.zeros(dim)):\n",
        "    iter = num_iter\n",
        "    x = np.zeros((iter*N,N))\n",
        "    for j in range(iter):\n",
        "        for i in range(N):\n",
        "            temp = np.delete(start,[i],None)\n",
        "            var = 1/A[i][i]\n",
        "            intermediate = (np.delete(A[i],[i],None)/(-A[i][i]))\n",
        "            mean = intermediate @ temp.T\n",
        "            start[i] = normal(mean,var)\n",
        "            x[j*N+i] = start\n",
        "    return x\n",
        "\n",
        "def summation(N,x,sigma,samples,num_iter = 100,start = np.zeros(dim)):\n",
        "    sum = np.zeros((N,N))\n",
        "    count = 0\n",
        "    visited = 0\n",
        "    if samples == 0:\n",
        "        sum = sum + np.outer(start,start.T)\n",
        "        return np.linalg.norm(sum-sigma)\n",
        "    \n",
        "    for j in range(num_iter):\n",
        "        for i in range(N):\n",
        "            sum = sum  + np.outer(x[j*N+i],x[j*N+i].T)/(samples)\n",
        "            count += 1\n",
        "            if count == samples:\n",
        "                visited = 1\n",
        "                break\n",
        "        if visited == 1:\n",
        "            break\n",
        "    dist = np.linalg.norm(sum - sigma)\n",
        "    return dist\n",
        "\n",
        "def matrixnorm(N,x,A,sigma,samples,num_iter = 100):\n",
        "    val = np.zeros((N,N))\n",
        "    count = 0\n",
        "    for j in range(num_iter):\n",
        "            val = val  + np.outer(x[j*N],x[j*N].T)/(x[j*N][None,:] @ A @ x[j*N][:,None])\n",
        "            count += 1\n",
        "            if count == samples:\n",
        "                break\n",
        "    val = (val/samples)*N\n",
        "    dist = np.linalg.norm(val - sigma)\n",
        "    return dist\n",
        "\n",
        "def new_summation(N,x,sigma,samples,num_iter = 100):\n",
        "    new_sum = np.zeros((N,N))\n",
        "    burn_in = N//10\n",
        "    count = 0\n",
        "    for j in range(burn_in,num_iter):\n",
        "        new_sum = new_sum + np.outer(x[j*N],x[j*N].T)/samples\n",
        "        count += 1\n",
        "        if count == samples:\n",
        "            break\n",
        "    # new_sum = (new_sum/samples)*N\n",
        "    dist = np.linalg.norm(new_sum - sigma)\n",
        "    return dist\n"
      ]
    },
    {
      "cell_type": "code",
      "execution_count": null,
      "metadata": {
        "id": "obQsFOg5sP8J"
      },
      "outputs": [],
      "source": [
        "N = dim\n",
        "A = stiffness\n",
        "sigma = np.linalg.inv(A)"
      ]
    },
    {
      "cell_type": "code",
      "execution_count": null,
      "metadata": {
        "colab": {
          "base_uri": "https://localhost:8080/"
        },
        "id": "syNOotdlZKxG",
        "outputId": "02ab8351-c7c6-4cd3-ae33-4c033e01f51b"
      },
      "outputs": [
        {
          "data": {
            "text/plain": [
              "5985"
            ]
          },
          "execution_count": 102,
          "metadata": {},
          "output_type": "execute_result"
        }
      ],
      "source": [
        "np.count_nonzero(A)"
      ]
    },
    {
      "cell_type": "code",
      "execution_count": null,
      "metadata": {
        "colab": {
          "base_uri": "https://localhost:8080/",
          "height": 269
        },
        "id": "4OMjd23kypvK",
        "outputId": "56198dbb-b744-4e42-be75-46e84305f2d1"
      },
      "outputs": [
        {
          "data": {
            "image/png": "[encoded data removed]",
            "text/plain": [
              "<Figure size 432x288 with 1 Axes>"
            ]
          },
          "metadata": {
            "needs_background": "light"
          },
          "output_type": "display_data"
        }
      ],
      "source": [
        "imgplt = plt.imshow(A)"
      ]
    },
    {
      "cell_type": "code",
      "execution_count": null,
      "metadata": {
        "colab": {
          "base_uri": "https://localhost:8080/"
        },
        "id": "L56wawYeIRkq",
        "outputId": "db65050b-48a0-4f28-d09a-3558e5a68be0"
      },
      "outputs": [
        {
          "name": "stdout",
          "output_type": "stream",
          "text": [
            "Plane Gibbs sampling norm = 248.2201087471833\n",
            "Gibbs sampling norm with N samples = 236.2232002859934\n",
            "conjugate norm with N samples = 249.7040442339287\n"
          ]
        }
      ],
      "source": [
        "if __name__ == \"__main__\":\n",
        "    \n",
        "    num_iter = 100\n",
        "    new_iter = 100\n",
        "    start = np.zeros(N)\n",
        "    x = gibbs_sampling(N,num_iter,start)\n",
        "    norm = summation(N,x,sigma,num_iter*N,num_iter)\n",
        "    print(f'Plane Gibbs sampling norm = {norm}')\n",
        "\n",
        "    new_norm = new_summation(N,x,sigma,new_iter)\n",
        "    print(f'Gibbs sampling norm with N samples = {new_norm}')\n",
        "\n",
        "    conjugate_norm = matrixnorm(N,x,A,sigma,new_iter)\n",
        "    print(f'conjugate norm with N samples = {conjugate_norm}')"
      ]
    },
    {
      "cell_type": "code",
      "execution_count": null,
      "metadata": {
        "id": "3AXxq6huFb7I"
      },
      "outputs": [],
      "source": [
        "plane_gibbs_sampler_norm = []\n",
        "plane_sampler_num_samp = []\n",
        "for i in range(0,num_iter+1,100):\n",
        "    plane_gibbs_sampler_norm.append(summation(N,x,sigma,i*N,num_iter))\n",
        "    plane_sampler_num_samp.append(i*N)"
      ]
    },
    {
      "cell_type": "code",
      "execution_count": null,
      "metadata": {
        "id": "H7I7Q6ytFJkn"
      },
      "outputs": [],
      "source": [
        "plane_gs_norm_mat = []\n",
        "for j in range(10):\n",
        "    plane_gs_norm = []\n",
        "    x = gibbs_sampling(N,num_iter,start)\n",
        "    for i in range(0,num_iter+1,100):\n",
        "        plane_gs_norm.append(summation(N,x,sigma,i*N,num_iter))\n",
        "    plane_gs_norm_mat.append(plane_gs_norm)\n",
        "plane_gs_norm_mat = np.array(plane_gs_norm_mat)\n",
        "avg_plane_gs_norm = np.mean(plane_gs_norm_mat,axis = 0)"
      ]
    },
    {
      "cell_type": "code",
      "execution_count": null,
      "metadata": {
        "id": "VlPV0gvwbjBb"
      },
      "outputs": [],
      "source": [
        "N_samples_gibbs_sampler_norm = []\n",
        "N_sample_num_samp = []\n",
        "for i in range(1,new_iter+1,100):\n",
        "    N_samples_gibbs_sampler_norm.append(new_summation(N,x,sigma,i,new_iter))\n",
        "    N_sample_num_samp.append(i)"
      ]
    },
    {
      "cell_type": "code",
      "execution_count": null,
      "metadata": {
        "id": "pE1Bk9jfctJk"
      },
      "outputs": [],
      "source": [
        "N_samples_gs_norm_mat = []\n",
        "for j in range(10):\n",
        "    N_samples_gs_norm = []\n",
        "    x = gibbs_sampling(N,new_iter,start)\n",
        "    for i in range(1,new_iter+1,100):\n",
        "        N_samples_gs_norm.append(new_summation(N,x,sigma,i,new_iter))\n",
        "    N_samples_gs_norm_mat.append(N_samples_gs_norm)\n",
        "avg_N_samples_gs_norm = np.mean(np.array(N_samples_gs_norm_mat),axis=0)"
      ]
    },
    {
      "cell_type": "code",
      "execution_count": null,
      "metadata": {
        "id": "aDddyXx6QCmQ"
      },
      "outputs": [],
      "source": [
        "conjugate_gibbs_sampler_norm = []\n",
        "conjugate_gibbs_samp = []\n",
        "for i in range(1,new_iter+1,100):\n",
        "    conjugate_gibbs_sampler_norm.append(matrixnorm(N,x,A,sigma,i,num_iter))\n",
        "    conjugate_gibbs_samp.append(i)"
      ]
    },
    {
      "cell_type": "code",
      "execution_count": null,
      "metadata": {
        "id": "J2VunNWhUDUT"
      },
      "outputs": [],
      "source": [
        "conjugate_gs_norm_mat = []\n",
        "for j in range(10):\n",
        "    conjugate_gs_norm = []\n",
        "    x = gibbs_sampling(N,new_iter)\n",
        "    for i in range(1,new_iter+1,100):\n",
        "        conjugate_gs_norm.append(matrixnorm(N,x,A,sigma,i,new_iter))\n",
        "    conjugate_gs_norm_mat.append(conjugate_gs_norm)\n",
        "avg_conjugate_gs_norm = np.mean(np.array(conjugate_gs_norm_mat),axis=0)"
      ]
    },
    {
      "cell_type": "code",
      "execution_count": null,
      "metadata": {
        "id": "c4b0oTU7Hl4E"
      },
      "outputs": [],
      "source": [
        "import matplotlib.pyplot as plt\n",
        "figure, axis = plt.subplots(3, 2)\n",
        "axis[0, 0].plot(plane_sampler_num_samp,plane_gibbs_sampler_norm)\n",
        "axis[0, 0].set_title(\"Plane Gibbs Sampler\")\n",
        "axis[0,1].plot(plane_sampler_num_samp,avg_plane_gs_norm)\n",
        "axis[0,1].set_title('Averaged Plane Gibbs Sampler')\n",
        "axis[1, 0].plot(N_sample_num_samp,N_samples_gibbs_sampler_norm)\n",
        "axis[1, 0].set_title(\"N samples Gibbs Sampler\")\n",
        "axis[1, 1].plot(N_sample_num_samp,avg_N_samples_gs_norm)\n",
        "axis[1, 1].set_title(\"Averaged N samples Gibbs Sampler\")\n",
        "axis[2, 0].plot(conjugate_gibbs_samp,conjugate_gibbs_sampler_norm)\n",
        "axis[2, 0].set_title(\"Conjugate Gibbs Sampler\")\n",
        "axis[2, 1].plot(conjugate_gibbs_samp,avg_conjugate_gs_norm)\n",
        "axis[2, 1].set_title(\"Averaged Conjugate Gibbs Sampler\")\n",
        "figure.subplots_adjust(hspace=1, wspace=1)\n",
        "plt.show()"
      ]
    },
    {
      "cell_type": "code",
      "execution_count": null,
      "metadata": {
        "id": "sBP8xQW-L8L3"
      },
      "outputs": [],
      "source": [
        "print(f'Plane Gibbs sampler averaged norm = {avg_plane_gs_norm[-1]}')"
      ]
    },
    {
      "cell_type": "code",
      "execution_count": null,
      "metadata": {
        "id": "B6JMUfHBVWyl"
      },
      "outputs": [],
      "source": [
        "print(f'averaged Gibbs sampling norm with N samples = {avg_N_samples_gs_norm[-1]}')"
      ]
    },
    {
      "cell_type": "code",
      "execution_count": null,
      "metadata": {
        "id": "Kkz0zVrefNFR"
      },
      "outputs": [],
      "source": [
        "print(f'averaged conjugate norm = {avg_conjugate_gs_norm[-1]}')"
      ]
    },
    {
      "cell_type": "markdown",
      "metadata": {
        "id": "qQvdNy8O0p94"
      },
      "source": [
        "# Solution using Gibbs Sampling\n"
      ]
    },
    {
      "cell_type": "code",
      "execution_count": null,
      "metadata": {
        "id": "BnNTC4kf0wwk"
      },
      "outputs": [],
      "source": [
        "import random\n",
        "import math\n",
        "import numpy as np\n",
        "from numpy.linalg import eig"
      ]
    },
    {
      "cell_type": "code",
      "execution_count": null,
      "metadata": {
        "id": "wULqXAgj0ynX"
      },
      "outputs": [],
      "source": [
        "def normal(mean,var):\n",
        "    return mean +  math.sqrt(var) * float(np.random.randn(1))"
      ]
    },
    {
      "cell_type": "code",
      "execution_count": null,
      "metadata": {
        "id": "UnNxRA9b0tnK"
      },
      "outputs": [],
      "source": [
        "def gibbs_sampling(N,num_iter = 1000,start = np.zeros(100)):\n",
        "    iter = num_iter\n",
        "    x = np.zeros((iter*N,N))\n",
        "    for j in range(iter):\n",
        "        for i in range(N):\n",
        "            temp = np.delete(start,[i],None)\n",
        "            var = 1/A[i][i]\n",
        "            intermediate = (np.delete(A[i],[i],None)/(-A[i][i]))\n",
        "            mean = intermediate @ temp.T\n",
        "            start[i] = normal(mean,var)\n",
        "            x[j*N+i] = start\n",
        "    return x\n",
        "\n",
        "def many_samples_solution(N,x,b,actual_sol,sigma,samples,num_iter = 100,start = np.zeros(100)):\n",
        "    sum = np.zeros((N,N))\n",
        "    count = 0\n",
        "    visited = 0\n",
        "    if samples == 0:\n",
        "        sum = sum + np.outer(start,start.T)\n",
        "        return np.linalg.norm(sum-sigma)\n",
        "    \n",
        "    for j in range(num_iter):\n",
        "        for i in range(N):\n",
        "            sum = sum  + np.outer(x[j*N+i],x[j*N+i].T)/(samples)\n",
        "            count += 1\n",
        "            if count == samples:\n",
        "                visited = 1\n",
        "                break\n",
        "        if visited == 1:\n",
        "            break\n",
        "    \n",
        "    final_sol = sum @ b\n",
        "    dist = np.linalg.norm(final_sol - actual_sol)\n",
        "    print(np.linalg.norm(sum-sigma))\n",
        "\n",
        "    return dist\n",
        "\n",
        "def conjugate_solution(N,x,A,b,actual_sol,sigma,samples,num_iter = 100):\n",
        "    val = np.zeros((N,N))\n",
        "    count = 0\n",
        "    for j in range(num_iter):\n",
        "            val = val  + np.outer(x[j*N],x[j*N].T)/(x[j*N][None,:] @ A @ x[j*N][:,None])\n",
        "            count += 1\n",
        "            if count == samples:\n",
        "                break\n",
        "    val = (val/samples)*N\n",
        "    final_sol = val @ b\n",
        "    print(np.linalg.norm(val - sigma))\n",
        "    dist = np.linalg.norm(final_sol - actual_sol)\n",
        "    return dist\n",
        "\n",
        "def few_samples_solution(N,x,b,actual_sol,sigma,samples,num_iter = 100):\n",
        "    new_sum = np.zeros((N,N))\n",
        "    burn_in = N//10\n",
        "    count = 0\n",
        "    for j in range(burn_in,num_iter):\n",
        "        new_sum = new_sum + np.outer(x[j*N],x[j*N].T)/samples\n",
        "        count += 1\n",
        "        if count == samples:\n",
        "            break\n",
        "    final_sol = new_sum @ b \n",
        "    print(np.linalg.norm(new_sum - sigma))\n",
        "    dist = np.linalg.norm(final_sol - actual_sol)\n",
        "    return dist\n",
        "\n",
        "# def new_conjugate_solution(N,x,A,b,p,actual_sol,sigma,samples,num_iter = 100):\n",
        "#     val = np.zeros(N)\n",
        "#     count = 0\n",
        "#     for j in range(num_iter):\n",
        "#             r = b - A @ x[j*N]\n",
        "#             val = val  + np.dot(x[j*N].T,r)/(x[j*N].T @ A @ x[j*N]) * x[j*N]\n",
        "#             count += 1\n",
        "#             if count == samples:\n",
        "#                 break\n",
        "#     val = (val/samples)*N\n",
        "#     # print(np.linalg.norm(val - sigma))\n",
        "#     dist = np.linalg.norm(val - actual_sol)\n",
        "#     return dist\n"
      ]
    },
    {
      "cell_type": "code",
      "execution_count": null,
      "metadata": {
        "id": "0N3tk7EL13ya"
      },
      "outputs": [],
      "source": [
        "N = 100\n",
        "A = stiffness\n",
        "b = ForceVec\n",
        "sigma = np.linalg.inv(A)"
      ]
    },
    {
      "cell_type": "code",
      "execution_count": null,
      "metadata": {
        "id": "cD_orN7Axnec"
      },
      "outputs": [],
      "source": [
        "max(b)"
      ]
    },
    {
      "cell_type": "code",
      "execution_count": null,
      "metadata": {
        "id": "j7I9dTj5xrJ5"
      },
      "outputs": [],
      "source": [
        "min(b)"
      ]
    },
    {
      "cell_type": "code",
      "execution_count": null,
      "metadata": {
        "id": "tR9I3bpC2pV1"
      },
      "outputs": [],
      "source": [
        "actual_sol = sigma @ b"
      ]
    },
    {
      "cell_type": "code",
      "execution_count": null,
      "metadata": {
        "id": "LvGW5ULW8-R6"
      },
      "outputs": [],
      "source": [
        "# for i in range(N):\n",
        "#     new_conjugate_norm = new_conjugate_solution(N,x,A,b,i,actual_sol,sigma,new_iter)\n",
        "#     print(f'Norm of Final Solution obtained by Conjugate Gibbs Sampler wrt actual solution with p as {i} = {new_conjugate_norm}')"
      ]
    },
    {
      "cell_type": "code",
      "execution_count": null,
      "metadata": {
        "id": "__cvadp42Aqp"
      },
      "outputs": [],
      "source": [
        "if __name__ == \"__main__\":\n",
        "    \n",
        "    num_iter = 1000\n",
        "    new_iter = 1000\n",
        "    start = np.zeros(N)\n",
        "    x = gibbs_sampling(N,num_iter,start)\n",
        "\n",
        "    norm = many_samples_solution(N,x,b,actual_sol,sigma,num_iter*N,num_iter)\n",
        "    print(f'Norm of Final Solution obtained by Plane Gibbs Sampler wrt actual solution = {norm}')\n",
        "\n",
        "    conjugate_norm = conjugate_solution(N,x,A,b,actual_sol,sigma,new_iter)\n",
        "    print(f'Norm of Final Solution obtained by Conjugate Gibbs Sampler wrt actual solution = {conjugate_norm}')\n",
        "\n",
        "    N_sampler_norm = few_samples_solution(N,x,b,actual_sol,sigma,new_iter)\n",
        "    print(f'Norm of Final Solution obtained by {new_iter} samples Gibbs Sampler wrt actual solution = {N_sampler_norm}')\n"
      ]
    },
    {
      "cell_type": "code",
      "execution_count": null,
      "metadata": {
        "id": "TFKJtFfFoXoA"
      },
      "outputs": [],
      "source": [
        "def gibbs_sampling(N,num_iter = 1000,start = np.zeros(100)):\n",
        "    iter = num_iter\n",
        "    x = np.zeros((iter*N,N))\n",
        "    for j in range(iter):\n",
        "        for i in range(N):\n",
        "            temp = np.delete(start,[i],None)\n",
        "            var = 1/A[i][i]\n",
        "            intermediate = (np.delete(A[i],[i],None)/(-A[i][i]))\n",
        "            mean = intermediate @ temp.T\n",
        "            start[i] = normal(mean,var)\n",
        "            x[j*N+i] = start\n",
        "    return x\n",
        "\n",
        "def updated_many_samples_solution(N,x,b,actual_sol,sigma,samples,num_iter = 100,start = np.zeros(100)):\n",
        "    sum = np.zeros(N)\n",
        "    count = 0\n",
        "    visited = 0\n",
        "    # if samples == 0:\n",
        "    #     sum = sum + np.outer(start,start.T)\n",
        "    #     return np.linalg.norm(sum-sigma)\n",
        "    \n",
        "    for j in range(num_iter):\n",
        "        for i in range(N):\n",
        "            sum = sum  + (np.dot(x[j*N+i].T,b) * x[j*N+i])/(samples)\n",
        "            count += 1\n",
        "            if count == samples:\n",
        "                visited = 1\n",
        "                break\n",
        "        if visited == 1:\n",
        "            break\n",
        "    \n",
        "    final_sol = sum \n",
        "    dist = np.linalg.norm(final_sol - actual_sol)\n",
        "\n",
        "    return dist\n",
        "\n",
        "def updated_conjugate_solution(N,x,A,b,actual_sol,sigma,samples,num_iter = 100):\n",
        "    val = np.zeros(N)\n",
        "    count = 0\n",
        "    for j in range(num_iter):\n",
        "            val = val  + (np.dot(x[j*N].T,b) * x[j*N])/(x[j*N] @ A @ x[j*N].T)\n",
        "            count += 1\n",
        "            if count == samples:\n",
        "                break\n",
        "\n",
        "    val = (val/samples)*N\n",
        "    final_sol = val\n",
        "    dist = np.linalg.norm(final_sol - actual_sol)\n",
        "    return dist\n",
        "\n",
        "def updated_few_samples_solution(N,x,b,actual_sol,sigma,samples,num_iter = 100):\n",
        "    new_sum = np.zeros(N)\n",
        "    burn_in = N//10\n",
        "    count = 0\n",
        "    for j in range(burn_in,num_iter):\n",
        "        new_sum = new_sum + (np.dot(x[j*N].T,b) * x[j*N])/samples\n",
        "        count += 1\n",
        "        if count == samples:\n",
        "            break\n",
        "    final_sol = new_sum \n",
        "    dist = np.linalg.norm(final_sol - actual_sol)\n",
        "    return dist\n",
        "\n",
        "# def new_conjugate_solution(N,x,A,b,p,actual_sol,sigma,samples,num_iter = 100):\n",
        "#     val = np.zeros(N)\n",
        "#     count = 0\n",
        "#     for j in range(num_iter):\n",
        "#             r = b - A @ x[j*N]\n",
        "#             val = val  + np.dot(x[j*N].T,r)/(x[j*N].T @ A @ x[j*N]) * x[j*N]\n",
        "#             count += 1\n",
        "#             if count == samples:\n",
        "#                 break\n",
        "#     val = (val/samples)*N\n",
        "#     # print(np.linalg.norm(val - sigma))\n",
        "#     dist = np.linalg.norm(val - actual_sol)\n",
        "#     return dist\n"
      ]
    },
    {
      "cell_type": "code",
      "execution_count": null,
      "metadata": {
        "id": "dCc_hVwapRHn"
      },
      "outputs": [],
      "source": [
        "if __name__ == \"__main__\":\n",
        "    \n",
        "    num_iter = 1000\n",
        "    new_iter = 1000\n",
        "    start = np.zeros(N)\n",
        "    x = gibbs_sampling(N,num_iter,start)\n",
        "\n",
        "    norm = updated_many_samples_solution(N,x,b,actual_sol,sigma,num_iter*N,num_iter)\n",
        "    print(f'Norm of Final Solution obtained by Plane Gibbs Sampler wrt actual solution = {norm}')\n",
        "\n",
        "    conjugate_norm = updated_conjugate_solution(N,x,A,b,actual_sol,sigma,new_iter)\n",
        "    print(f'Norm of Final Solution obtained by Conjugate Gibbs Sampler wrt actual solution = {conjugate_norm}')\n",
        "\n",
        "    N_sampler_norm = updated_few_samples_solution(N,x,b,actual_sol,sigma,new_iter)\n",
        "    print(f'Norm of Final Solution obtained by N samples Gibbs Sampler wrt actual solution = {N_sampler_norm}')\n"
      ]
    },
    {
      "cell_type": "markdown",
      "metadata": {
        "id": "hjRLOHX9xx87"
      },
      "source": [
        "# nCr"
      ]
    },
    {
      "cell_type": "code",
      "execution_count": null,
      "metadata": {
        "id": "UsXbQIjizh88"
      },
      "outputs": [],
      "source": [
        "import time\n",
        "import math"
      ]
    },
    {
      "cell_type": "code",
      "execution_count": null,
      "metadata": {
        "id": "piATwXkkx1Qq"
      },
      "outputs": [],
      "source": [
        "def combinations(n,r):\n",
        "    t = 1\n",
        "    if n-r > r:\n",
        "        for i in range(1,r+1):\n",
        "            t = t * (n-r+i)/i\n",
        "    else:\n",
        "        for i in range(1,n-r+1):\n",
        "            t = t * (r+i)/i\n",
        "            if math.isinf(t) == True:\n",
        "                print(i)\n",
        "                return -1\n",
        "    return int(t)"
      ]
    },
    {
      "cell_type": "code",
      "execution_count": null,
      "metadata": {
        "id": "52-5yHsayJjS"
      },
      "outputs": [],
      "source": [
        "tic = time.time()\n",
        "print(combinations(2000,100))\n",
        "toc = time.time()"
      ]
    },
    {
      "cell_type": "code",
      "execution_count": null,
      "metadata": {
        "id": "d37SHgByzlcN"
      },
      "outputs": [],
      "source": [
        "toc - tic"
      ]
    },
    {
      "cell_type": "code",
      "execution_count": null,
      "metadata": {
        "id": "GmhWWxffzpX7"
      },
      "outputs": [],
      "source": []
    }
  ],
  "metadata": {
    "colab": {
      "collapsed_sections": [
        "hfoRwUyZPOby",
        "6UcRnH1eOBaZ",
        "vkNcQ9DeUHgg",
        "FbxIvK9ZUJFL",
        "NYajyIAA2tUL",
        "Xe6ixdNILYgo",
        "hjRLOHX9xx87"
      ],
      "name": "gs_for_large_matrices.ipynb",
      "provenance": []
    },
    "kernelspec": {
      "display_name": "Python 3.7.10 ('basic')",
      "language": "python",
      "name": "python3"
    },
    "language_info": {
      "codemirror_mode": {
        "name": "ipython",
        "version": 3
      },
      "file_extension": ".py",
      "mimetype": "text/x-python",
      "name": "python",
      "nbconvert_exporter": "python",
      "pygments_lexer": "ipython3",
      "version": "3.7.10"
    },
    "vscode": {
      "interpreter": {
        "hash": "cbb9b752b2e00d79181b10810213ec250859823ac34c680a70252b6b3a1c26f5"
      }
    }
  },
  "nbformat": 4,
  "nbformat_minor": 0
}
