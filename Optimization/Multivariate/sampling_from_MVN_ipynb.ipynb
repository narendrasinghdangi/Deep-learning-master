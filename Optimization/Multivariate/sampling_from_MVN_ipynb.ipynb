{
  "nbformat": 4,
  "nbformat_minor": 0,
  "metadata": {
    "colab": {
      "name": "sampling_from_MVN.ipynb.ipynb",
      "provenance": [],
      "toc_visible": true,
      "collapsed_sections": []
    },
    "kernelspec": {
      "name": "python3",
      "display_name": "Python 3"
    },
    "language_info": {
      "name": "python"
    }
  },
  "cells": [
    {
      "cell_type": "markdown",
      "source": [
        "# Implement from scratch a sampling method to draw samples from a multivariate Normal (MVN) distribution in JAX."
      ],
      "metadata": {
        "id": "z0B0HyUX5lZR"
      }
    },
    {
      "cell_type": "code",
      "source": [
        "import numpy as np\n",
        "import jax.numpy as jnp\n",
        "from jax import random\n",
        "import math"
      ],
      "metadata": {
        "id": "KBlTpfNYeBLF"
      },
      "execution_count": 136,
      "outputs": []
    },
    {
      "cell_type": "code",
      "source": [
        "# Change dimensions here\n",
        "dim = 10"
      ],
      "metadata": {
        "id": "0fIJMozQN_eh"
      },
      "execution_count": 137,
      "outputs": []
    },
    {
      "cell_type": "markdown",
      "source": [
        "**Generating positive definite matrix Sigma(covarience matrix) by multiplying a Square Matrix with it's own Transpose since by doing `A @ A.T` all the eigen values will be positive and `A @ A.T` is also symmetric hence it will be positive definite.**"
      ],
      "metadata": {
        "id": "-4YAnIjonDqJ"
      }
    },
    {
      "cell_type": "code",
      "source": [
        "key = random.PRNGKey(2)\n",
        "y = random.uniform(key,(dim,dim),minval = 1,maxval = 10)\n",
        "sigma = jnp.dot(y,y.T)"
      ],
      "metadata": {
        "id": "R-XbpaSehB9_"
      },
      "execution_count": 138,
      "outputs": []
    },
    {
      "cell_type": "code",
      "source": [
        "# generating mean randomly\n",
        "\n",
        "mean = random.uniform(key,(dim,1))\n",
        "mean.shape"
      ],
      "metadata": {
        "id": "UyBkMzFi6eB5",
        "colab": {
          "base_uri": "https://localhost:8080/"
        },
        "outputId": "44ef8f92-fb1b-4b29-f6a0-5d54134189d6"
      },
      "execution_count": 139,
      "outputs": [
        {
          "output_type": "execute_result",
          "data": {
            "text/plain": [
              "(10, 1)"
            ]
          },
          "metadata": {},
          "execution_count": 139
        }
      ]
    },
    {
      "cell_type": "markdown",
      "source": [
        "**Here we are doing cholesky decomposition of the Sigma(covarience matrix) which decomposes Sigma into `L @ L.T` where L is a Lower Triangular matrix.We are using cholesky here because say we have `Z ~ N(0,I)` and if we do affine Transformation of Z into `C = A + B @ Z` the resultant `C ~ N(A, B @ B.T)` but here we want B @ B.T to be our Sigma so we are taking `B = L`(lower triangular matrix obtained from cholesky decomposition)**"
      ],
      "metadata": {
        "id": "pdSdWEF8oAfz"
      }
    },
    {
      "cell_type": "code",
      "source": [
        "L = jnp.linalg.cholesky(sigma)"
      ],
      "metadata": {
        "id": "morJFv1ujxNa"
      },
      "execution_count": 140,
      "outputs": []
    },
    {
      "cell_type": "code",
      "source": [
        "# number of samples\n",
        "\n",
        "num_samples = 5000 * dim"
      ],
      "metadata": {
        "id": "IT8BEDDd511d"
      },
      "execution_count": 141,
      "outputs": []
    },
    {
      "cell_type": "markdown",
      "source": [
        "**Generating uniform random variables using random.uniform**"
      ],
      "metadata": {
        "id": "ftjNboinsHwH"
      }
    },
    {
      "cell_type": "code",
      "source": [
        "U1 = random.uniform(key,(num_samples,1))"
      ],
      "metadata": {
        "id": "8l5MEL1FiQkJ"
      },
      "execution_count": 142,
      "outputs": []
    },
    {
      "cell_type": "code",
      "source": [
        "U2 = random.uniform(key,(num_samples,1))"
      ],
      "metadata": {
        "id": "loKn1ihokQ9A"
      },
      "execution_count": 143,
      "outputs": []
    },
    {
      "cell_type": "markdown",
      "source": [
        "**Since it was asked not to use random.normal we are generating standard normal samples from uniform distribution. We can do it in multiple ways by using CLT(Central Limit Theorom) or using Box-muller transformation,etc. I used Box-muller transformation here which takes the Uniform random variables and maps them to polar from to make them normal random variables which can be then made into standard normal by subtracting mean and dividing by standard deviation**"
      ],
      "metadata": {
        "id": "rTQVcyJhqZFi"
      }
    },
    {
      "cell_type": "code",
      "source": [
        "X1 = jnp.sqrt(-2*(math.pi)* jnp.log(U1)) * jnp.cos(2*(math.pi)*U2)"
      ],
      "metadata": {
        "id": "klw15oiNkep2"
      },
      "execution_count": 144,
      "outputs": []
    },
    {
      "cell_type": "code",
      "source": [
        "X2 = jnp.sqrt(-2*(math.pi)* jnp.log(U1)) * jnp.sin(2*(math.pi)*U2)"
      ],
      "metadata": {
        "id": "FoJLAWjL1_VB"
      },
      "execution_count": 145,
      "outputs": []
    },
    {
      "cell_type": "code",
      "source": [
        "X = (X1 - jnp.mean(X1))/jnp.std(X1)\n",
        "X.shape"
      ],
      "metadata": {
        "id": "JNui_E7NmfA3",
        "colab": {
          "base_uri": "https://localhost:8080/"
        },
        "outputId": "979a07cb-defc-4e38-b7fc-45718ec5981b"
      },
      "execution_count": 146,
      "outputs": [
        {
          "output_type": "execute_result",
          "data": {
            "text/plain": [
              "(50000, 1)"
            ]
          },
          "metadata": {},
          "execution_count": 146
        }
      ]
    },
    {
      "cell_type": "code",
      "source": [
        "X = jnp.reshape(X,(dim,num_samples//dim))\n",
        "X.shape"
      ],
      "metadata": {
        "id": "1h3BhPX14jFD",
        "colab": {
          "base_uri": "https://localhost:8080/"
        },
        "outputId": "e662e60d-310e-475c-c1cf-90c17160f62e"
      },
      "execution_count": 147,
      "outputs": [
        {
          "output_type": "execute_result",
          "data": {
            "text/plain": [
              "(10, 5000)"
            ]
          },
          "metadata": {},
          "execution_count": 147
        }
      ]
    },
    {
      "cell_type": "markdown",
      "source": [
        "**Affine transformation of the generated standard normal rv X to give us samples from MVN**"
      ],
      "metadata": {
        "id": "IbnlfUeVrtrA"
      }
    },
    {
      "cell_type": "code",
      "source": [
        "Y = L @ X + mean"
      ],
      "metadata": {
        "id": "yXQC-1ksu2hq"
      },
      "execution_count": 148,
      "outputs": []
    },
    {
      "cell_type": "code",
      "source": [
        "cov = jnp.cov(Y)"
      ],
      "metadata": {
        "id": "F7u1JSsQ5FdE"
      },
      "execution_count": 149,
      "outputs": []
    },
    {
      "cell_type": "markdown",
      "source": [
        "**Checking the euclidian norm between the original Sigma matrix and the sigma of our sample**"
      ],
      "metadata": {
        "id": "PT69sn_lrQvR"
      }
    },
    {
      "cell_type": "code",
      "source": [
        "jnp.linalg.norm(sigma - cov)"
      ],
      "metadata": {
        "colab": {
          "base_uri": "https://localhost:8080/"
        },
        "id": "4hR5_WvS5dG5",
        "outputId": "1dc4035a-24dd-44dd-9b54-19214ee368ce"
      },
      "execution_count": 150,
      "outputs": [
        {
          "output_type": "execute_result",
          "data": {
            "text/plain": [
              "DeviceArray(31.951365, dtype=float32)"
            ]
          },
          "metadata": {},
          "execution_count": 150
        }
      ]
    },
    {
      "cell_type": "markdown",
      "source": [
        "**Checking error in mean using euclidean norm but here the norm is not taken as a function, made from scratch**"
      ],
      "metadata": {
        "id": "0gqw_4T-rbBJ"
      }
    },
    {
      "cell_type": "code",
      "source": [
        "mean_samp = jnp.mean(Y,axis = 1)"
      ],
      "metadata": {
        "id": "PzoLUPz25Lb7"
      },
      "execution_count": 151,
      "outputs": []
    },
    {
      "cell_type": "code",
      "source": [
        "temp = jnp.mean(Y,axis = 1).reshape(dim,1) - mean"
      ],
      "metadata": {
        "id": "xoUWdOOpB8K4"
      },
      "execution_count": 152,
      "outputs": []
    },
    {
      "cell_type": "code",
      "source": [
        "sum = 0\n",
        "for i in range(dim):\n",
        "    sum = sum + temp[i]**2\n",
        "print(f\"error in mean is {math.sqrt(sum)}\")"
      ],
      "metadata": {
        "colab": {
          "base_uri": "https://localhost:8080/"
        },
        "id": "jvGtYUkNB_B_",
        "outputId": "ced4d843-65ca-4522-f979-990896977c4e"
      },
      "execution_count": 153,
      "outputs": [
        {
          "output_type": "stream",
          "name": "stdout",
          "text": [
            "error in mean is 0.2766456818354105\n"
          ]
        }
      ]
    },
    {
      "cell_type": "code",
      "source": [
        "\"\"\" References:\n",
        "https://jax.readthedocs.io/en/latest/notebooks/quickstart.html\n",
        "https://en.wikipedia.org/wiki/Box%E2%80%93Muller_transform \"\"\""
      ],
      "metadata": {
        "id": "BmGAPt0u9Qp8",
        "colab": {
          "base_uri": "https://localhost:8080/",
          "height": 53
        },
        "outputId": "861ad6df-f316-4e45-c426-4bdb15f1fe1e"
      },
      "execution_count": 154,
      "outputs": [
        {
          "output_type": "execute_result",
          "data": {
            "text/plain": [
              "' References:\\nhttps://jax.readthedocs.io/en/latest/notebooks/quickstart.html\\nhttps://en.wikipedia.org/wiki/Box%E2%80%93Muller_transform '"
            ],
            "application/vnd.google.colaboratory.intrinsic+json": {
              "type": "string"
            }
          },
          "metadata": {},
          "execution_count": 154
        }
      ]
    },
    {
      "cell_type": "markdown",
      "source": [
        "**Note: We can also use gibbs sampling in this case to sample from MVN**"
      ],
      "metadata": {
        "id": "-0V7XG5rsSkc"
      }
    }
  ]
}