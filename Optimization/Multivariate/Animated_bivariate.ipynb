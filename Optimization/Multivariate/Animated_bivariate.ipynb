{
  "nbformat": 4,
  "nbformat_minor": 0,
  "metadata": {
    "colab": {
      "name": "Animated_bivariate.ipynb",
      "provenance": []
    },
    "kernelspec": {
      "name": "python3",
      "display_name": "Python 3"
    },
    "language_info": {
      "name": "python"
    }
  },
  "cells": [
    {
      "cell_type": "markdown",
      "source": [
        "# Animate bivariate normal distribution"
      ],
      "metadata": {
        "id": "u5ZqpKvLybt6"
      }
    },
    {
      "cell_type": "markdown",
      "source": [
        "**Using libraries like jax,math,matplotlib for sampling and plotting** "
      ],
      "metadata": {
        "id": "Cvku60lnU9Hd"
      }
    },
    {
      "cell_type": "code",
      "source": [
        "import numpy as np\n",
        "import jax.numpy as jnp\n",
        "from jax import random\n",
        "import math\n",
        "import jax\n",
        "import matplotlib.pyplot as plt\n",
        "from scipy.stats import norm\n",
        "from ipywidgets import interact\n",
        "from ipywidgets import interactive\n",
        "from ipywidgets import fixed\n",
        "from ipywidgets import interact_manual\n",
        "import ipywidgets as widgets\n",
        "%matplotlib inline\n",
        "from mpl_toolkits import mplot3d"
      ],
      "metadata": {
        "id": "INtfGC_b301t"
      },
      "execution_count": null,
      "outputs": []
    },
    {
      "cell_type": "code",
      "source": [
        "# number of samples can be changed here\n",
        "\n",
        "num_samples = 1000"
      ],
      "metadata": {
        "id": "AVDJAoilyhLi"
      },
      "execution_count": null,
      "outputs": []
    },
    {
      "cell_type": "markdown",
      "source": [
        "**Generating two standard normal random varaibles X1,X2 by using the function jax.random.multivariate_normal which takes mean and Sigma(covarience matrix) as inputs and generates samples from MVN**"
      ],
      "metadata": {
        "id": "x0q8IJl8f9Fw"
      }
    },
    {
      "cell_type": "code",
      "source": [
        "# Initializing mean and Sigma(covarience matrix)\n",
        "\n",
        "key = random.PRNGKey(2)\n",
        "mu = jnp.array([0,0])\n",
        "sigma = jnp.array([[1, 0.6],[0.6, 2]])"
      ],
      "metadata": {
        "id": "EQx8knbo4Bkf"
      },
      "execution_count": null,
      "outputs": []
    },
    {
      "cell_type": "markdown",
      "source": [
        "**Using the function to generate samples from MVN**"
      ],
      "metadata": {
        "id": "X9Hkf_hXixuU"
      }
    },
    {
      "cell_type": "code",
      "source": [
        "def sample_generator(mu,sigma):\n",
        "\n",
        "\n",
        "    X1,X2 = jax.random.multivariate_normal(key+40,mu,sigma,\n",
        "                                           shape = (num_samples,)).T\n",
        "    L = jnp.linalg.cholesky(sigma)\n",
        "    X1 = X1.reshape((num_samples,1))\n",
        "    X2 = X2.reshape((num_samples,1))\n",
        "    return X1,X2,L"
      ],
      "metadata": {
        "id": "PG-egTMC5apL"
      },
      "execution_count": null,
      "outputs": []
    },
    {
      "cell_type": "markdown",
      "source": [
        "**bivariate_plot is the plotting function which mainly uses matplotlib functions for plotting, we are generating the ellipse by multiplying with the cholesky decompostion of Sigma with the parametric coordinates of a circle since ellipse parametric points are (acost,bsint).Pdf curves of the rv's X1,X2 were found by using norm.pdf function from scipy.**"
      ],
      "metadata": {
        "id": "7e3Zkrjci79k"
      }
    },
    {
      "cell_type": "code",
      "source": [
        "def bivariate_plot(mu,sigma,L,X1,X2):\n",
        "\n",
        "\n",
        "    a = jnp.arange(-5,5,0.1)\n",
        "    b = jnp.arange(-5,5,0.1)\n",
        "    pdf_x = norm.pdf(np.array(a),mu[0],math.sqrt(sigma[0][0]))\n",
        "    pdf_y = norm.pdf(np.array(b),mu[1],math.sqrt(sigma[1][1]))\n",
        "    t = jnp.linspace(0,2*(math.pi),num = 100)\n",
        "    C = jnp.array([jnp.cos(t),jnp.sin(t)])\n",
        "    E = jnp.dot(3,jnp.dot(L,C))\n",
        "\n",
        "    fig = plt.figure()\n",
        "    ax = plt.axes(projection='3d')\n",
        "    ax.set_xlabel('X')\n",
        "    ax.set_ylabel('Y')\n",
        "    ax.set_zlabel('z')\n",
        "    ax.scatter3D(xs = X1,ys = X2,zs = jnp.zeros((num_samples,)),\n",
        "                 s = 2,c = 'black')\n",
        "    ax.plot3D(E[0][:]+mu[0],E[1][:]+mu[1],jnp.zeros((100,)),'darkgreen')\n",
        "\n",
        "    ax.plot3D(a,jnp.ones(len(a))*4.9,pdf_x)\n",
        "    ax.plot3D(jnp.ones(len(b))*(-5),b,pdf_y,'red')\n",
        "    ax.set_xlim3d(-5,5)\n",
        "    ax.set_ylim3d(-5,5)\n",
        "    ax.set()\n",
        "    ax.grid()\n",
        "    \n",
        "    plt.show()\n",
        "\n",
        "    return "
      ],
      "metadata": {
        "id": "YcNfNvk8ip-3"
      },
      "execution_count": null,
      "outputs": []
    },
    {
      "cell_type": "markdown",
      "source": [
        "**Updating mean and Sigma obtained from user response and running the code with new mean and Sigma**"
      ],
      "metadata": {
        "id": "VVR-jg-pk5lr"
      }
    },
    {
      "cell_type": "code",
      "source": [
        "def change_mean_sigma(\n",
        "    RV1_mean = 0,RV2_mean = 0,RV1_var = 1,\n",
        "    RV2_var = 2,cov = 0.6):\n",
        "\n",
        "\n",
        "    mu = jnp.array([RV1_mean,RV2_mean])\n",
        "    sigma = jnp.array([[RV1_var,cov],[cov,RV2_var]])\n",
        "    X1,X2,L = sample_generator(mu,sigma)\n",
        "    bivariate_plot(mu,sigma,L,X1,X2)\n",
        "    # print(RV1_mean,RV2_mean)\n",
        "    return "
      ],
      "metadata": {
        "id": "NfstqyTPCxAW"
      },
      "execution_count": null,
      "outputs": []
    },
    {
      "cell_type": "markdown",
      "source": [
        "**Mean and Covarience can be changed by the interactive environment provided using ipywidgets. We know Sigma (covarience matrix) in this case is a 2x2 matrix. Let A be a 2x2 matrix then, A is positive definite iff A is symmetric, trace(A) > 0 and det(A)> 0. So here (cov^2) < (RV1_var*RV2_var) where RV1 is X1,RV2 is X2. If the conditions are violated Sigma won't be positive definite**"
      ],
      "metadata": {
        "id": "nmfpariyg0tU"
      }
    },
    {
      "cell_type": "code",
      "source": [
        "if __name__ == \"__main__\":\n",
        "    \n",
        "    interact(change_mean_sigma,RV1_mean = (-3.0,3.0),RV2_mean = (-3.0,3.0),RV1_var = (1.0,4.0),RV2_var=(1.01,4.0),cov = (0.0,1.0));"
      ],
      "metadata": {
        "colab": {
          "base_uri": "https://localhost:8080/",
          "height": 408,
          "referenced_widgets": [
            "cdc08a3bc0564653bbb945eb147295f0",
            "cde171f5d9c54ebfb1af8e2e70e5ed6e",
            "3fb6eb679cfe4fc287373d04497604fa",
            "f8320fe7ca214e32ba908fec4663b186",
            "43342171599442078e9885513be05a49",
            "1d417ddb1dca422f89aa241e4f4d534e",
            "e5b8d651abd94a9197d3eb02062dd6c5",
            "147b04faa3064cc198dbd37495a16851",
            "41577b49fc55423ba03dc0981a766063",
            "9f3a53583f0a478e90c5748e33884239",
            "84331faaa75a4afcb9520bc050f9ba4f",
            "ccf0558aac1b4b8d9c330d995d9bc118",
            "27ae39f12fad4c3b9f4e5b90de41a397",
            "bd45c29a44624b35916b42e9d8de45e5",
            "655ec3078ad24e1b8ff1fc8dd856b475",
            "caf57f4da068435da1f24736d3d59223",
            "594980e6e69b457abefe06bdb75d39fd",
            "20ee6585675044bca88a58a5ef95d2b3",
            "25ec6807c597484a968c60c0196c1bb9"
          ]
        },
        "id": "PkHFLP7Pl_my",
        "outputId": "42b82737-f689-4c24-8582-34d9c3831eb7"
      },
      "execution_count": null,
      "outputs": [
        {
          "output_type": "display_data",
          "data": {
            "text/plain": [
              "interactive(children=(FloatSlider(value=0.0, description='RV1_mean', max=3.0, min=-3.0), FloatSlider(value=0.0…"
            ],
            "application/vnd.jupyter.widget-view+json": {
              "version_major": 2,
              "version_minor": 0,
              "model_id": "cdc08a3bc0564653bbb945eb147295f0"
            }
          },
          "metadata": {}
        }
      ]
    },
    {
      "cell_type": "markdown",
      "source": [
        "**Note: Instead of sampling using the function jax.random.multivariate_normal we can use our own sampling methods , for example gibbs sampling or L@X + mean where X ~ N(0,1) and still we can generate similar plots.**"
      ],
      "metadata": {
        "id": "4tmOOLaKl4iW"
      }
    }
  ]
}