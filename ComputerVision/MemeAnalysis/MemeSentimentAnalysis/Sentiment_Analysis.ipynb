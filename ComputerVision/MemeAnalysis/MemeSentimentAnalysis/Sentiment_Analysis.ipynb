{
  "cells": [
    {
      "cell_type": "markdown",
      "metadata": {
        "id": "gB7NtBO47OpG"
      },
      "source": [
        "# Basic Framework"
      ]
    },
    {
      "cell_type": "code",
      "execution_count": null,
      "metadata": {
        "id": "0T-KoABl7RF7"
      },
      "outputs": [],
      "source": [
        "import matplotlib.pyplot as plt # for plotting\n",
        "import numpy as np # for transformation\n",
        "import pandas as pd # to deal with dataframes\n",
        "import os \n",
        "import gc\n",
        "import torch # PyTorch package\n",
        "import torchvision # load datasets\n",
        "import torchvision.transforms as transforms # transform data\n",
        "import torch.nn as nn # basic building block for neural networks\n",
        "import torch.nn.functional as F # import convolution functions like Relu\n",
        "import torch.optim as optim # optimzer\n",
        "from torch.utils.data import Dataset, DataLoader # For making datasets\n",
        "from PIL import Image # For opening images from given path\n",
        "from sklearn.metrics import accuracy_score,f1_score"
      ]
    },
    {
      "cell_type": "code",
      "execution_count": null,
      "metadata": {
        "colab": {
          "base_uri": "https://localhost:8080/"
        },
        "id": "1prdfT5WA-Vw",
        "outputId": "e88fd38f-7f3c-4748-8b36-9b14aed43f15"
      },
      "outputs": [
        {
          "name": "stdout",
          "output_type": "stream",
          "text": [
            "cuda\n"
          ]
        }
      ],
      "source": [
        "device = torch.device('cuda' if torch.cuda.is_available() else 'cpu')\n",
        "print(device)\n",
        "# GPU is preffered "
      ]
    },
    {
      "cell_type": "code",
      "execution_count": null,
      "metadata": {
        "colab": {
          "base_uri": "https://localhost:8080/"
        },
        "id": "5Bv_-4qdNsn0",
        "outputId": "f84aaba7-b185-4cc0-9863-e51c4a960954"
      },
      "outputs": [
        {
          "name": "stdout",
          "output_type": "stream",
          "text": [
            "Mounted at /content/drive\n"
          ]
        }
      ],
      "source": [
        "from google.colab import drive\n",
        "drive.mount('/content/drive')     # Please comment out of the code if you are manually uploading the files"
      ]
    },
    {
      "cell_type": "code",
      "execution_count": null,
      "metadata": {
        "id": "qt-tJm5n8ErI"
      },
      "outputs": [],
      "source": [
        "num_epochs = 50 # Please set this according to your resources and training time\n",
        "num_epochs_b = 50 # Please set this according to your resources and training time"
      ]
    },
    {
      "cell_type": "code",
      "execution_count": null,
      "metadata": {
        "colab": {
          "base_uri": "https://localhost:8080/",
          "height": 285
        },
        "id": "wrmw8qDU84iX",
        "outputId": "38ac6e01-047c-4f6d-9075-b50b396db884"
      },
      "outputs": [
        {
          "name": "stdout",
          "output_type": "stream",
          "text": [
            "/content/drive/MyDrive/project\n"
          ]
        },
        {
          "data": {
            "text/html": [
              "\n",
              "  <div id=\"df-f20b4a22-02da-43ab-bf7e-b9cbab39e542\">\n",
              "    <div class=\"colab-df-container\">\n",
              "      <div>\n",
              "<style scoped>\n",
              "    .dataframe tbody tr th:only-of-type {\n",
              "        vertical-align: middle;\n",
              "    }\n",
              "\n",
              "    .dataframe tbody tr th {\n",
              "        vertical-align: top;\n",
              "    }\n",
              "\n",
              "    .dataframe thead th {\n",
              "        text-align: right;\n",
              "    }\n",
              "</style>\n",
              "<table border=\"1\" class=\"dataframe\">\n",
              "  <thead>\n",
              "    <tr style=\"text-align: right;\">\n",
              "      <th></th>\n",
              "      <th>Id</th>\n",
              "      <th>Image url</th>\n",
              "      <th>ocr_text</th>\n",
              "      <th>humour</th>\n",
              "      <th>sarcastic</th>\n",
              "      <th>offensive</th>\n",
              "      <th>motivational</th>\n",
              "      <th>overall_sentiment</th>\n",
              "      <th>classification_based_on</th>\n",
              "    </tr>\n",
              "  </thead>\n",
              "  <tbody>\n",
              "    <tr>\n",
              "      <th>0</th>\n",
              "      <td>1</td>\n",
              "      <td>https://preview.redd.it/9jkzlvt8p4q31.jpg?widt...</td>\n",
              "      <td>enters into a wrong class teacher and students</td>\n",
              "      <td>funny</td>\n",
              "      <td>not_sarcastic</td>\n",
              "      <td>slight</td>\n",
              "      <td>not_motivational</td>\n",
              "      <td>neutral</td>\n",
              "      <td>image_and_text</td>\n",
              "    </tr>\n",
              "    <tr>\n",
              "      <th>1</th>\n",
              "      <td>2</td>\n",
              "      <td>https://i.pinimg.com/originals/fd/c8/e2/fdc8e2...</td>\n",
              "      <td>dj if you single make some nooooissssseeee my ...</td>\n",
              "      <td>funny</td>\n",
              "      <td>not_sarcastic</td>\n",
              "      <td>not_offensive</td>\n",
              "      <td>not_motivational</td>\n",
              "      <td>neutral</td>\n",
              "      <td>image_and_text</td>\n",
              "    </tr>\n",
              "    <tr>\n",
              "      <th>2</th>\n",
              "      <td>3</td>\n",
              "      <td>https://i.pinimg.com/originals/85/10/13/851013...</td>\n",
              "      <td>everyone sit like a lady me</td>\n",
              "      <td>funny</td>\n",
              "      <td>not_sarcastic</td>\n",
              "      <td>slight</td>\n",
              "      <td>not_motivational</td>\n",
              "      <td>neutral</td>\n",
              "      <td>image_and_text</td>\n",
              "    </tr>\n",
              "    <tr>\n",
              "      <th>3</th>\n",
              "      <td>4</td>\n",
              "      <td>https://i.imgur.com/07ZcrjZ_d.webp?maxwidth=52...</td>\n",
              "      <td>when youre about to watch a 2 hour educational...</td>\n",
              "      <td>funny</td>\n",
              "      <td>not_sarcastic</td>\n",
              "      <td>not_offensive</td>\n",
              "      <td>not_motivational</td>\n",
              "      <td>neutral</td>\n",
              "      <td>image_and_text</td>\n",
              "    </tr>\n",
              "    <tr>\n",
              "      <th>4</th>\n",
              "      <td>5</td>\n",
              "      <td>https://i.imgur.com/MGddJxr_d.jpg?maxwidth=520...</td>\n",
              "      <td>government work from home olympic swimmers nsdf</td>\n",
              "      <td>very_funny</td>\n",
              "      <td>little_sarcastic</td>\n",
              "      <td>not_offensive</td>\n",
              "      <td>not_motivational</td>\n",
              "      <td>neutral</td>\n",
              "      <td>image_and_text</td>\n",
              "    </tr>\n",
              "  </tbody>\n",
              "</table>\n",
              "</div>\n",
              "      <button class=\"colab-df-convert\" onclick=\"convertToInteractive('df-f20b4a22-02da-43ab-bf7e-b9cbab39e542')\"\n",
              "              title=\"Convert this dataframe to an interactive table.\"\n",
              "              style=\"display:none;\">\n",
              "        \n",
              "  <svg xmlns=\"http://www.w3.org/2000/svg\" height=\"24px\"viewBox=\"0 0 24 24\"\n",
              "       width=\"24px\">\n",
              "    <path d=\"M0 0h24v24H0V0z\" fill=\"none\"/>\n",
              "    <path d=\"M18.56 5.44l.94 2.06.94-2.06 2.06-.94-2.06-.94-.94-2.06-.94 2.06-2.06.94zm-11 1L8.5 8.5l.94-2.06 2.06-.94-2.06-.94L8.5 2.5l-.94 2.06-2.06.94zm10 10l.94 2.06.94-2.06 2.06-.94-2.06-.94-.94-2.06-.94 2.06-2.06.94z\"/><path d=\"M17.41 7.96l-1.37-1.37c-.4-.4-.92-.59-1.43-.59-.52 0-1.04.2-1.43.59L10.3 9.45l-7.72 7.72c-.78.78-.78 2.05 0 2.83L4 21.41c.39.39.9.59 1.41.59.51 0 1.02-.2 1.41-.59l7.78-7.78 2.81-2.81c.8-.78.8-2.07 0-2.86zM5.41 20L4 18.59l7.72-7.72 1.47 1.35L5.41 20z\"/>\n",
              "  </svg>\n",
              "      </button>\n",
              "      \n",
              "  <style>\n",
              "    .colab-df-container {\n",
              "      display:flex;\n",
              "      flex-wrap:wrap;\n",
              "      gap: 12px;\n",
              "    }\n",
              "\n",
              "    .colab-df-convert {\n",
              "      background-color: #E8F0FE;\n",
              "      border: none;\n",
              "      border-radius: 50%;\n",
              "      cursor: pointer;\n",
              "      display: none;\n",
              "      fill: #1967D2;\n",
              "      height: 32px;\n",
              "      padding: 0 0 0 0;\n",
              "      width: 32px;\n",
              "    }\n",
              "\n",
              "    .colab-df-convert:hover {\n",
              "      background-color: #E2EBFA;\n",
              "      box-shadow: 0px 1px 2px rgba(60, 64, 67, 0.3), 0px 1px 3px 1px rgba(60, 64, 67, 0.15);\n",
              "      fill: #174EA6;\n",
              "    }\n",
              "\n",
              "    [theme=dark] .colab-df-convert {\n",
              "      background-color: #3B4455;\n",
              "      fill: #D2E3FC;\n",
              "    }\n",
              "\n",
              "    [theme=dark] .colab-df-convert:hover {\n",
              "      background-color: #434B5C;\n",
              "      box-shadow: 0px 1px 3px 1px rgba(0, 0, 0, 0.15);\n",
              "      filter: drop-shadow(0px 1px 2px rgba(0, 0, 0, 0.3));\n",
              "      fill: #FFFFFF;\n",
              "    }\n",
              "  </style>\n",
              "\n",
              "      <script>\n",
              "        const buttonEl =\n",
              "          document.querySelector('#df-f20b4a22-02da-43ab-bf7e-b9cbab39e542 button.colab-df-convert');\n",
              "        buttonEl.style.display =\n",
              "          google.colab.kernel.accessAllowed ? 'block' : 'none';\n",
              "\n",
              "        async function convertToInteractive(key) {\n",
              "          const element = document.querySelector('#df-f20b4a22-02da-43ab-bf7e-b9cbab39e542');\n",
              "          const dataTable =\n",
              "            await google.colab.kernel.invokeFunction('convertToInteractive',\n",
              "                                                     [key], {});\n",
              "          if (!dataTable) return;\n",
              "\n",
              "          const docLinkHtml = 'Like what you see? Visit the ' +\n",
              "            '<a target=\"_blank\" href=https://colab.research.google.com/notebooks/data_table.ipynb>data table notebook</a>'\n",
              "            + ' to learn more about interactive tables.';\n",
              "          element.innerHTML = '';\n",
              "          dataTable['output_type'] = 'display_data';\n",
              "          await google.colab.output.renderOutput(dataTable, element);\n",
              "          const docLink = document.createElement('div');\n",
              "          docLink.innerHTML = docLinkHtml;\n",
              "          element.appendChild(docLink);\n",
              "        }\n",
              "      </script>\n",
              "    </div>\n",
              "  </div>\n",
              "  "
            ],
            "text/plain": [
              "   Id                                          Image url  \\\n",
              "0   1  https://preview.redd.it/9jkzlvt8p4q31.jpg?widt...   \n",
              "1   2  https://i.pinimg.com/originals/fd/c8/e2/fdc8e2...   \n",
              "2   3  https://i.pinimg.com/originals/85/10/13/851013...   \n",
              "3   4  https://i.imgur.com/07ZcrjZ_d.webp?maxwidth=52...   \n",
              "4   5  https://i.imgur.com/MGddJxr_d.jpg?maxwidth=520...   \n",
              "\n",
              "                                            ocr_text      humour  \\\n",
              "0    enters into a wrong class teacher and students        funny   \n",
              "1  dj if you single make some nooooissssseeee my ...       funny   \n",
              "2                       everyone sit like a lady me        funny   \n",
              "3  when youre about to watch a 2 hour educational...       funny   \n",
              "4   government work from home olympic swimmers nsdf   very_funny   \n",
              "\n",
              "          sarcastic      offensive      motivational overall_sentiment  \\\n",
              "0     not_sarcastic         slight  not_motivational           neutral   \n",
              "1     not_sarcastic  not_offensive  not_motivational           neutral   \n",
              "2     not_sarcastic         slight  not_motivational           neutral   \n",
              "3     not_sarcastic  not_offensive  not_motivational           neutral   \n",
              "4  little_sarcastic  not_offensive  not_motivational           neutral   \n",
              "\n",
              "  classification_based_on  \n",
              "0          image_and_text  \n",
              "1          image_and_text  \n",
              "2          image_and_text  \n",
              "3          image_and_text  \n",
              "4          image_and_text  "
            ]
          },
          "execution_count": 6,
          "metadata": {},
          "output_type": "execute_result"
        }
      ],
      "source": [
        "os.chdir('/')\n",
        "os.chdir('content/drive/MyDrive/project') \n",
        "path = %pwd\n",
        "print(path) # Make sure path contains the location of the main folder containing the data\n",
        "train_df = pd.read_csv(path + '/Memotion2/memotion_train.csv')\n",
        "val_df = pd.read_csv(path + '/Memotion2/memotion_val.csv')\n",
        "test_df = pd.read_csv(path + '/memotion2_test/memotion_test.csv')\n",
        "train_df.head()"
      ]
    },
    {
      "cell_type": "markdown",
      "metadata": {
        "id": "eiM6Wt1am9nk"
      },
      "source": [
        "Adding a new column for image path"
      ]
    },
    {
      "cell_type": "code",
      "execution_count": null,
      "metadata": {
        "id": "cnwbv3R89kHR"
      },
      "outputs": [],
      "source": [
        "train_df['img_path'] = path + '/image folder/train_images/' + train_df['Id'].astype(str) + '.jpg'\n",
        "val_df['img_path'] = path + '/image folder/val_images/' + val_df['Id'].astype(str) + '.jpg'\n",
        "test_df['img_path'] = path + '/Test Images/Test Images/' + test_df['Id'].astype(str) + '.jpg'"
      ]
    },
    {
      "cell_type": "markdown",
      "metadata": {
        "id": "fdOSVvJhnBO4"
      },
      "source": [
        "label maps for all the three tasks resepectively. Used it for encoding the label to interger and one hot vectors "
      ]
    },
    {
      "cell_type": "code",
      "execution_count": null,
      "metadata": {
        "id": "K5j3n_lfTleG"
      },
      "outputs": [],
      "source": [
        "label_map1 = {     # For multi-class classification\n",
        "    \"neutral\":1,\n",
        "    \"negative\":0,\n",
        "    \"very_negative\":0,\n",
        "    \"positive\":2\n",
        "}\n",
        "label_map2 = {'funny': 0,       # multi-label classification\n",
        "             'very_funny': 0,\n",
        "             'not_funny': 0,\n",
        "             'hilarious': 0,\n",
        "             'not_sarcastic': 1,\n",
        "             'little_sarcastic': 1,\n",
        "             'very_sarcastic': 1,\n",
        "             'extremely_sarcastic': 1,\n",
        "             'slight': 2,\n",
        "             'not_offensive': 2,\n",
        "             'very_offensive': 2,\n",
        "             'hateful_offensive': 2,\n",
        "             'not_motivational': 3,\n",
        "             'motivational': 3\n",
        "             }\n",
        "label_map3 = {'funny': 0,        # multi - task classfication\n",
        "             'very_funny': 1,    # converting the original labels to 1 to 14\n",
        "             'not_funny': 2,\n",
        "             'hilarious': 3,\n",
        "             'not_sarcastic': 4,\n",
        "             'little_sarcastic': 5,\n",
        "             'very_sarcastic': 6,\n",
        "             'extremely_sarcastic': 7,\n",
        "             'slight': 8,\n",
        "             'not_offensive': 9,\n",
        "             'very_offensive': 10,\n",
        "             'hateful_offensive': 11,\n",
        "             'not_motivational': 12,\n",
        "             'motivational': 13\n",
        "             }"
      ]
    },
    {
      "cell_type": "code",
      "execution_count": null,
      "metadata": {
        "colab": {
          "base_uri": "https://localhost:8080/",
          "height": 206
        },
        "id": "LHp57H-LXLP9",
        "outputId": "51c4ea98-b0b6-48aa-dd02-1a615935aac8"
      },
      "outputs": [
        {
          "data": {
            "text/html": [
              "\n",
              "  <div id=\"df-b3cefb3a-1b02-4a9a-989a-325359f5fb1a\">\n",
              "    <div class=\"colab-df-container\">\n",
              "      <div>\n",
              "<style scoped>\n",
              "    .dataframe tbody tr th:only-of-type {\n",
              "        vertical-align: middle;\n",
              "    }\n",
              "\n",
              "    .dataframe tbody tr th {\n",
              "        vertical-align: top;\n",
              "    }\n",
              "\n",
              "    .dataframe thead th {\n",
              "        text-align: right;\n",
              "    }\n",
              "</style>\n",
              "<table border=\"1\" class=\"dataframe\">\n",
              "  <thead>\n",
              "    <tr style=\"text-align: right;\">\n",
              "      <th></th>\n",
              "      <th>Id</th>\n",
              "      <th>Image url</th>\n",
              "      <th>ocr_text</th>\n",
              "      <th>classification_based_on</th>\n",
              "      <th>img_path</th>\n",
              "    </tr>\n",
              "  </thead>\n",
              "  <tbody>\n",
              "    <tr>\n",
              "      <th>0</th>\n",
              "      <td>1</td>\n",
              "      <td>https://i.pinimg.com/originals/0c/4d/c3/0c4dc3...</td>\n",
              "      <td>women are so hard to read well actually we jus...</td>\n",
              "      <td>image_and_text</td>\n",
              "      <td>/content/drive/MyDrive/project/Test Images/Tes...</td>\n",
              "    </tr>\n",
              "    <tr>\n",
              "      <th>1</th>\n",
              "      <td>2</td>\n",
              "      <td>https://i.imgur.com/OeRleMX_d.webp?maxwidth=52...</td>\n",
              "      <td>when you are trying to hold a fart next to you...</td>\n",
              "      <td>image_and_text</td>\n",
              "      <td>/content/drive/MyDrive/project/Test Images/Tes...</td>\n",
              "    </tr>\n",
              "    <tr>\n",
              "      <th>2</th>\n",
              "      <td>3</td>\n",
              "      <td>https://chameleonmemes.com/wp-content/uploads/...</td>\n",
              "      <td>my girlfriend me</td>\n",
              "      <td>image_and_text</td>\n",
              "      <td>/content/drive/MyDrive/project/Test Images/Tes...</td>\n",
              "    </tr>\n",
              "    <tr>\n",
              "      <th>3</th>\n",
              "      <td>4</td>\n",
              "      <td>https://i.imgur.com/QchtYd8_d.webp?maxwidth=52...</td>\n",
              "      <td>wworld star fans  she ran like frozone from th...</td>\n",
              "      <td>image_and_text</td>\n",
              "      <td>/content/drive/MyDrive/project/Test Images/Tes...</td>\n",
              "    </tr>\n",
              "    <tr>\n",
              "      <th>4</th>\n",
              "      <td>5</td>\n",
              "      <td>https://i.imgur.com/h2BXkxe_d.webp?maxwidth=52...</td>\n",
              "      <td>if you stopped time youd be blind because ligh...</td>\n",
              "      <td>image_and_text</td>\n",
              "      <td>/content/drive/MyDrive/project/Test Images/Tes...</td>\n",
              "    </tr>\n",
              "  </tbody>\n",
              "</table>\n",
              "</div>\n",
              "      <button class=\"colab-df-convert\" onclick=\"convertToInteractive('df-b3cefb3a-1b02-4a9a-989a-325359f5fb1a')\"\n",
              "              title=\"Convert this dataframe to an interactive table.\"\n",
              "              style=\"display:none;\">\n",
              "        \n",
              "  <svg xmlns=\"http://www.w3.org/2000/svg\" height=\"24px\"viewBox=\"0 0 24 24\"\n",
              "       width=\"24px\">\n",
              "    <path d=\"M0 0h24v24H0V0z\" fill=\"none\"/>\n",
              "    <path d=\"M18.56 5.44l.94 2.06.94-2.06 2.06-.94-2.06-.94-.94-2.06-.94 2.06-2.06.94zm-11 1L8.5 8.5l.94-2.06 2.06-.94-2.06-.94L8.5 2.5l-.94 2.06-2.06.94zm10 10l.94 2.06.94-2.06 2.06-.94-2.06-.94-.94-2.06-.94 2.06-2.06.94z\"/><path d=\"M17.41 7.96l-1.37-1.37c-.4-.4-.92-.59-1.43-.59-.52 0-1.04.2-1.43.59L10.3 9.45l-7.72 7.72c-.78.78-.78 2.05 0 2.83L4 21.41c.39.39.9.59 1.41.59.51 0 1.02-.2 1.41-.59l7.78-7.78 2.81-2.81c.8-.78.8-2.07 0-2.86zM5.41 20L4 18.59l7.72-7.72 1.47 1.35L5.41 20z\"/>\n",
              "  </svg>\n",
              "      </button>\n",
              "      \n",
              "  <style>\n",
              "    .colab-df-container {\n",
              "      display:flex;\n",
              "      flex-wrap:wrap;\n",
              "      gap: 12px;\n",
              "    }\n",
              "\n",
              "    .colab-df-convert {\n",
              "      background-color: #E8F0FE;\n",
              "      border: none;\n",
              "      border-radius: 50%;\n",
              "      cursor: pointer;\n",
              "      display: none;\n",
              "      fill: #1967D2;\n",
              "      height: 32px;\n",
              "      padding: 0 0 0 0;\n",
              "      width: 32px;\n",
              "    }\n",
              "\n",
              "    .colab-df-convert:hover {\n",
              "      background-color: #E2EBFA;\n",
              "      box-shadow: 0px 1px 2px rgba(60, 64, 67, 0.3), 0px 1px 3px 1px rgba(60, 64, 67, 0.15);\n",
              "      fill: #174EA6;\n",
              "    }\n",
              "\n",
              "    [theme=dark] .colab-df-convert {\n",
              "      background-color: #3B4455;\n",
              "      fill: #D2E3FC;\n",
              "    }\n",
              "\n",
              "    [theme=dark] .colab-df-convert:hover {\n",
              "      background-color: #434B5C;\n",
              "      box-shadow: 0px 1px 3px 1px rgba(0, 0, 0, 0.15);\n",
              "      filter: drop-shadow(0px 1px 2px rgba(0, 0, 0, 0.3));\n",
              "      fill: #FFFFFF;\n",
              "    }\n",
              "  </style>\n",
              "\n",
              "      <script>\n",
              "        const buttonEl =\n",
              "          document.querySelector('#df-b3cefb3a-1b02-4a9a-989a-325359f5fb1a button.colab-df-convert');\n",
              "        buttonEl.style.display =\n",
              "          google.colab.kernel.accessAllowed ? 'block' : 'none';\n",
              "\n",
              "        async function convertToInteractive(key) {\n",
              "          const element = document.querySelector('#df-b3cefb3a-1b02-4a9a-989a-325359f5fb1a');\n",
              "          const dataTable =\n",
              "            await google.colab.kernel.invokeFunction('convertToInteractive',\n",
              "                                                     [key], {});\n",
              "          if (!dataTable) return;\n",
              "\n",
              "          const docLinkHtml = 'Like what you see? Visit the ' +\n",
              "            '<a target=\"_blank\" href=https://colab.research.google.com/notebooks/data_table.ipynb>data table notebook</a>'\n",
              "            + ' to learn more about interactive tables.';\n",
              "          element.innerHTML = '';\n",
              "          dataTable['output_type'] = 'display_data';\n",
              "          await google.colab.output.renderOutput(dataTable, element);\n",
              "          const docLink = document.createElement('div');\n",
              "          docLink.innerHTML = docLinkHtml;\n",
              "          element.appendChild(docLink);\n",
              "        }\n",
              "      </script>\n",
              "    </div>\n",
              "  </div>\n",
              "  "
            ],
            "text/plain": [
              "   Id                                          Image url  \\\n",
              "0   1  https://i.pinimg.com/originals/0c/4d/c3/0c4dc3...   \n",
              "1   2  https://i.imgur.com/OeRleMX_d.webp?maxwidth=52...   \n",
              "2   3  https://chameleonmemes.com/wp-content/uploads/...   \n",
              "3   4  https://i.imgur.com/QchtYd8_d.webp?maxwidth=52...   \n",
              "4   5  https://i.imgur.com/h2BXkxe_d.webp?maxwidth=52...   \n",
              "\n",
              "                                            ocr_text classification_based_on  \\\n",
              "0  women are so hard to read well actually we jus...          image_and_text   \n",
              "1  when you are trying to hold a fart next to you...          image_and_text   \n",
              "2                                   my girlfriend me          image_and_text   \n",
              "3  wworld star fans  she ran like frozone from th...          image_and_text   \n",
              "4  if you stopped time youd be blind because ligh...          image_and_text   \n",
              "\n",
              "                                            img_path  \n",
              "0  /content/drive/MyDrive/project/Test Images/Tes...  \n",
              "1  /content/drive/MyDrive/project/Test Images/Tes...  \n",
              "2  /content/drive/MyDrive/project/Test Images/Tes...  \n",
              "3  /content/drive/MyDrive/project/Test Images/Tes...  \n",
              "4  /content/drive/MyDrive/project/Test Images/Tes...  "
            ]
          },
          "execution_count": 23,
          "metadata": {},
          "output_type": "execute_result"
        }
      ],
      "source": [
        "test_df.head()"
      ]
    },
    {
      "cell_type": "code",
      "execution_count": null,
      "metadata": {
        "id": "B_k_0G3gUakJ"
      },
      "outputs": [],
      "source": [
        "# taskA column contains encoded label correspoinding for task A\n",
        "train_df['taskA'] = None\n",
        "val_df['taskA'] = None\n",
        "for i in range(train_df.shape[0]):\n",
        "    x = 0\n",
        "    s = train_df.iloc[i]['overall_sentiment']\n",
        "    x = label_map1[s]\n",
        "    train_df.at[i,'taskA'] = x\n",
        "for i in range(val_df.shape[0]):\n",
        "    x = 0\n",
        "    s = val_df.iloc[i]['overall_sentiment']\n",
        "    x = label_map1[s]\n",
        "    val_df.at[i,'taskA'] = x"
      ]
    },
    {
      "cell_type": "markdown",
      "metadata": {
        "id": "LFej2exYnpoy"
      },
      "source": [
        "Creating a new column multi_label which is a list of values of humour,sarcastic,offensive,motivational columns of the data frame"
      ]
    },
    {
      "cell_type": "code",
      "execution_count": null,
      "metadata": {
        "id": "5aBe-vGVV3_M"
      },
      "outputs": [],
      "source": [
        "train_df['multi_label'] = train_df.apply(lambda row: [row['humour'],row['sarcastic'],row['offensive'],row['motivational']],axis = 1)\n",
        "val_df['multi_label'] = val_df.apply(lambda row: [row['humour'],row['sarcastic'],row['offensive'],row['motivational']],axis = 1)"
      ]
    },
    {
      "cell_type": "code",
      "execution_count": null,
      "metadata": {
        "id": "ckDAyiPyWnXw"
      },
      "outputs": [],
      "source": [
        "# taskB column contains encoded label correspoinding for task B\n",
        "train_df['taskB'] = None\n",
        "val_df['taskB'] = None\n",
        "for i in range(train_df.shape[0]):\n",
        "    x = np.zeros(4)\n",
        "    for s in train_df.iloc[i]['multi_label']:\n",
        "        if \"not\" in s:\n",
        "            x[label_map2[s]] = 0\n",
        "        else:\n",
        "            x[label_map2[s]] = 1\n",
        "    train_df.at[i,'taskB'] = x\n",
        "\n",
        "for i in range(val_df.shape[0]):\n",
        "    x = np.zeros(4)\n",
        "    for s in val_df.iloc[i]['multi_label']:\n",
        "        if \"not\" in s:\n",
        "            x[label_map2[s]] = 0\n",
        "        else:\n",
        "            x[label_map2[s]] = 1\n",
        "    val_df.at[i,'taskB'] = x"
      ]
    },
    {
      "cell_type": "code",
      "execution_count": null,
      "metadata": {
        "id": "TorAG19dZMRa"
      },
      "outputs": [],
      "source": [
        "# taskC column contains encoded label correspoinding for task C\n",
        "train_df['taskC'] = None\n",
        "val_df['taskC'] = None\n",
        "for i in range(train_df.shape[0]):\n",
        "    x = np.zeros(14)\n",
        "    for s in train_df.iloc[i]['multi_label']:\n",
        "        x[label_map3[s]] = 1\n",
        "    train_df.at[i,'taskC'] = x\n",
        "\n",
        "for i in range(val_df.shape[0]):\n",
        "    x = np.zeros(14)\n",
        "    for s in val_df.iloc[i]['multi_label']:\n",
        "        x[label_map3[s]] = 1\n",
        "    val_df.at[i,'taskC'] = x"
      ]
    },
    {
      "cell_type": "markdown",
      "metadata": {
        "id": "qPi1rYlYoauE"
      },
      "source": [
        "Checking for null values in the dataframe"
      ]
    },
    {
      "cell_type": "code",
      "execution_count": null,
      "metadata": {
        "colab": {
          "base_uri": "https://localhost:8080/"
        },
        "id": "uXYg-yFISGSp",
        "outputId": "47a4eec2-7066-45ce-8c4e-d44cc852c211"
      },
      "outputs": [
        {
          "data": {
            "text/plain": [
              "Id                         False\n",
              "Image url                  False\n",
              "ocr_text                   False\n",
              "humour                     False\n",
              "sarcastic                  False\n",
              "offensive                  False\n",
              "motivational               False\n",
              "overall_sentiment          False\n",
              "classification_based_on    False\n",
              "img_path                   False\n",
              "taskA                      False\n",
              "multi_label                False\n",
              "taskB                      False\n",
              "taskC                      False\n",
              "dtype: bool"
            ]
          },
          "execution_count": 28,
          "metadata": {},
          "output_type": "execute_result"
        }
      ],
      "source": [
        "train_df.isnull().any()"
      ]
    },
    {
      "cell_type": "code",
      "execution_count": null,
      "metadata": {
        "colab": {
          "base_uri": "https://localhost:8080/"
        },
        "id": "j3xi0mRLkwHg",
        "outputId": "6b5e6bbe-5538-4bc9-d976-7ea7410a1836"
      },
      "outputs": [
        {
          "data": {
            "text/plain": [
              "Id                         False\n",
              "Image url                  False\n",
              "ocr_text                   False\n",
              "humour                     False\n",
              "sarcastic                  False\n",
              "offensive                  False\n",
              "motivational               False\n",
              "overall_sentiment          False\n",
              "classification_based_on    False\n",
              "img_path                   False\n",
              "taskA                      False\n",
              "multi_label                False\n",
              "taskB                      False\n",
              "taskC                      False\n",
              "dtype: bool"
            ]
          },
          "execution_count": 29,
          "metadata": {},
          "output_type": "execute_result"
        }
      ],
      "source": [
        "val_df.isnull().any()"
      ]
    },
    {
      "cell_type": "code",
      "execution_count": null,
      "metadata": {
        "colab": {
          "base_uri": "https://localhost:8080/",
          "height": 301
        },
        "id": "zFd_wSPDZxXG",
        "outputId": "9d31b553-4890-4a3a-a52e-b6af2bf73a1f"
      },
      "outputs": [
        {
          "data": {
            "text/html": [
              "\n",
              "  <div id=\"df-5d837f1c-ae27-4f43-9514-a0afbc65e2ea\">\n",
              "    <div class=\"colab-df-container\">\n",
              "      <div>\n",
              "<style scoped>\n",
              "    .dataframe tbody tr th:only-of-type {\n",
              "        vertical-align: middle;\n",
              "    }\n",
              "\n",
              "    .dataframe tbody tr th {\n",
              "        vertical-align: top;\n",
              "    }\n",
              "\n",
              "    .dataframe thead th {\n",
              "        text-align: right;\n",
              "    }\n",
              "</style>\n",
              "<table border=\"1\" class=\"dataframe\">\n",
              "  <thead>\n",
              "    <tr style=\"text-align: right;\">\n",
              "      <th></th>\n",
              "      <th>Id</th>\n",
              "      <th>Image url</th>\n",
              "      <th>ocr_text</th>\n",
              "      <th>humour</th>\n",
              "      <th>sarcastic</th>\n",
              "      <th>offensive</th>\n",
              "      <th>motivational</th>\n",
              "      <th>overall_sentiment</th>\n",
              "      <th>classification_based_on</th>\n",
              "      <th>img_path</th>\n",
              "      <th>taskA</th>\n",
              "      <th>multi_label</th>\n",
              "      <th>taskB</th>\n",
              "      <th>taskC</th>\n",
              "    </tr>\n",
              "  </thead>\n",
              "  <tbody>\n",
              "    <tr>\n",
              "      <th>0</th>\n",
              "      <td>1</td>\n",
              "      <td>https://preview.redd.it/9jkzlvt8p4q31.jpg?widt...</td>\n",
              "      <td>enters into a wrong class teacher and students</td>\n",
              "      <td>funny</td>\n",
              "      <td>not_sarcastic</td>\n",
              "      <td>slight</td>\n",
              "      <td>not_motivational</td>\n",
              "      <td>neutral</td>\n",
              "      <td>image_and_text</td>\n",
              "      <td>/content/drive/MyDrive/project/image folder/tr...</td>\n",
              "      <td>1</td>\n",
              "      <td>[funny, not_sarcastic, slight, not_motivational]</td>\n",
              "      <td>[1.0, 0.0, 1.0, 0.0]</td>\n",
              "      <td>[1.0, 0.0, 0.0, 0.0, 1.0, 0.0, 0.0, 0.0, 1.0, ...</td>\n",
              "    </tr>\n",
              "  </tbody>\n",
              "</table>\n",
              "</div>\n",
              "      <button class=\"colab-df-convert\" onclick=\"convertToInteractive('df-5d837f1c-ae27-4f43-9514-a0afbc65e2ea')\"\n",
              "              title=\"Convert this dataframe to an interactive table.\"\n",
              "              style=\"display:none;\">\n",
              "        \n",
              "  <svg xmlns=\"http://www.w3.org/2000/svg\" height=\"24px\"viewBox=\"0 0 24 24\"\n",
              "       width=\"24px\">\n",
              "    <path d=\"M0 0h24v24H0V0z\" fill=\"none\"/>\n",
              "    <path d=\"M18.56 5.44l.94 2.06.94-2.06 2.06-.94-2.06-.94-.94-2.06-.94 2.06-2.06.94zm-11 1L8.5 8.5l.94-2.06 2.06-.94-2.06-.94L8.5 2.5l-.94 2.06-2.06.94zm10 10l.94 2.06.94-2.06 2.06-.94-2.06-.94-.94-2.06-.94 2.06-2.06.94z\"/><path d=\"M17.41 7.96l-1.37-1.37c-.4-.4-.92-.59-1.43-.59-.52 0-1.04.2-1.43.59L10.3 9.45l-7.72 7.72c-.78.78-.78 2.05 0 2.83L4 21.41c.39.39.9.59 1.41.59.51 0 1.02-.2 1.41-.59l7.78-7.78 2.81-2.81c.8-.78.8-2.07 0-2.86zM5.41 20L4 18.59l7.72-7.72 1.47 1.35L5.41 20z\"/>\n",
              "  </svg>\n",
              "      </button>\n",
              "      \n",
              "  <style>\n",
              "    .colab-df-container {\n",
              "      display:flex;\n",
              "      flex-wrap:wrap;\n",
              "      gap: 12px;\n",
              "    }\n",
              "\n",
              "    .colab-df-convert {\n",
              "      background-color: #E8F0FE;\n",
              "      border: none;\n",
              "      border-radius: 50%;\n",
              "      cursor: pointer;\n",
              "      display: none;\n",
              "      fill: #1967D2;\n",
              "      height: 32px;\n",
              "      padding: 0 0 0 0;\n",
              "      width: 32px;\n",
              "    }\n",
              "\n",
              "    .colab-df-convert:hover {\n",
              "      background-color: #E2EBFA;\n",
              "      box-shadow: 0px 1px 2px rgba(60, 64, 67, 0.3), 0px 1px 3px 1px rgba(60, 64, 67, 0.15);\n",
              "      fill: #174EA6;\n",
              "    }\n",
              "\n",
              "    [theme=dark] .colab-df-convert {\n",
              "      background-color: #3B4455;\n",
              "      fill: #D2E3FC;\n",
              "    }\n",
              "\n",
              "    [theme=dark] .colab-df-convert:hover {\n",
              "      background-color: #434B5C;\n",
              "      box-shadow: 0px 1px 3px 1px rgba(0, 0, 0, 0.15);\n",
              "      filter: drop-shadow(0px 1px 2px rgba(0, 0, 0, 0.3));\n",
              "      fill: #FFFFFF;\n",
              "    }\n",
              "  </style>\n",
              "\n",
              "      <script>\n",
              "        const buttonEl =\n",
              "          document.querySelector('#df-5d837f1c-ae27-4f43-9514-a0afbc65e2ea button.colab-df-convert');\n",
              "        buttonEl.style.display =\n",
              "          google.colab.kernel.accessAllowed ? 'block' : 'none';\n",
              "\n",
              "        async function convertToInteractive(key) {\n",
              "          const element = document.querySelector('#df-5d837f1c-ae27-4f43-9514-a0afbc65e2ea');\n",
              "          const dataTable =\n",
              "            await google.colab.kernel.invokeFunction('convertToInteractive',\n",
              "                                                     [key], {});\n",
              "          if (!dataTable) return;\n",
              "\n",
              "          const docLinkHtml = 'Like what you see? Visit the ' +\n",
              "            '<a target=\"_blank\" href=https://colab.research.google.com/notebooks/data_table.ipynb>data table notebook</a>'\n",
              "            + ' to learn more about interactive tables.';\n",
              "          element.innerHTML = '';\n",
              "          dataTable['output_type'] = 'display_data';\n",
              "          await google.colab.output.renderOutput(dataTable, element);\n",
              "          const docLink = document.createElement('div');\n",
              "          docLink.innerHTML = docLinkHtml;\n",
              "          element.appendChild(docLink);\n",
              "        }\n",
              "      </script>\n",
              "    </div>\n",
              "  </div>\n",
              "  "
            ],
            "text/plain": [
              "   Id                                          Image url  \\\n",
              "0   1  https://preview.redd.it/9jkzlvt8p4q31.jpg?widt...   \n",
              "\n",
              "                                          ocr_text humour      sarcastic  \\\n",
              "0  enters into a wrong class teacher and students   funny  not_sarcastic   \n",
              "\n",
              "  offensive      motivational overall_sentiment classification_based_on  \\\n",
              "0    slight  not_motivational           neutral          image_and_text   \n",
              "\n",
              "                                            img_path taskA  \\\n",
              "0  /content/drive/MyDrive/project/image folder/tr...     1   \n",
              "\n",
              "                                        multi_label                 taskB  \\\n",
              "0  [funny, not_sarcastic, slight, not_motivational]  [1.0, 0.0, 1.0, 0.0]   \n",
              "\n",
              "                                               taskC  \n",
              "0  [1.0, 0.0, 0.0, 0.0, 1.0, 0.0, 0.0, 0.0, 1.0, ...  "
            ]
          },
          "execution_count": 31,
          "metadata": {},
          "output_type": "execute_result"
        }
      ],
      "source": [
        "train_df.head(1)"
      ]
    },
    {
      "cell_type": "markdown",
      "metadata": {
        "id": "tmrI9mgCofpU"
      },
      "source": [
        "Defining MemesDataSet class for generating datasets for all the three tasks"
      ]
    },
    {
      "cell_type": "code",
      "execution_count": null,
      "metadata": {
        "id": "vOxwEJjG9uAN"
      },
      "outputs": [],
      "source": [
        "class MemesDataSet(Dataset):\n",
        "\n",
        "    def __init__(self, data_frame, root_dir,subtask,transform=None):\n",
        "        self.data_frame = data_frame\n",
        "        self.root_dir = root_dir\n",
        "        self.transform = transform   # image transform\n",
        "        self.subtask = subtask  # which task are we dealing in the given three tasks\n",
        "        self.images = []\n",
        "\n",
        "        # We are storing the images in the __init__ method so that we need not laod and transform the \n",
        "        # images everytime the __getitem__ method is initiated which saves time and we can run for more epochs.\n",
        "        # But this comes at the cost of memory, since we are storing all the 7000 images in the init method.\n",
        "        # It consumes a lot of memory.\n",
        "        for i in range(self.data_frame.shape[0]):\n",
        "          if subtask == 'test':\n",
        "            temp_image = Image.open(os.path.join(self.root_dir, self.data_frame.iloc[i, -1]))\n",
        "            temp_image = temp_image.convert('RGB')\n",
        "            self.images.append(self.transform(temp_image))\n",
        "          else:\n",
        "            temp_image = Image.open(os.path.join(self.root_dir, self.data_frame.iloc[i, -5]))\n",
        "            temp_image = temp_image.convert('RGB')\n",
        "            self.images.append(self.transform(temp_image))\n",
        "\n",
        "    def __len__(self):\n",
        "        # Return the length of the dataset\n",
        "        return len(self.data_frame)\n",
        "    \n",
        "    def __getitem__(self, idx):\n",
        "        \n",
        "        if self.subtask == 'A':\n",
        "          label = self.data_frame.iloc[idx, -4]\n",
        "        elif self.subtask == 'B':\n",
        "          label = self.data_frame.iloc[idx, -2]\n",
        "        elif self.subtask == 'C':\n",
        "          label = self.data_frame.iloc[idx, -1]\n",
        "        else:\n",
        "          return self.images[idx]\n",
        "\n",
        "        return (self.images[idx], label)\n",
        "    \n",
        "    def update_subtask(self, subtask):\n",
        "      self.subtask = subtask"
      ]
    },
    {
      "cell_type": "code",
      "execution_count": null,
      "metadata": {
        "id": "fD-mcmb9pb1Q"
      },
      "outputs": [],
      "source": [
        "# typical image transformation\n",
        "transform = transforms.Compose([\n",
        "            torchvision.transforms.Resize(256),\n",
        "            torchvision.transforms.CenterCrop(224),\n",
        "            torchvision.transforms.ToTensor(),\n",
        "            torchvision.transforms.Normalize(\n",
        "                mean = (0.485,0.456,0.406),\n",
        "                std = (0.229,0.224,0.225))]\n",
        ")"
      ]
    },
    {
      "cell_type": "code",
      "execution_count": null,
      "metadata": {
        "colab": {
          "base_uri": "https://localhost:8080/"
        },
        "id": "51IoMsCYd3HY",
        "outputId": "1346a89f-9c2b-4d01-f5bc-b6d5c14726d3"
      },
      "outputs": [
        {
          "data": {
            "text/plain": [
              "(1500, 5)"
            ]
          },
          "execution_count": 34,
          "metadata": {},
          "output_type": "execute_result"
        }
      ],
      "source": [
        "test_df.shape"
      ]
    },
    {
      "cell_type": "code",
      "execution_count": null,
      "metadata": {
        "colab": {
          "base_uri": "https://localhost:8080/"
        },
        "id": "SiRcdJmOfBa0",
        "outputId": "e824f549-b1dc-43b8-83d3-f10760af7121"
      },
      "outputs": [
        {
          "name": "stderr",
          "output_type": "stream",
          "text": [
            "/usr/local/lib/python3.7/dist-packages/PIL/Image.py:960: UserWarning: Palette images with Transparency expressed in bytes should be converted to RGBA images\n",
            "  \"Palette images with Transparency expressed in bytes should be \"\n"
          ]
        }
      ],
      "source": [
        "testset = MemesDataSet(\n",
        "    data_frame = test_df,\n",
        "    root_dir = '',\n",
        "    subtask = 'test',\n",
        "    transform = transform\n",
        ")\n",
        "\n",
        "common_trainset = MemesDataSet(\n",
        "    data_frame = train_df,\n",
        "    root_dir = '',\n",
        "    subtask = None,\n",
        "    transform = transform\n",
        ")\n",
        "\n",
        "common_valset = MemesDataSet(\n",
        "    data_frame = val_df,\n",
        "    root_dir = '',\n",
        "    subtask = None,\n",
        "    transform = transform\n",
        ")"
      ]
    },
    {
      "cell_type": "code",
      "execution_count": null,
      "metadata": {
        "id": "avT7HmI5Tzuj"
      },
      "outputs": [],
      "source": [
        "import pickle\n",
        "# Saving datasets as it takes lot of time to process them\n",
        "with open('./testset.pickle', 'wb') as handle:\n",
        "    pickle.dump(testset, handle, protocol=pickle.HIGHEST_PROTOCOL)\n",
        "with open('./common_trainset.pickle', 'wb') as handle:\n",
        "    pickle.dump(common_trainset, handle, protocol=pickle.HIGHEST_PROTOCOL)\n",
        "with open('./common_valset.pickle', 'wb') as handle:\n",
        "    pickle.dump(common_valset, handle, protocol=pickle.HIGHEST_PROTOCOL)"
      ]
    },
    {
      "cell_type": "code",
      "execution_count": null,
      "metadata": {
        "id": "GTfSN2l6Y6rE"
      },
      "outputs": [],
      "source": [
        "with open('testset.pickle', 'rb') as handle:\n",
        "    testset = pickle.load(handle)\n",
        "with open('common_trainset.pickle', 'rb') as handle:\n",
        "    common_trainset = pickle.load(handle)\n",
        "with open('common_valset.pickle', 'rb') as handle:\n",
        "    common_valset = pickle.load(handle)"
      ]
    },
    {
      "cell_type": "code",
      "execution_count": null,
      "metadata": {
        "id": "1wBiLgnLIP8S"
      },
      "outputs": [],
      "source": [
        "test_df['taskA'] = None\n",
        "test_df['taskB'] = None\n",
        "test_df['taskC'] = None"
      ]
    },
    {
      "cell_type": "markdown",
      "metadata": {
        "id": "qgNcbZ0TzvUz"
      },
      "source": [
        "# Task A"
      ]
    },
    {
      "cell_type": "code",
      "execution_count": null,
      "metadata": {
        "id": "j28z8qUTDtHF"
      },
      "outputs": [],
      "source": [
        "# Generating trainingset for taskA\n",
        "trainset = common_trainset\n",
        "trainset.update_subtask('A')\n",
        "valset = common_valset\n",
        "valset.update_subtask('A')"
      ]
    },
    {
      "cell_type": "markdown",
      "metadata": {
        "id": "6OJ9jhCXp__b"
      },
      "source": [
        "Loading data into DataLoaders and initializing it's hyper parameters"
      ]
    },
    {
      "cell_type": "code",
      "execution_count": null,
      "metadata": {
        "id": "aPb88ZPmgzap"
      },
      "outputs": [],
      "source": [
        "# set batch_size\n",
        "batch_size = 16\n",
        "\n",
        "# load train data\n",
        "traindataloader = DataLoader(trainset, batch_size = batch_size,\n",
        "                            shuffle=True)\n",
        "\n",
        "# load test data\n",
        "valdataloader = DataLoader(valset, batch_size = 64,\n",
        "                        shuffle=False)\n",
        "\n",
        "classes = ('neutral','positive','negative')"
      ]
    },
    {
      "cell_type": "code",
      "execution_count": null,
      "metadata": {
        "id": "0zWpDz9A7UO_"
      },
      "outputs": [],
      "source": [
        "# Basic Convolutional Model Architecture\n",
        "class ConvNet(nn.Module):\n",
        "\n",
        "    ''' Models a simple Convolutional Neural Network '''\n",
        "\t\n",
        "    def __init__(self):\n",
        "        ''' initialize the network '''\n",
        "        super(ConvNet, self).__init__()\n",
        "        # 3 input image channel, 6 output channels,\n",
        "        # 5x5 square convolution kernel\n",
        "        self.conv1 = nn.Conv2d(3,6,5)\n",
        "        # Max pooling over a (2, 2) window\n",
        "        self.pool = nn.MaxPool2d(2, 2)\n",
        "        self.conv2 = nn.Conv2d(6, 16, 5)\n",
        "        self.conv3 = nn.Conv2d(16, 20, 4)\n",
        "        self.fc1 = nn.Linear(20 * 25 * 25, 256) # Computationally heavy layer since we have 20*25*25*256 parameters in the layer\n",
        "        # self.fc2 = nn.Linear(2048, 256)\n",
        "        self.fc2 = nn.Linear(256, 3) # Ouput layer consists of 3 neurons\n",
        "        self.logsoftmax = nn.LogSoftmax(dim = 1) # Since it is multi-class classification we used Softmax/LogSoftmax\n",
        "\n",
        "    def forward(self, x):\n",
        "        ''' the forward propagation algorithm '''\n",
        "        x = self.pool(F.relu(self.conv1(x)))\n",
        "        x = self.pool(F.relu(self.conv2(x)))\n",
        "        x = self.pool(F.relu(self.conv3(x)))\n",
        "        x = x.view(-1, 20 * 25 * 25)\n",
        "        x = F.relu(self.fc1(x))\n",
        "        # x = F.relu(self.fc2(x))\n",
        "        x = self.logsoftmax(self.fc2(x))\n",
        "        return x\n"
      ]
    },
    {
      "cell_type": "code",
      "execution_count": null,
      "metadata": {
        "colab": {
          "base_uri": "https://localhost:8080/"
        },
        "id": "LWYF1DvJh3Q7",
        "outputId": "3a682edc-6742-4dd0-ba26-b7ada73210b6"
      },
      "outputs": [
        {
          "name": "stdout",
          "output_type": "stream",
          "text": [
            "ConvNet(\n",
            "  (conv1): Conv2d(3, 6, kernel_size=(5, 5), stride=(1, 1))\n",
            "  (pool): MaxPool2d(kernel_size=2, stride=2, padding=0, dilation=1, ceil_mode=False)\n",
            "  (conv2): Conv2d(6, 16, kernel_size=(5, 5), stride=(1, 1))\n",
            "  (conv3): Conv2d(16, 20, kernel_size=(4, 4), stride=(1, 1))\n",
            "  (fc1): Linear(in_features=12500, out_features=256, bias=True)\n",
            "  (fc2): Linear(in_features=256, out_features=3, bias=True)\n",
            "  (logsoftmax): LogSoftmax(dim=1)\n",
            ")\n"
          ]
        }
      ],
      "source": [
        "net = ConvNet()\n",
        "net.to(device)\n",
        "print(net)"
      ]
    },
    {
      "cell_type": "markdown",
      "metadata": {
        "id": "rGH8FfWfp9fo"
      },
      "source": [
        "Training the model"
      ]
    },
    {
      "cell_type": "code",
      "execution_count": null,
      "metadata": {
        "colab": {
          "base_uri": "https://localhost:8080/"
        },
        "id": "Dj_rB3VF3k5i",
        "outputId": "bbc5fbe9-1a0d-4cca-b81c-ca5b5b84baf3"
      },
      "outputs": [
        {
          "data": {
            "text/plain": [
              "True"
            ]
          },
          "execution_count": 123,
          "metadata": {},
          "output_type": "execute_result"
        }
      ],
      "source": [
        "next(net.parameters()).is_cuda"
      ]
    },
    {
      "cell_type": "code",
      "execution_count": null,
      "metadata": {
        "colab": {
          "base_uri": "https://localhost:8080/"
        },
        "id": "JKbvhVolUn8f",
        "outputId": "3a096315-dc6a-4fe3-c9c1-625ccca3947b"
      },
      "outputs": [
        {
          "name": "stdout",
          "output_type": "stream",
          "text": [
            "[1,    80] loss: 0.827\n",
            "[1,   160] loss: 0.963\n",
            "[1,   240] loss: 0.769\n",
            "[1,   320] loss: 1.017\n",
            "[1,   400] loss: 0.895\n",
            "[2,    80] loss: 1.041\n",
            "[2,   160] loss: 0.557\n",
            "[2,   240] loss: 1.089\n",
            "[2,   320] loss: 0.815\n",
            "[2,   400] loss: 0.682\n",
            "[3,    80] loss: 1.070\n",
            "[3,   160] loss: 0.676\n",
            "[3,   240] loss: 0.774\n",
            "[3,   320] loss: 1.008\n",
            "[3,   400] loss: 0.911\n",
            "[4,    80] loss: 0.858\n",
            "[4,   160] loss: 0.643\n",
            "[4,   240] loss: 0.731\n",
            "[4,   320] loss: 0.797\n",
            "[4,   400] loss: 0.551\n",
            "[5,    80] loss: 1.027\n",
            "[5,   160] loss: 0.994\n",
            "[5,   240] loss: 0.819\n",
            "[5,   320] loss: 0.805\n",
            "[5,   400] loss: 0.643\n",
            "[6,    80] loss: 0.725\n",
            "[6,   160] loss: 0.608\n",
            "[6,   240] loss: 0.503\n",
            "[6,   320] loss: 1.100\n",
            "[6,   400] loss: 0.637\n",
            "[7,    80] loss: 0.742\n",
            "[7,   160] loss: 0.918\n",
            "[7,   240] loss: 0.721\n",
            "[7,   320] loss: 0.758\n",
            "[7,   400] loss: 0.760\n",
            "[8,    80] loss: 0.520\n",
            "[8,   160] loss: 0.693\n",
            "[8,   240] loss: 0.833\n",
            "[8,   320] loss: 0.333\n",
            "[8,   400] loss: 0.699\n",
            "[9,    80] loss: 0.698\n",
            "[9,   160] loss: 0.457\n",
            "[9,   240] loss: 0.641\n",
            "[9,   320] loss: 0.384\n",
            "[9,   400] loss: 0.674\n",
            "[10,    80] loss: 0.526\n",
            "[10,   160] loss: 0.396\n",
            "[10,   240] loss: 0.478\n",
            "[10,   320] loss: 0.270\n",
            "[10,   400] loss: 0.885\n",
            "[11,    80] loss: 0.202\n",
            "[11,   160] loss: 0.118\n",
            "[11,   240] loss: 0.510\n",
            "[11,   320] loss: 0.489\n",
            "[11,   400] loss: 0.405\n",
            "[12,    80] loss: 0.328\n",
            "[12,   160] loss: 0.371\n",
            "[12,   240] loss: 0.256\n",
            "[12,   320] loss: 0.243\n",
            "[12,   400] loss: 0.301\n",
            "[13,    80] loss: 0.259\n",
            "[13,   160] loss: 0.204\n",
            "[13,   240] loss: 0.099\n",
            "[13,   320] loss: 0.122\n",
            "[13,   400] loss: 0.410\n",
            "[14,    80] loss: 0.144\n",
            "[14,   160] loss: 0.265\n",
            "[14,   240] loss: 0.052\n",
            "[14,   320] loss: 0.133\n",
            "[14,   400] loss: 0.162\n",
            "[15,    80] loss: 0.114\n",
            "[15,   160] loss: 0.080\n",
            "[15,   240] loss: 0.030\n",
            "[15,   320] loss: 0.148\n",
            "[15,   400] loss: 0.164\n",
            "[16,    80] loss: 0.034\n",
            "[16,   160] loss: 0.230\n",
            "[16,   240] loss: 0.354\n",
            "[16,   320] loss: 0.026\n",
            "[16,   400] loss: 0.045\n",
            "[17,    80] loss: 0.086\n",
            "[17,   160] loss: 0.028\n",
            "[17,   240] loss: 0.083\n",
            "[17,   320] loss: 0.113\n",
            "[17,   400] loss: 0.042\n",
            "[18,    80] loss: 0.038\n",
            "[18,   160] loss: 0.031\n",
            "[18,   240] loss: 0.042\n",
            "[18,   320] loss: 0.028\n",
            "[18,   400] loss: 0.029\n",
            "[19,    80] loss: 0.282\n",
            "[19,   160] loss: 0.011\n",
            "[19,   240] loss: 0.101\n",
            "[19,   320] loss: 0.057\n",
            "[19,   400] loss: 0.069\n",
            "[20,    80] loss: 0.016\n",
            "[20,   160] loss: 0.013\n",
            "[20,   240] loss: 0.158\n",
            "[20,   320] loss: 0.023\n",
            "[20,   400] loss: 0.373\n"
          ]
        }
      ],
      "source": [
        "criterion = nn.NLLLoss()  # using NLL Loss\n",
        "optimizer = optim.Adam(net.parameters(), lr=0.0001) # Adam Optimiser\n",
        "\n",
        "for epoch in range(20):  # loop over the dataset multiple times\n",
        "\n",
        "    for i, data in enumerate(traindataloader):\n",
        "        # get the inputs; data is a list of [inputs, labels]\n",
        "        inputs, labels = data\n",
        "        # print(device)\n",
        "        inputs, labels = inputs.to(device), labels.to(device)\n",
        "        # zero the parameter gradients\n",
        "        optimizer.zero_grad()\n",
        "\n",
        "        # forward + backward + optimize\n",
        "        outputs = net(inputs)\n",
        "        loss = criterion(outputs, labels)\n",
        "        loss.backward()\n",
        "        optimizer.step()\n",
        "        # print statistics\n",
        "        if i % 80 == 79:   \n",
        "            print('[%d, %5d] loss: %.3f' %\n",
        "                  (epoch + 1, i + 1, loss.item()))\n"
      ]
    },
    {
      "cell_type": "code",
      "execution_count": null,
      "metadata": {
        "id": "rMkuwg_H_Sqt"
      },
      "outputs": [],
      "source": [
        "# saving the multi-class model net\n",
        "net = net.to('cpu')\n",
        "torch.save(net.state_dict(),'./net.pth')\n",
        "net = net.to(device)"
      ]
    },
    {
      "cell_type": "markdown",
      "metadata": {
        "id": "iziXQ0xqqGbc"
      },
      "source": [
        "Evaluating the model"
      ]
    },
    {
      "cell_type": "code",
      "execution_count": null,
      "metadata": {
        "colab": {
          "base_uri": "https://localhost:8080/"
        },
        "id": "r82mrErKVJIq",
        "outputId": "ace214b8-0d9f-4587-970c-322a917fc191"
      },
      "outputs": [
        {
          "name": "stdout",
          "output_type": "stream",
          "text": [
            "F1 score is 0.33380429135703354\n",
            "Accuracy score is 0.516\n"
          ]
        }
      ],
      "source": [
        "# Evaluation mode\n",
        "net.eval()\n",
        "correct = 0\n",
        "total = 0\n",
        "all_labels = []\n",
        "all_predicted = []\n",
        "with torch.no_grad():\n",
        "    for data in valdataloader:\n",
        "        images, labels = data\n",
        "        images = images.to(device)\n",
        "        outputs = net(images)\n",
        "        _, predicted = torch.max(outputs.data, 1)\n",
        "        predicted = predicted.to('cpu')\n",
        "        all_labels.append(labels)\n",
        "        all_predicted.append(predicted)\n",
        "    a1,a2 = all_labels,all_predicted\n",
        "    a1 = torch.cat(a1)\n",
        "    a2 = torch.cat(a2)\n",
        "    print(f'F1 score is {np.mean(f1_score(a1,a2,average = None))}') # Printing F1 score\n",
        "    print(f'Accuracy score is {np.mean(accuracy_score(a1,a2))}') # Printing accuracy_score\n"
      ]
    },
    {
      "cell_type": "markdown",
      "metadata": {
        "id": "cJK9nuRRjubu"
      },
      "source": [
        "**Incase if generating trainset and valset is taking time, I'm loading my trained model here with which you can directly run it on test dataloader**"
      ]
    },
    {
      "cell_type": "code",
      "execution_count": null,
      "metadata": {
        "colab": {
          "base_uri": "https://localhost:8080/"
        },
        "id": "hDOd7CLxjvfu",
        "outputId": "94fd405d-2a75-47f7-a43f-0f6055c9b1f3"
      },
      "outputs": [
        {
          "data": {
            "text/plain": [
              "ConvNet(\n",
              "  (conv1): Conv2d(3, 6, kernel_size=(5, 5), stride=(1, 1))\n",
              "  (pool): MaxPool2d(kernel_size=2, stride=2, padding=0, dilation=1, ceil_mode=False)\n",
              "  (conv2): Conv2d(6, 16, kernel_size=(5, 5), stride=(1, 1))\n",
              "  (conv3): Conv2d(16, 20, kernel_size=(4, 4), stride=(1, 1))\n",
              "  (fc1): Linear(in_features=12500, out_features=256, bias=True)\n",
              "  (fc2): Linear(in_features=256, out_features=3, bias=True)\n",
              "  (logsoftmax): LogSoftmax(dim=1)\n",
              ")"
            ]
          },
          "execution_count": 49,
          "metadata": {},
          "output_type": "execute_result"
        }
      ],
      "source": [
        "# loading the model\n",
        "net = ConvNet()\n",
        "net.load_state_dict(torch.load('./net.pth'))\n",
        "net.to(device)"
      ]
    },
    {
      "cell_type": "markdown",
      "metadata": {
        "id": "Mjdy2uBRef-T"
      },
      "source": [
        "Implementing on test data "
      ]
    },
    {
      "cell_type": "code",
      "execution_count": null,
      "metadata": {
        "id": "wNRaPAwhej0Z"
      },
      "outputs": [],
      "source": [
        "testloader = DataLoader(testset,batch_size = 64,shuffle = False)\n",
        "with torch.no_grad():\n",
        "    all_predicted = []\n",
        "    for data in testloader:\n",
        "      data = data.to(device)\n",
        "      outputs = net(data)\n",
        "      _,predicted = torch.max(outputs.data,1)\n",
        "      predicted = predicted.to('cpu')\n",
        "      all_predicted.append(predicted)\n",
        "    a1 = torch.cat(all_predicted)\n",
        "    test_df['taskA'] = a1\n",
        "test_df.to_csv(\"./taskA_test_results.csv\")"
      ]
    },
    {
      "cell_type": "code",
      "execution_count": null,
      "metadata": {
        "colab": {
          "base_uri": "https://localhost:8080/",
          "height": 298
        },
        "id": "1UMmVG-6EvOY",
        "outputId": "874aafb0-af01-4861-d1bd-bad33ca3206b"
      },
      "outputs": [
        {
          "data": {
            "text/html": [
              "\n",
              "  <div id=\"df-14589e1b-ded9-4b86-abc7-835e18b28ddb\">\n",
              "    <div class=\"colab-df-container\">\n",
              "      <div>\n",
              "<style scoped>\n",
              "    .dataframe tbody tr th:only-of-type {\n",
              "        vertical-align: middle;\n",
              "    }\n",
              "\n",
              "    .dataframe tbody tr th {\n",
              "        vertical-align: top;\n",
              "    }\n",
              "\n",
              "    .dataframe thead th {\n",
              "        text-align: right;\n",
              "    }\n",
              "</style>\n",
              "<table border=\"1\" class=\"dataframe\">\n",
              "  <thead>\n",
              "    <tr style=\"text-align: right;\">\n",
              "      <th></th>\n",
              "      <th>Id</th>\n",
              "      <th>Image url</th>\n",
              "      <th>ocr_text</th>\n",
              "      <th>classification_based_on</th>\n",
              "      <th>img_path</th>\n",
              "      <th>taskA</th>\n",
              "      <th>taskB</th>\n",
              "      <th>taskC</th>\n",
              "    </tr>\n",
              "  </thead>\n",
              "  <tbody>\n",
              "    <tr>\n",
              "      <th>0</th>\n",
              "      <td>1</td>\n",
              "      <td>https://i.pinimg.com/originals/0c/4d/c3/0c4dc3...</td>\n",
              "      <td>women are so hard to read well actually we jus...</td>\n",
              "      <td>image_and_text</td>\n",
              "      <td>/content/drive/MyDrive/project/Test Images/1.jpg</td>\n",
              "      <td>1</td>\n",
              "      <td>None</td>\n",
              "      <td>None</td>\n",
              "    </tr>\n",
              "    <tr>\n",
              "      <th>2</th>\n",
              "      <td>3</td>\n",
              "      <td>https://chameleonmemes.com/wp-content/uploads/...</td>\n",
              "      <td>my girlfriend me</td>\n",
              "      <td>image_and_text</td>\n",
              "      <td>/content/drive/MyDrive/project/Test Images/3.jpg</td>\n",
              "      <td>1</td>\n",
              "      <td>None</td>\n",
              "      <td>None</td>\n",
              "    </tr>\n",
              "  </tbody>\n",
              "</table>\n",
              "</div>\n",
              "      <button class=\"colab-df-convert\" onclick=\"convertToInteractive('df-14589e1b-ded9-4b86-abc7-835e18b28ddb')\"\n",
              "              title=\"Convert this dataframe to an interactive table.\"\n",
              "              style=\"display:none;\">\n",
              "        \n",
              "  <svg xmlns=\"http://www.w3.org/2000/svg\" height=\"24px\"viewBox=\"0 0 24 24\"\n",
              "       width=\"24px\">\n",
              "    <path d=\"M0 0h24v24H0V0z\" fill=\"none\"/>\n",
              "    <path d=\"M18.56 5.44l.94 2.06.94-2.06 2.06-.94-2.06-.94-.94-2.06-.94 2.06-2.06.94zm-11 1L8.5 8.5l.94-2.06 2.06-.94-2.06-.94L8.5 2.5l-.94 2.06-2.06.94zm10 10l.94 2.06.94-2.06 2.06-.94-2.06-.94-.94-2.06-.94 2.06-2.06.94z\"/><path d=\"M17.41 7.96l-1.37-1.37c-.4-.4-.92-.59-1.43-.59-.52 0-1.04.2-1.43.59L10.3 9.45l-7.72 7.72c-.78.78-.78 2.05 0 2.83L4 21.41c.39.39.9.59 1.41.59.51 0 1.02-.2 1.41-.59l7.78-7.78 2.81-2.81c.8-.78.8-2.07 0-2.86zM5.41 20L4 18.59l7.72-7.72 1.47 1.35L5.41 20z\"/>\n",
              "  </svg>\n",
              "      </button>\n",
              "      \n",
              "  <style>\n",
              "    .colab-df-container {\n",
              "      display:flex;\n",
              "      flex-wrap:wrap;\n",
              "      gap: 12px;\n",
              "    }\n",
              "\n",
              "    .colab-df-convert {\n",
              "      background-color: #E8F0FE;\n",
              "      border: none;\n",
              "      border-radius: 50%;\n",
              "      cursor: pointer;\n",
              "      display: none;\n",
              "      fill: #1967D2;\n",
              "      height: 32px;\n",
              "      padding: 0 0 0 0;\n",
              "      width: 32px;\n",
              "    }\n",
              "\n",
              "    .colab-df-convert:hover {\n",
              "      background-color: #E2EBFA;\n",
              "      box-shadow: 0px 1px 2px rgba(60, 64, 67, 0.3), 0px 1px 3px 1px rgba(60, 64, 67, 0.15);\n",
              "      fill: #174EA6;\n",
              "    }\n",
              "\n",
              "    [theme=dark] .colab-df-convert {\n",
              "      background-color: #3B4455;\n",
              "      fill: #D2E3FC;\n",
              "    }\n",
              "\n",
              "    [theme=dark] .colab-df-convert:hover {\n",
              "      background-color: #434B5C;\n",
              "      box-shadow: 0px 1px 3px 1px rgba(0, 0, 0, 0.15);\n",
              "      filter: drop-shadow(0px 1px 2px rgba(0, 0, 0, 0.3));\n",
              "      fill: #FFFFFF;\n",
              "    }\n",
              "  </style>\n",
              "\n",
              "      <script>\n",
              "        const buttonEl =\n",
              "          document.querySelector('#df-14589e1b-ded9-4b86-abc7-835e18b28ddb button.colab-df-convert');\n",
              "        buttonEl.style.display =\n",
              "          google.colab.kernel.accessAllowed ? 'block' : 'none';\n",
              "\n",
              "        async function convertToInteractive(key) {\n",
              "          const element = document.querySelector('#df-14589e1b-ded9-4b86-abc7-835e18b28ddb');\n",
              "          const dataTable =\n",
              "            await google.colab.kernel.invokeFunction('convertToInteractive',\n",
              "                                                     [key], {});\n",
              "          if (!dataTable) return;\n",
              "\n",
              "          const docLinkHtml = 'Like what you see? Visit the ' +\n",
              "            '<a target=\"_blank\" href=https://colab.research.google.com/notebooks/data_table.ipynb>data table notebook</a>'\n",
              "            + ' to learn more about interactive tables.';\n",
              "          element.innerHTML = '';\n",
              "          dataTable['output_type'] = 'display_data';\n",
              "          await google.colab.output.renderOutput(dataTable, element);\n",
              "          const docLink = document.createElement('div');\n",
              "          docLink.innerHTML = docLinkHtml;\n",
              "          element.appendChild(docLink);\n",
              "        }\n",
              "      </script>\n",
              "    </div>\n",
              "  </div>\n",
              "  "
            ],
            "text/plain": [
              "   Id                                          Image url  \\\n",
              "0   1  https://i.pinimg.com/originals/0c/4d/c3/0c4dc3...   \n",
              "2   3  https://chameleonmemes.com/wp-content/uploads/...   \n",
              "\n",
              "                                            ocr_text classification_based_on  \\\n",
              "0  women are so hard to read well actually we jus...          image_and_text   \n",
              "2                                   my girlfriend me          image_and_text   \n",
              "\n",
              "                                           img_path  taskA taskB taskC  \n",
              "0  /content/drive/MyDrive/project/Test Images/1.jpg      1  None  None  \n",
              "2  /content/drive/MyDrive/project/Test Images/3.jpg      1  None  None  "
            ]
          },
          "execution_count": 39,
          "metadata": {},
          "output_type": "execute_result"
        }
      ],
      "source": [
        "test_df.head(2)"
      ]
    },
    {
      "cell_type": "code",
      "execution_count": null,
      "metadata": {
        "colab": {
          "base_uri": "https://localhost:8080/"
        },
        "id": "dZkB5fV9eZ7b",
        "outputId": "490ef222-e5ed-45de-b8e8-ac906d78a0d5"
      },
      "outputs": [
        {
          "data": {
            "text/plain": [
              "0"
            ]
          },
          "execution_count": 41,
          "metadata": {},
          "output_type": "execute_result"
        }
      ],
      "source": []
    },
    {
      "cell_type": "markdown",
      "metadata": {
        "id": "nF31RBSPJWKW"
      },
      "source": [
        "# Task B"
      ]
    },
    {
      "cell_type": "markdown",
      "metadata": {
        "id": "LPFNciSqqUAt"
      },
      "source": [
        "Generating training sets for task B"
      ]
    },
    {
      "cell_type": "code",
      "execution_count": null,
      "metadata": {
        "id": "osY6W9YkzS_b"
      },
      "outputs": [],
      "source": [
        "# Generating training sets for task B\n",
        "train_task2_set = common_trainset\n",
        "train_task2_set.update_subtask('B')\n",
        "val_task2_set = common_valset\n",
        "val_task2_set.update_subtask('B')"
      ]
    },
    {
      "cell_type": "markdown",
      "metadata": {
        "id": "FFjOV7ehrJ2F"
      },
      "source": [
        "Loading data into DataLoaders and initializing it's hyper parameters"
      ]
    },
    {
      "cell_type": "code",
      "execution_count": null,
      "metadata": {
        "id": "7po7oAMxkW_Q"
      },
      "outputs": [],
      "source": [
        "# set batch_size\n",
        "batch_size = 16\n",
        "\n",
        "# load train data\n",
        "traintask2loader = DataLoader(train_task2_set, batch_size=batch_size,\n",
        "                            shuffle=True)\n",
        "\n",
        "# load test data\n",
        "valtask2loader = DataLoader(val_task2_set, batch_size = 64,\n",
        "                        shuffle=False)"
      ]
    },
    {
      "cell_type": "code",
      "execution_count": null,
      "metadata": {
        "id": "zViwK_WQzzE9"
      },
      "outputs": [],
      "source": [
        "# defining the Model Architecture for task B\n",
        "class ConvTask2Net(nn.Module):\n",
        "\n",
        "    ''' Models a simple Convolutional Neural Network '''\n",
        "\t\n",
        "    def __init__(self):\n",
        "        ''' initialize the network '''\n",
        "        super(ConvTask2Net, self).__init__()\n",
        "        # 3 input image channel, 6 output channels,\n",
        "        # 5x5 square convolution kernel\n",
        "        self.conv1 = nn.Conv2d(3,6,5)\n",
        "        # Max pooling over a (2, 2) window\n",
        "        self.pool = nn.MaxPool2d(2, 2)\n",
        "        self.conv2 = nn.Conv2d(6, 16, 5)\n",
        "        self.conv3 = nn.Conv2d(16, 20, 4)\n",
        "        self.fc1 = nn.Linear(20 * 25 * 25, 256) # Computationally heavy layer since we have 20*25*25*256 parameters in the layer\n",
        "        # self.fc2 = nn.Linear(2048, 256)\n",
        "        self.fc2 = nn.Linear(256, 4) # Ouput layers has 4 neurons\n",
        "        self.sigmoid = nn.Sigmoid()  # Since it is a multi-label classification we used Sigmoid\n",
        "\n",
        "    def forward(self, x):\n",
        "        ''' the forward propagation algorithm '''\n",
        "        x = self.pool(F.relu(self.conv1(x)))\n",
        "        x = self.pool(F.relu(self.conv2(x)))\n",
        "        x = self.pool(F.relu(self.conv3(x)))\n",
        "        x = x.view(-1, 20 * 25 * 25)\n",
        "        x = F.relu(self.fc1(x))\n",
        "        # x = F.relu(self.fc2(x))\n",
        "        x = self.sigmoid(self.fc2(x))\n",
        "        return x\n"
      ]
    },
    {
      "cell_type": "code",
      "execution_count": null,
      "metadata": {
        "colab": {
          "base_uri": "https://localhost:8080/"
        },
        "id": "1oVPAKhDkZg6",
        "outputId": "00fe1eb3-d32e-4544-9106-31010451dbda"
      },
      "outputs": [
        {
          "name": "stdout",
          "output_type": "stream",
          "text": [
            "ConvTask2Net(\n",
            "  (conv1): Conv2d(3, 6, kernel_size=(5, 5), stride=(1, 1))\n",
            "  (pool): MaxPool2d(kernel_size=2, stride=2, padding=0, dilation=1, ceil_mode=False)\n",
            "  (conv2): Conv2d(6, 16, kernel_size=(5, 5), stride=(1, 1))\n",
            "  (conv3): Conv2d(16, 20, kernel_size=(4, 4), stride=(1, 1))\n",
            "  (fc1): Linear(in_features=12500, out_features=256, bias=True)\n",
            "  (fc2): Linear(in_features=256, out_features=4, bias=True)\n",
            "  (sigmoid): Sigmoid()\n",
            ")\n"
          ]
        }
      ],
      "source": [
        "multilabel_model = ConvTask2Net()\n",
        "multilabel_model.to(device)\n",
        "print(multilabel_model)"
      ]
    },
    {
      "cell_type": "markdown",
      "metadata": {
        "id": "gO_b5fvSxUJm"
      },
      "source": [
        "Training the model for task B"
      ]
    },
    {
      "cell_type": "code",
      "execution_count": null,
      "metadata": {
        "colab": {
          "base_uri": "https://localhost:8080/"
        },
        "id": "RB6ChojB6BXp",
        "outputId": "1c9102ca-32f6-4643-f9ee-9d273c685af9"
      },
      "outputs": [
        {
          "data": {
            "text/plain": [
              "True"
            ]
          },
          "execution_count": 64,
          "metadata": {},
          "output_type": "execute_result"
        }
      ],
      "source": [
        "next(multilabel_model.parameters()).is_cuda"
      ]
    },
    {
      "cell_type": "code",
      "execution_count": null,
      "metadata": {
        "colab": {
          "base_uri": "https://localhost:8080/",
          "height": 1000
        },
        "id": "lAFCjFMl0gXl",
        "outputId": "748418e5-90cf-4ea6-e1a3-f9b954e284c3"
      },
      "outputs": [
        {
          "name": "stdout",
          "output_type": "stream",
          "text": [
            "[1,    80] loss: 0.45615476\n",
            "[1,   160] loss: 0.40453106\n",
            "[1,   240] loss: 0.46692950\n",
            "[1,   320] loss: 0.39765549\n",
            "[1,   400] loss: 0.43563074\n",
            "[2,    80] loss: 0.48000950\n",
            "[2,   160] loss: 0.50893867\n",
            "[2,   240] loss: 0.38976300\n",
            "[2,   320] loss: 0.37547016\n",
            "[2,   400] loss: 0.39418268\n",
            "[3,    80] loss: 0.59614038\n",
            "[3,   160] loss: 0.40373480\n",
            "[3,   240] loss: 0.38814703\n",
            "[3,   320] loss: 0.38972396\n",
            "[3,   400] loss: 0.38193285\n",
            "[4,    80] loss: 0.42026430\n",
            "[4,   160] loss: 0.50107491\n",
            "[4,   240] loss: 0.43932605\n",
            "[4,   320] loss: 0.46867159\n",
            "[4,   400] loss: 0.41857678\n",
            "[5,    80] loss: 0.51898038\n",
            "[5,   160] loss: 0.51770949\n",
            "[5,   240] loss: 0.35317940\n",
            "[5,   320] loss: 0.51575673\n",
            "[5,   400] loss: 0.44289482\n",
            "[6,    80] loss: 0.41254973\n",
            "[6,   160] loss: 0.38386121\n",
            "[6,   240] loss: 0.36993819\n",
            "[6,   320] loss: 0.39705986\n",
            "[6,   400] loss: 0.44253176\n",
            "[7,    80] loss: 0.43960679\n",
            "[7,   160] loss: 0.45467263\n",
            "[7,   240] loss: 0.40040079\n",
            "[7,   320] loss: 0.34608132\n",
            "[7,   400] loss: 0.52309549\n",
            "[8,    80] loss: 0.42250544\n",
            "[8,   160] loss: 0.35341468\n",
            "[8,   240] loss: 0.36074501\n",
            "[8,   320] loss: 0.41122198\n",
            "[8,   400] loss: 0.35295558\n",
            "[9,    80] loss: 0.23042585\n",
            "[9,   160] loss: 0.42351633\n",
            "[9,   240] loss: 0.29573387\n",
            "[9,   320] loss: 0.33206573\n",
            "[9,   400] loss: 0.43509793\n",
            "[10,    80] loss: 0.43786180\n",
            "[10,   160] loss: 0.28759298\n",
            "[10,   240] loss: 0.33582658\n",
            "[10,   320] loss: 0.31132853\n",
            "[10,   400] loss: 0.25955498\n",
            "[11,    80] loss: 0.26409832\n",
            "[11,   160] loss: 0.22814147\n",
            "[11,   240] loss: 0.19760042\n",
            "[11,   320] loss: 0.29287046\n",
            "[11,   400] loss: 0.32707697\n",
            "[12,    80] loss: 0.22546831\n",
            "[12,   160] loss: 0.18901324\n",
            "[12,   240] loss: 0.20484188\n",
            "[12,   320] loss: 0.35489875\n",
            "[12,   400] loss: 0.23185338\n",
            "[13,    80] loss: 0.25892389\n",
            "[13,   160] loss: 0.18921822\n",
            "[13,   240] loss: 0.26423424\n",
            "[13,   320] loss: 0.18346262\n",
            "[13,   400] loss: 0.23306105\n",
            "[14,    80] loss: 0.20305318\n",
            "[14,   160] loss: 0.11862317\n",
            "[14,   240] loss: 0.12499550\n",
            "[14,   320] loss: 0.21797398\n",
            "[14,   400] loss: 0.16026920\n",
            "[15,    80] loss: 0.22311106\n",
            "[15,   160] loss: 0.10193094\n",
            "[15,   240] loss: 0.16596994\n",
            "[15,   320] loss: 0.12625739\n",
            "[15,   400] loss: 0.11715049\n",
            "[16,    80] loss: 0.11955789\n",
            "[16,   160] loss: 0.19792819\n",
            "[16,   240] loss: 0.12460998\n",
            "[16,   320] loss: 0.14996187\n",
            "[16,   400] loss: 0.22940458\n",
            "[17,    80] loss: 0.11064180\n",
            "[17,   160] loss: 0.11586899\n",
            "[17,   240] loss: 0.09393144\n",
            "[17,   320] loss: 0.10967124\n",
            "[17,   400] loss: 0.09243426\n",
            "[18,    80] loss: 0.08611804\n",
            "[18,   160] loss: 0.12169380\n",
            "[18,   240] loss: 0.08557897\n",
            "[18,   320] loss: 0.07353507\n",
            "[18,   400] loss: 0.21034920\n",
            "[19,    80] loss: 0.05721162\n",
            "[19,   160] loss: 0.06050703\n",
            "[19,   240] loss: 0.06373831\n",
            "[19,   320] loss: 0.04021905\n",
            "[19,   400] loss: 0.17394722\n",
            "[20,    80] loss: 0.08450130\n",
            "[20,   160] loss: 0.12159500\n",
            "[20,   240] loss: 0.15000352\n",
            "[20,   320] loss: 0.06536052\n",
            "[20,   400] loss: 0.04624870\n",
            "[21,    80] loss: 0.04525498\n",
            "[21,   160] loss: 0.02892050\n",
            "[21,   240] loss: 0.03699198\n",
            "[21,   320] loss: 0.12814933\n",
            "[21,   400] loss: 0.03423297\n",
            "[22,    80] loss: 0.04143541\n",
            "[22,   160] loss: 0.08070114\n",
            "[22,   240] loss: 0.06085326\n",
            "[22,   320] loss: 0.07609776\n",
            "[22,   400] loss: 0.12620972\n",
            "[23,    80] loss: 0.19990794\n",
            "[23,   160] loss: 0.02504405\n",
            "[23,   240] loss: 0.04176318\n",
            "[23,   320] loss: 0.03157618\n",
            "[23,   400] loss: 0.02384572\n",
            "[24,    80] loss: 0.13458872\n",
            "[24,   160] loss: 0.01455722\n",
            "[24,   240] loss: 0.10689776\n",
            "[24,   320] loss: 0.04164814\n",
            "[24,   400] loss: 0.01550969\n",
            "[25,    80] loss: 0.01890095\n",
            "[25,   160] loss: 0.07164562\n",
            "[25,   240] loss: 0.02655626\n",
            "[25,   320] loss: 0.05771066\n",
            "[25,   400] loss: 0.08092208\n",
            "[26,    80] loss: 0.03613331\n",
            "[26,   160] loss: 0.01176271\n",
            "[26,   240] loss: 0.08233616\n",
            "[26,   320] loss: 0.02142633\n",
            "[26,   400] loss: 0.01691259\n",
            "[27,    80] loss: 0.00991804\n",
            "[27,   160] loss: 0.14766510\n",
            "[27,   240] loss: 0.01148313\n",
            "[27,   320] loss: 0.07224876\n",
            "[27,   400] loss: 0.01280419\n",
            "[28,    80] loss: 0.03233856\n",
            "[28,   160] loss: 0.02651042\n",
            "[28,   240] loss: 0.02803586\n",
            "[28,   320] loss: 0.01588405\n",
            "[28,   400] loss: 0.03464847\n",
            "[29,    80] loss: 0.19909160\n",
            "[29,   160] loss: 0.01156040\n",
            "[29,   240] loss: 0.01522099\n",
            "[29,   320] loss: 0.08279827\n",
            "[29,   400] loss: 0.03696381\n",
            "[30,    80] loss: 0.00401046\n",
            "[30,   160] loss: 0.00636266\n",
            "[30,   240] loss: 0.00852231\n",
            "[30,   320] loss: 0.01680473\n",
            "[30,   400] loss: 0.07684593\n",
            "[31,    80] loss: 0.05159221\n",
            "[31,   160] loss: 0.01604781\n",
            "[31,   240] loss: 0.01423751\n",
            "[31,   320] loss: 0.08208600\n",
            "[31,   400] loss: 0.00531434\n",
            "[32,    80] loss: 0.01808955\n",
            "[32,   160] loss: 0.20214087\n",
            "[32,   240] loss: 0.03305751\n",
            "[32,   320] loss: 0.00945481\n",
            "[32,   400] loss: 0.02854453\n",
            "[33,    80] loss: 0.00703145\n",
            "[33,   160] loss: 0.00784778\n",
            "[33,   240] loss: 0.00647228\n",
            "[33,   320] loss: 0.00922250\n",
            "[33,   400] loss: 0.01884551\n",
            "[34,    80] loss: 0.00367495\n",
            "[34,   160] loss: 0.00545894\n",
            "[34,   240] loss: 0.01116842\n",
            "[34,   320] loss: 0.33309042\n",
            "[34,   400] loss: 0.05721384\n",
            "[35,    80] loss: 0.00513771\n",
            "[35,   160] loss: 0.10985322\n",
            "[35,   240] loss: 0.01649185\n",
            "[35,   320] loss: 0.08286200\n",
            "[35,   400] loss: 0.01334130\n",
            "[36,    80] loss: 0.04721968\n",
            "[36,   160] loss: 0.00513942\n",
            "[36,   240] loss: 0.01520680\n",
            "[36,   320] loss: 0.00973639\n",
            "[36,   400] loss: 0.20554577\n",
            "[37,    80] loss: 0.05317434\n",
            "[37,   160] loss: 0.10715163\n",
            "[37,   240] loss: 0.07052156\n",
            "[37,   320] loss: 0.04068960\n",
            "[37,   400] loss: 0.01596002\n",
            "[38,    80] loss: 0.03533123\n",
            "[38,   160] loss: 0.00376558\n",
            "[38,   240] loss: 0.00485096\n",
            "[38,   320] loss: 0.00359439\n",
            "[38,   400] loss: 0.00750809\n",
            "[39,    80] loss: 0.00459997\n",
            "[39,   160] loss: 0.01280170\n",
            "[39,   240] loss: 0.01461510\n",
            "[39,   320] loss: 0.09311399\n",
            "[39,   400] loss: 0.01027900\n",
            "[40,    80] loss: 0.01133663\n",
            "[40,   160] loss: 0.00362889\n",
            "[40,   240] loss: 0.00665041\n",
            "[40,   320] loss: 0.00177235\n",
            "[40,   400] loss: 0.00717893\n",
            "[41,    80] loss: 0.00496355\n",
            "[41,   160] loss: 0.00763521\n"
          ]
        },
        {
          "ename": "KeyboardInterrupt",
          "evalue": "ignored",
          "output_type": "error",
          "traceback": [
            "\u001b[0;31m---------------------------------------------------------------------------\u001b[0m",
            "\u001b[0;31mKeyboardInterrupt\u001b[0m                         Traceback (most recent call last)",
            "\u001b[0;32m<ipython-input-140-b57714d9e3d9>\u001b[0m in \u001b[0;36m<module>\u001b[0;34m\u001b[0m\n\u001b[1;32m      4\u001b[0m \u001b[0;32mfor\u001b[0m \u001b[0mepoch\u001b[0m \u001b[0;32min\u001b[0m \u001b[0mrange\u001b[0m\u001b[0;34m(\u001b[0m\u001b[0mnum_epochs_b\u001b[0m\u001b[0;34m)\u001b[0m\u001b[0;34m:\u001b[0m  \u001b[0;31m# loop over the dataset multiple times\u001b[0m\u001b[0;34m\u001b[0m\u001b[0;34m\u001b[0m\u001b[0m\n\u001b[1;32m      5\u001b[0m \u001b[0;34m\u001b[0m\u001b[0m\n\u001b[0;32m----> 6\u001b[0;31m     \u001b[0;32mfor\u001b[0m \u001b[0mi\u001b[0m\u001b[0;34m,\u001b[0m \u001b[0mdata\u001b[0m \u001b[0;32min\u001b[0m \u001b[0menumerate\u001b[0m\u001b[0;34m(\u001b[0m\u001b[0mtraintask2loader\u001b[0m\u001b[0;34m)\u001b[0m\u001b[0;34m:\u001b[0m\u001b[0;34m\u001b[0m\u001b[0;34m\u001b[0m\u001b[0m\n\u001b[0m\u001b[1;32m      7\u001b[0m         \u001b[0;31m# get the inputs; data is a list of [inputs, labels]\u001b[0m\u001b[0;34m\u001b[0m\u001b[0;34m\u001b[0m\u001b[0;34m\u001b[0m\u001b[0m\n\u001b[1;32m      8\u001b[0m         \u001b[0minputs\u001b[0m\u001b[0;34m,\u001b[0m \u001b[0mlabels\u001b[0m \u001b[0;34m=\u001b[0m \u001b[0mdata\u001b[0m\u001b[0;34m\u001b[0m\u001b[0;34m\u001b[0m\u001b[0m\n",
            "\u001b[0;32m/usr/local/lib/python3.7/dist-packages/torch/utils/data/dataloader.py\u001b[0m in \u001b[0;36m__next__\u001b[0;34m(self)\u001b[0m\n\u001b[1;32m    679\u001b[0m                 \u001b[0;31m# TODO(https://github.com/pytorch/pytorch/issues/76750)\u001b[0m\u001b[0;34m\u001b[0m\u001b[0;34m\u001b[0m\u001b[0;34m\u001b[0m\u001b[0m\n\u001b[1;32m    680\u001b[0m                 \u001b[0mself\u001b[0m\u001b[0;34m.\u001b[0m\u001b[0m_reset\u001b[0m\u001b[0;34m(\u001b[0m\u001b[0;34m)\u001b[0m  \u001b[0;31m# type: ignore[call-arg]\u001b[0m\u001b[0;34m\u001b[0m\u001b[0;34m\u001b[0m\u001b[0m\n\u001b[0;32m--> 681\u001b[0;31m             \u001b[0mdata\u001b[0m \u001b[0;34m=\u001b[0m \u001b[0mself\u001b[0m\u001b[0;34m.\u001b[0m\u001b[0m_next_data\u001b[0m\u001b[0;34m(\u001b[0m\u001b[0;34m)\u001b[0m\u001b[0;34m\u001b[0m\u001b[0;34m\u001b[0m\u001b[0m\n\u001b[0m\u001b[1;32m    682\u001b[0m             \u001b[0mself\u001b[0m\u001b[0;34m.\u001b[0m\u001b[0m_num_yielded\u001b[0m \u001b[0;34m+=\u001b[0m \u001b[0;36m1\u001b[0m\u001b[0;34m\u001b[0m\u001b[0;34m\u001b[0m\u001b[0m\n\u001b[1;32m    683\u001b[0m             \u001b[0;32mif\u001b[0m \u001b[0mself\u001b[0m\u001b[0;34m.\u001b[0m\u001b[0m_dataset_kind\u001b[0m \u001b[0;34m==\u001b[0m \u001b[0m_DatasetKind\u001b[0m\u001b[0;34m.\u001b[0m\u001b[0mIterable\u001b[0m \u001b[0;32mand\u001b[0m\u001b[0;31m \u001b[0m\u001b[0;31m\\\u001b[0m\u001b[0;34m\u001b[0m\u001b[0;34m\u001b[0m\u001b[0m\n",
            "\u001b[0;32m/usr/local/lib/python3.7/dist-packages/torch/utils/data/dataloader.py\u001b[0m in \u001b[0;36m_next_data\u001b[0;34m(self)\u001b[0m\n\u001b[1;32m    719\u001b[0m     \u001b[0;32mdef\u001b[0m \u001b[0m_next_data\u001b[0m\u001b[0;34m(\u001b[0m\u001b[0mself\u001b[0m\u001b[0;34m)\u001b[0m\u001b[0;34m:\u001b[0m\u001b[0;34m\u001b[0m\u001b[0;34m\u001b[0m\u001b[0m\n\u001b[1;32m    720\u001b[0m         \u001b[0mindex\u001b[0m \u001b[0;34m=\u001b[0m \u001b[0mself\u001b[0m\u001b[0;34m.\u001b[0m\u001b[0m_next_index\u001b[0m\u001b[0;34m(\u001b[0m\u001b[0;34m)\u001b[0m  \u001b[0;31m# may raise StopIteration\u001b[0m\u001b[0;34m\u001b[0m\u001b[0;34m\u001b[0m\u001b[0m\n\u001b[0;32m--> 721\u001b[0;31m         \u001b[0mdata\u001b[0m \u001b[0;34m=\u001b[0m \u001b[0mself\u001b[0m\u001b[0;34m.\u001b[0m\u001b[0m_dataset_fetcher\u001b[0m\u001b[0;34m.\u001b[0m\u001b[0mfetch\u001b[0m\u001b[0;34m(\u001b[0m\u001b[0mindex\u001b[0m\u001b[0;34m)\u001b[0m  \u001b[0;31m# may raise StopIteration\u001b[0m\u001b[0;34m\u001b[0m\u001b[0;34m\u001b[0m\u001b[0m\n\u001b[0m\u001b[1;32m    722\u001b[0m         \u001b[0;32mif\u001b[0m \u001b[0mself\u001b[0m\u001b[0;34m.\u001b[0m\u001b[0m_pin_memory\u001b[0m\u001b[0;34m:\u001b[0m\u001b[0;34m\u001b[0m\u001b[0;34m\u001b[0m\u001b[0m\n\u001b[1;32m    723\u001b[0m             \u001b[0mdata\u001b[0m \u001b[0;34m=\u001b[0m \u001b[0m_utils\u001b[0m\u001b[0;34m.\u001b[0m\u001b[0mpin_memory\u001b[0m\u001b[0;34m.\u001b[0m\u001b[0mpin_memory\u001b[0m\u001b[0;34m(\u001b[0m\u001b[0mdata\u001b[0m\u001b[0;34m,\u001b[0m \u001b[0mself\u001b[0m\u001b[0;34m.\u001b[0m\u001b[0m_pin_memory_device\u001b[0m\u001b[0;34m)\u001b[0m\u001b[0;34m\u001b[0m\u001b[0;34m\u001b[0m\u001b[0m\n",
            "\u001b[0;32m/usr/local/lib/python3.7/dist-packages/torch/utils/data/_utils/fetch.py\u001b[0m in \u001b[0;36mfetch\u001b[0;34m(self, possibly_batched_index)\u001b[0m\n\u001b[1;32m     50\u001b[0m         \u001b[0;32melse\u001b[0m\u001b[0;34m:\u001b[0m\u001b[0;34m\u001b[0m\u001b[0;34m\u001b[0m\u001b[0m\n\u001b[1;32m     51\u001b[0m             \u001b[0mdata\u001b[0m \u001b[0;34m=\u001b[0m \u001b[0mself\u001b[0m\u001b[0;34m.\u001b[0m\u001b[0mdataset\u001b[0m\u001b[0;34m[\u001b[0m\u001b[0mpossibly_batched_index\u001b[0m\u001b[0;34m]\u001b[0m\u001b[0;34m\u001b[0m\u001b[0;34m\u001b[0m\u001b[0m\n\u001b[0;32m---> 52\u001b[0;31m         \u001b[0;32mreturn\u001b[0m \u001b[0mself\u001b[0m\u001b[0;34m.\u001b[0m\u001b[0mcollate_fn\u001b[0m\u001b[0;34m(\u001b[0m\u001b[0mdata\u001b[0m\u001b[0;34m)\u001b[0m\u001b[0;34m\u001b[0m\u001b[0;34m\u001b[0m\u001b[0m\n\u001b[0m",
            "\u001b[0;32m/usr/local/lib/python3.7/dist-packages/torch/utils/data/_utils/collate.py\u001b[0m in \u001b[0;36mdefault_collate\u001b[0;34m(batch)\u001b[0m\n\u001b[1;32m    173\u001b[0m \u001b[0;34m\u001b[0m\u001b[0m\n\u001b[1;32m    174\u001b[0m         \u001b[0;32mif\u001b[0m \u001b[0misinstance\u001b[0m\u001b[0;34m(\u001b[0m\u001b[0melem\u001b[0m\u001b[0;34m,\u001b[0m \u001b[0mtuple\u001b[0m\u001b[0;34m)\u001b[0m\u001b[0;34m:\u001b[0m\u001b[0;34m\u001b[0m\u001b[0;34m\u001b[0m\u001b[0m\n\u001b[0;32m--> 175\u001b[0;31m             \u001b[0;32mreturn\u001b[0m \u001b[0;34m[\u001b[0m\u001b[0mdefault_collate\u001b[0m\u001b[0;34m(\u001b[0m\u001b[0msamples\u001b[0m\u001b[0;34m)\u001b[0m \u001b[0;32mfor\u001b[0m \u001b[0msamples\u001b[0m \u001b[0;32min\u001b[0m \u001b[0mtransposed\u001b[0m\u001b[0;34m]\u001b[0m  \u001b[0;31m# Backwards compatibility.\u001b[0m\u001b[0;34m\u001b[0m\u001b[0;34m\u001b[0m\u001b[0m\n\u001b[0m\u001b[1;32m    176\u001b[0m         \u001b[0;32melse\u001b[0m\u001b[0;34m:\u001b[0m\u001b[0;34m\u001b[0m\u001b[0;34m\u001b[0m\u001b[0m\n\u001b[1;32m    177\u001b[0m             \u001b[0;32mtry\u001b[0m\u001b[0;34m:\u001b[0m\u001b[0;34m\u001b[0m\u001b[0;34m\u001b[0m\u001b[0m\n",
            "\u001b[0;32m/usr/local/lib/python3.7/dist-packages/torch/utils/data/_utils/collate.py\u001b[0m in \u001b[0;36m<listcomp>\u001b[0;34m(.0)\u001b[0m\n\u001b[1;32m    173\u001b[0m \u001b[0;34m\u001b[0m\u001b[0m\n\u001b[1;32m    174\u001b[0m         \u001b[0;32mif\u001b[0m \u001b[0misinstance\u001b[0m\u001b[0;34m(\u001b[0m\u001b[0melem\u001b[0m\u001b[0;34m,\u001b[0m \u001b[0mtuple\u001b[0m\u001b[0;34m)\u001b[0m\u001b[0;34m:\u001b[0m\u001b[0;34m\u001b[0m\u001b[0;34m\u001b[0m\u001b[0m\n\u001b[0;32m--> 175\u001b[0;31m             \u001b[0;32mreturn\u001b[0m \u001b[0;34m[\u001b[0m\u001b[0mdefault_collate\u001b[0m\u001b[0;34m(\u001b[0m\u001b[0msamples\u001b[0m\u001b[0;34m)\u001b[0m \u001b[0;32mfor\u001b[0m \u001b[0msamples\u001b[0m \u001b[0;32min\u001b[0m \u001b[0mtransposed\u001b[0m\u001b[0;34m]\u001b[0m  \u001b[0;31m# Backwards compatibility.\u001b[0m\u001b[0;34m\u001b[0m\u001b[0;34m\u001b[0m\u001b[0m\n\u001b[0m\u001b[1;32m    176\u001b[0m         \u001b[0;32melse\u001b[0m\u001b[0;34m:\u001b[0m\u001b[0;34m\u001b[0m\u001b[0;34m\u001b[0m\u001b[0m\n\u001b[1;32m    177\u001b[0m             \u001b[0;32mtry\u001b[0m\u001b[0;34m:\u001b[0m\u001b[0;34m\u001b[0m\u001b[0;34m\u001b[0m\u001b[0m\n",
            "\u001b[0;32m/usr/local/lib/python3.7/dist-packages/torch/utils/data/_utils/collate.py\u001b[0m in \u001b[0;36mdefault_collate\u001b[0;34m(batch)\u001b[0m\n\u001b[1;32m    139\u001b[0m             \u001b[0mstorage\u001b[0m \u001b[0;34m=\u001b[0m \u001b[0melem\u001b[0m\u001b[0;34m.\u001b[0m\u001b[0mstorage\u001b[0m\u001b[0;34m(\u001b[0m\u001b[0;34m)\u001b[0m\u001b[0;34m.\u001b[0m\u001b[0m_new_shared\u001b[0m\u001b[0;34m(\u001b[0m\u001b[0mnumel\u001b[0m\u001b[0;34m,\u001b[0m \u001b[0mdevice\u001b[0m\u001b[0;34m=\u001b[0m\u001b[0melem\u001b[0m\u001b[0;34m.\u001b[0m\u001b[0mdevice\u001b[0m\u001b[0;34m)\u001b[0m\u001b[0;34m\u001b[0m\u001b[0;34m\u001b[0m\u001b[0m\n\u001b[1;32m    140\u001b[0m             \u001b[0mout\u001b[0m \u001b[0;34m=\u001b[0m \u001b[0melem\u001b[0m\u001b[0;34m.\u001b[0m\u001b[0mnew\u001b[0m\u001b[0;34m(\u001b[0m\u001b[0mstorage\u001b[0m\u001b[0;34m)\u001b[0m\u001b[0;34m.\u001b[0m\u001b[0mresize_\u001b[0m\u001b[0;34m(\u001b[0m\u001b[0mlen\u001b[0m\u001b[0;34m(\u001b[0m\u001b[0mbatch\u001b[0m\u001b[0;34m)\u001b[0m\u001b[0;34m,\u001b[0m \u001b[0;34m*\u001b[0m\u001b[0mlist\u001b[0m\u001b[0;34m(\u001b[0m\u001b[0melem\u001b[0m\u001b[0;34m.\u001b[0m\u001b[0msize\u001b[0m\u001b[0;34m(\u001b[0m\u001b[0;34m)\u001b[0m\u001b[0;34m)\u001b[0m\u001b[0;34m)\u001b[0m\u001b[0;34m\u001b[0m\u001b[0;34m\u001b[0m\u001b[0m\n\u001b[0;32m--> 141\u001b[0;31m         \u001b[0;32mreturn\u001b[0m \u001b[0mtorch\u001b[0m\u001b[0;34m.\u001b[0m\u001b[0mstack\u001b[0m\u001b[0;34m(\u001b[0m\u001b[0mbatch\u001b[0m\u001b[0;34m,\u001b[0m \u001b[0;36m0\u001b[0m\u001b[0;34m,\u001b[0m \u001b[0mout\u001b[0m\u001b[0;34m=\u001b[0m\u001b[0mout\u001b[0m\u001b[0;34m)\u001b[0m\u001b[0;34m\u001b[0m\u001b[0;34m\u001b[0m\u001b[0m\n\u001b[0m\u001b[1;32m    142\u001b[0m     \u001b[0;32melif\u001b[0m \u001b[0melem_type\u001b[0m\u001b[0;34m.\u001b[0m\u001b[0m__module__\u001b[0m \u001b[0;34m==\u001b[0m \u001b[0;34m'numpy'\u001b[0m \u001b[0;32mand\u001b[0m \u001b[0melem_type\u001b[0m\u001b[0;34m.\u001b[0m\u001b[0m__name__\u001b[0m \u001b[0;34m!=\u001b[0m \u001b[0;34m'str_'\u001b[0m\u001b[0;31m \u001b[0m\u001b[0;31m\\\u001b[0m\u001b[0;34m\u001b[0m\u001b[0;34m\u001b[0m\u001b[0m\n\u001b[1;32m    143\u001b[0m             \u001b[0;32mand\u001b[0m \u001b[0melem_type\u001b[0m\u001b[0;34m.\u001b[0m\u001b[0m__name__\u001b[0m \u001b[0;34m!=\u001b[0m \u001b[0;34m'string_'\u001b[0m\u001b[0;34m:\u001b[0m\u001b[0;34m\u001b[0m\u001b[0;34m\u001b[0m\u001b[0m\n",
            "\u001b[0;31mKeyboardInterrupt\u001b[0m: "
          ]
        }
      ],
      "source": [
        "criterion = nn.BCELoss() # using BCE Loss\n",
        "optimizer = optim.Adam(multilabel_model.parameters(), lr=0.0001) # Adam optimiser\n",
        "\n",
        "for epoch in range(num_epochs_b):  # loop over the dataset multiple times\n",
        "\n",
        "    for i, data in enumerate(traintask2loader):\n",
        "        # get the inputs; data is a list of [inputs, labels]\n",
        "        inputs, labels = data\n",
        "        inputs,labels = inputs.to(device),labels.to(device)\n",
        "        # zero the parameter gradients\n",
        "        optimizer.zero_grad()\n",
        "\n",
        "        # forward + backward + optimize\n",
        "        outputs = multilabel_model(inputs)\n",
        "        loss = criterion(outputs.float(), labels.float())\n",
        "        loss.backward()\n",
        "        optimizer.step()\n",
        "        # print(i)\n",
        "        # print statistics\n",
        "        if i % 80 == 79:\n",
        "            print('[%d, %5d] loss: %.8f' %\n",
        "                  (epoch + 1, i + 1, loss.item()))\n"
      ]
    },
    {
      "cell_type": "code",
      "execution_count": null,
      "metadata": {
        "id": "FyOtxJwJ1mFk"
      },
      "outputs": [],
      "source": [
        "# saving the multi-label model net\n",
        "multilabel_model = multilabel_model.to('cpu')\n",
        "torch.save(multilabel_model.state_dict(),'./multilabel.pth')\n",
        "multilabel_model = multilabel_model.to(device)"
      ]
    },
    {
      "cell_type": "markdown",
      "metadata": {
        "id": "bN_6LcCOrsjO"
      },
      "source": [
        "Evaluating the model"
      ]
    },
    {
      "cell_type": "code",
      "execution_count": null,
      "metadata": {
        "colab": {
          "base_uri": "https://localhost:8080/"
        },
        "id": "v2cdGuaK01MC",
        "outputId": "f89a91ad-e791-4054-b68b-719523609008"
      },
      "outputs": [
        {
          "name": "stdout",
          "output_type": "stream",
          "text": [
            "F1 score is 0.4213653589504738\n",
            "Accuracy sccore is 0.23133333333333334\n"
          ]
        }
      ],
      "source": [
        "# Evaluating the model\n",
        "multilabel_model.eval()\n",
        "p = 0.5\n",
        "correct = 0\n",
        "total = 0\n",
        "all_outputs = []\n",
        "all_labels = []\n",
        "with torch.no_grad():\n",
        "    for data in valtask2loader:\n",
        "        images, labels = data\n",
        "        images,labels = images.to(device),labels.to(device)\n",
        "        outputs = multilabel_model(images)\n",
        "        outputs = (outputs > p).float()\n",
        "        outputs,labels = outputs.to('cpu'),labels.to('cpu')\n",
        "        all_outputs.append(outputs)\n",
        "        all_labels.append(labels)\n",
        "    a1,a2 = all_outputs,all_labels\n",
        "    a1 = torch.cat(a1)\n",
        "    a2 = torch.cat(a2)\n",
        "    print(f'F1 score is {np.mean(f1_score(a1,a2,average = None))}') # Printing F1 score\n",
        "    print(f'Accuracy sccore is {np.mean(accuracy_score(a1,a2))}') # Printing accuracy_score"
      ]
    },
    {
      "cell_type": "markdown",
      "metadata": {
        "id": "48RSG1wTklDR"
      },
      "source": [
        "**Incase if generating trainset and valset is taking time, I'm loading my trained model here with which you can directly run it on test dataloader**"
      ]
    },
    {
      "cell_type": "code",
      "execution_count": null,
      "metadata": {
        "colab": {
          "base_uri": "https://localhost:8080/"
        },
        "id": "FKcNX6RWkkis",
        "outputId": "6b23dc26-04f6-487b-e137-3adc5b377b10"
      },
      "outputs": [
        {
          "data": {
            "text/plain": [
              "ConvTask2Net(\n",
              "  (conv1): Conv2d(3, 6, kernel_size=(5, 5), stride=(1, 1))\n",
              "  (pool): MaxPool2d(kernel_size=2, stride=2, padding=0, dilation=1, ceil_mode=False)\n",
              "  (conv2): Conv2d(6, 16, kernel_size=(5, 5), stride=(1, 1))\n",
              "  (conv3): Conv2d(16, 20, kernel_size=(4, 4), stride=(1, 1))\n",
              "  (fc1): Linear(in_features=12500, out_features=256, bias=True)\n",
              "  (fc2): Linear(in_features=256, out_features=4, bias=True)\n",
              "  (sigmoid): Sigmoid()\n",
              ")"
            ]
          },
          "execution_count": 143,
          "metadata": {},
          "output_type": "execute_result"
        }
      ],
      "source": [
        "# loading the model\n",
        "multilabel_model = ConvTask2Net()\n",
        "multilabel_model.load_state_dict(torch.load('./multilabel.pth'))\n",
        "multilabel_model.to(device)"
      ]
    },
    {
      "cell_type": "markdown",
      "metadata": {
        "id": "eyenwoNC7pDN"
      },
      "source": [
        "Implementing on Test data"
      ]
    },
    {
      "cell_type": "code",
      "execution_count": null,
      "metadata": {
        "id": "OnAwVgXC7ru7"
      },
      "outputs": [],
      "source": [
        "testloader = DataLoader(testset,batch_size = 64,shuffle = False)\n",
        "with torch.no_grad():\n",
        "    all_outputs = []\n",
        "    for data in testloader:\n",
        "      data = data.to(device)\n",
        "      outputs = multilabel_model(data)\n",
        "      outputs = (outputs > p).float()\n",
        "      outputs = outputs.to('cpu')\n",
        "      all_outputs.append(outputs)\n",
        "    a1 = torch.cat(all_outputs)\n",
        "    a1 = a1.numpy()\n",
        "    for i in range(test_df.shape[0]):\n",
        "      test_df.at[i,'taskB'] = a1[i]\n",
        "\n",
        "test_df.to_csv(\"./taskB_test_results.csv\")"
      ]
    },
    {
      "cell_type": "markdown",
      "metadata": {
        "id": "L-oRpNFo7gpV"
      },
      "source": [
        "# Task C"
      ]
    },
    {
      "cell_type": "markdown",
      "metadata": {
        "id": "0YQWHIdWr5IR"
      },
      "source": [
        "Generating training sets for task C"
      ]
    },
    {
      "cell_type": "code",
      "execution_count": null,
      "metadata": {
        "id": "CEPDUGc59TSg"
      },
      "outputs": [],
      "source": [
        "\n",
        "train_task3_set = common_trainset\n",
        "train_task3_set.update_subtask('C')\n",
        "val_task3_set = common_valset\n",
        "val_task3_set.update_subtask('C')"
      ]
    },
    {
      "cell_type": "markdown",
      "metadata": {
        "id": "4u7OAvSwsH1L"
      },
      "source": [
        "Loading data into DataLoaders and initializing it's hyper parameters"
      ]
    },
    {
      "cell_type": "code",
      "execution_count": null,
      "metadata": {
        "colab": {
          "base_uri": "https://localhost:8080/"
        },
        "id": "t8VqH07HQyk_",
        "outputId": "b0b14560-7f14-4780-9489-c9fab5cdb5a5"
      },
      "outputs": [
        {
          "name": "stdout",
          "output_type": "stream",
          "text": [
            "ConvTask3Net(\n",
            "  (conv1): Conv2d(3, 6, kernel_size=(5, 5), stride=(1, 1))\n",
            "  (pool): MaxPool2d(kernel_size=2, stride=2, padding=0, dilation=1, ceil_mode=False)\n",
            "  (conv2): Conv2d(6, 16, kernel_size=(5, 5), stride=(1, 1))\n",
            "  (conv3): Conv2d(16, 20, kernel_size=(4, 4), stride=(1, 1))\n",
            "  (fc1): Linear(in_features=12500, out_features=256, bias=True)\n",
            "  (fc2): Linear(in_features=256, out_features=14, bias=True)\n",
            "  (softmax): Softmax(dim=1)\n",
            "  (logsoftmax): LogSoftmax(dim=1)\n",
            ")\n"
          ]
        }
      ],
      "source": [
        "# set batch_size\n",
        "batch_size = 16\n",
        "\n",
        "# load train data\n",
        "traintask3loader = DataLoader(train_task3_set, batch_size=batch_size,\n",
        "                            shuffle=True)\n",
        "\n",
        "# load test data\n",
        "valtask3loader = DataLoader(val_task3_set, batch_size = 64,\n",
        "                        shuffle=False)\n",
        "\n",
        "# Defining the model Architecture for task C\n",
        "class ConvTask3Net(nn.Module):\n",
        "\n",
        "    ''' Models a simple Convolutional Neural Network '''\n",
        "\t\n",
        "    def __init__(self):\n",
        "        ''' initialize the network '''\n",
        "        super(ConvTask3Net, self).__init__()\n",
        "        # 3 input image channel, 6 output channels,\n",
        "        # 5x5 square convolution kernel\n",
        "        self.conv1 = nn.Conv2d(3,6,5)\n",
        "        # Max pooling over a (2, 2) window\n",
        "        self.pool = nn.MaxPool2d(2, 2)\n",
        "        self.conv2 = nn.Conv2d(6, 16, 5)\n",
        "        self.conv3 = nn.Conv2d(16, 20, 4)\n",
        "        self.fc1 = nn.Linear(20 * 25 * 25, 256) # Computationally heavy layer since we have 20*25*25*256 parameters in the layer\n",
        "        # self.fc2 = nn.Linear(2048, 256)\n",
        "        self.fc2 = nn.Linear(256, 14) # Output layer consists of 14 neurons\n",
        "        # Since it is a multi-task classfication we have divided the output layer into 4 parts\n",
        "        # because we have 4 emotions. Each part of the output layer has softmax over it which makes sure\n",
        "        # that inside the 4 emotions the output is a probability distribution.It is basically like a\n",
        "        # four output layer network.\n",
        "        self.softmax = nn.Softmax(dim = 1) \n",
        "        self.logsoftmax = nn.LogSoftmax(dim = 1)\n",
        "\n",
        "    def forward(self, x):\n",
        "        ''' the forward propagation algorithm '''\n",
        "        x = self.pool(F.relu(self.conv1(x)))\n",
        "        x = self.pool(F.relu(self.conv2(x)))\n",
        "        x = self.pool(F.relu(self.conv3(x)))\n",
        "        x = x.view(-1, 20 * 25 * 25)\n",
        "        x = F.relu(self.fc1(x))\n",
        "        # x = F.relu(self.fc2(x))\n",
        "        x = self.fc2(x)\n",
        "        x1 = self.softmax(x[:,:4])\n",
        "        x2 = self.softmax(x[:,4:8])\n",
        "        x3 = self.softmax(x[:,8:12])\n",
        "        x4 = self.softmax(x[:,12:])\n",
        "        y = torch.cat((x1,x2,x3,x4),1)\n",
        "        return y\n",
        "\n",
        "multitask_model = ConvTask3Net()\n",
        "multitask_model.to(device)\n",
        "print(multitask_model)"
      ]
    },
    {
      "cell_type": "markdown",
      "metadata": {
        "id": "E37tiIxCxYKX"
      },
      "source": [
        "Training the model for task C"
      ]
    },
    {
      "cell_type": "code",
      "execution_count": null,
      "metadata": {
        "id": "McBKhIuBSs-7"
      },
      "outputs": [],
      "source": [
        "criterion = nn.CrossEntropyLoss()\n",
        "optimizer = optim.Adam(multitask_model.parameters(), lr=0.0001)\n",
        "for epoch in range(30):  # loop over the dataset multiple times\n",
        "\n",
        "    running_loss = 0.0\n",
        "    for i, data in enumerate(traintask3loader):\n",
        "        # get the inputs; data is a list of [inputs, labels]\n",
        "        inputs, labels = data\n",
        "        inputs,labels = inputs.to(device),labels.to(device)\n",
        "        # zero the parameter gradients\n",
        "        optimizer.zero_grad()\n",
        "\n",
        "        # forward + backward + optimize\n",
        "        outputs = multitask_model(inputs)\n",
        "        outputs,labels = outputs.float(), labels.float()\n",
        "        # loss consists of 4 parts. Each loss corresponds to loss in each emotion.\n",
        "        loss1 = criterion(outputs[:,:4],labels[:,:4])\n",
        "        loss2 = criterion(outputs[:,4:8],labels[:,4:8])\n",
        "        loss3 = criterion(outputs[:,8:12],labels[:,8:12])\n",
        "        loss4 = criterion(outputs[:,12:],labels[:,12:])\n",
        "        loss = loss1 #+ loss2 + loss3 + loss4 \n",
        "        loss.backward()\n",
        "        optimizer.step()\n",
        "\n",
        "        # print statistics\n",
        "        if i % 80 == 79:\n",
        "            print('[%d, %5d] loss: %.6f' %\n",
        "                  (epoch + 1, i + 1, loss.item()))\n"
      ]
    },
    {
      "cell_type": "code",
      "execution_count": null,
      "metadata": {
        "id": "xMmFddV076fP"
      },
      "outputs": [],
      "source": [
        "# saving the multi-task model net\n",
        "multitask_model = multitask_model.to('cpu')\n",
        "torch.save(multitask_model.state_dict(),'./multitask_model.pth')\n",
        "multitask_model = multitask_model.to(device)"
      ]
    },
    {
      "cell_type": "markdown",
      "metadata": {
        "id": "RGeiox6WxaBX"
      },
      "source": [
        "Evaluating the model"
      ]
    },
    {
      "cell_type": "code",
      "execution_count": null,
      "metadata": {
        "colab": {
          "base_uri": "https://localhost:8080/"
        },
        "id": "uzCAHpi5CqN6",
        "outputId": "d5abf823-f83d-49d7-aef3-5d3f4d124b3b"
      },
      "outputs": [
        {
          "name": "stdout",
          "output_type": "stream",
          "text": [
            "F1 score is 0.22830722629845995\n",
            "Accuracy sccore is 0.22866666666666666\n"
          ]
        }
      ],
      "source": [
        "multitask_model.eval()\n",
        "\n",
        "correct = 0\n",
        "total = 0\n",
        "all_predicted = []\n",
        "all_labels = []\n",
        "with torch.no_grad():\n",
        "    for data in valtask3loader:\n",
        "        images, labels = data\n",
        "        images, labels = images.to(device),labels.to(device)\n",
        "        outputs = multitask_model(images)\n",
        "        predicted = (outputs > 0.8).float()\n",
        "        predicted,labels = predicted.to('cpu'),labels.to('cpu')\n",
        "        all_predicted.append(predicted)\n",
        "        all_labels.append(labels)\n",
        "    a1,a2 = all_predicted,all_labels\n",
        "    a1 = torch.cat(a1)\n",
        "    a2 = torch.cat(a2)\n",
        "    print(f'F1 score is {np.mean(f1_score(a1,a2,average = None))}') # Printing F1 score\n",
        "    print(f'Accuracy sccore is {np.mean(accuracy_score(a1,a2))}') # Printing accuracy_score"
      ]
    },
    {
      "cell_type": "code",
      "execution_count": null,
      "metadata": {
        "colab": {
          "base_uri": "https://localhost:8080/"
        },
        "id": "6kerDeDng9HK",
        "outputId": "0a8c9b0e-e39c-4971-ae8f-4f79d823a638"
      },
      "outputs": [
        {
          "data": {
            "text/plain": [
              "ConvTask3Net(\n",
              "  (conv1): Conv2d(3, 6, kernel_size=(5, 5), stride=(1, 1))\n",
              "  (pool): MaxPool2d(kernel_size=2, stride=2, padding=0, dilation=1, ceil_mode=False)\n",
              "  (conv2): Conv2d(6, 16, kernel_size=(5, 5), stride=(1, 1))\n",
              "  (conv3): Conv2d(16, 20, kernel_size=(4, 4), stride=(1, 1))\n",
              "  (fc1): Linear(in_features=12500, out_features=256, bias=True)\n",
              "  (fc2): Linear(in_features=256, out_features=14, bias=True)\n",
              "  (softmax): Softmax(dim=1)\n",
              "  (logsoftmax): LogSoftmax(dim=1)\n",
              ")"
            ]
          },
          "execution_count": 153,
          "metadata": {},
          "output_type": "execute_result"
        }
      ],
      "source": [
        "# loading the model\n",
        "multitask_model = ConvTask3Net()\n",
        "multitask_model.load_state_dict(torch.load('./multitask_model.pth'))\n",
        "multitask_model.to(device)"
      ]
    },
    {
      "cell_type": "markdown",
      "metadata": {
        "id": "DsL1uz7fBoT7"
      },
      "source": [
        "Implementing on Test Data"
      ]
    },
    {
      "cell_type": "code",
      "execution_count": null,
      "metadata": {
        "id": "hd0TYnmHBnl2"
      },
      "outputs": [],
      "source": [
        "testloader = DataLoader(testset,batch_size = 64,shuffle = False)\n",
        "with torch.no_grad():\n",
        "    all_outputs = []\n",
        "    for data in testloader:\n",
        "      data = data.to(device)\n",
        "      outputs = multitask_model(data)\n",
        "      outputs = (outputs > 0.8).float()\n",
        "      outputs = outputs.to('cpu')\n",
        "      all_outputs.append(outputs)\n",
        "    a1 = torch.cat(all_outputs)\n",
        "    a1 = a1.numpy()\n",
        "    for i in range(test_df.shape[0]):\n",
        "      test_df.at[i,'taskC'] = a1[i]\n",
        "test_df.to_csv(\"./taskC_test_results.csv\")"
      ]
    },
    {
      "cell_type": "markdown",
      "metadata": {
        "id": "ucqZE641kack"
      },
      "source": [
        "Tried to Implement Bert model so that we can take the advantage of text data in the csv files. But couldn't make it due to lack of GPU resources mainly and lack of time."
      ]
    },
    {
      "cell_type": "markdown",
      "metadata": {
        "id": "fLH830V9mCbL"
      },
      "source": [
        "Note : It has many errors and it is not developed"
      ]
    },
    {
      "cell_type": "markdown",
      "metadata": {
        "id": "TfOF9JSGp1T5"
      },
      "source": [
        "# BERT"
      ]
    },
    {
      "cell_type": "code",
      "execution_count": null,
      "metadata": {
        "colab": {
          "base_uri": "https://localhost:8080/"
        },
        "id": "U9Z-EkcZ3daN",
        "outputId": "4c31333f-ba5f-4191-e647-d46e2be8e334"
      },
      "outputs": [
        {
          "name": "stdout",
          "output_type": "stream",
          "text": [
            "Looking in indexes: https://pypi.org/simple, https://us-python.pkg.dev/colab-wheels/public/simple/\n",
            "Collecting fasttext\n",
            "  Downloading fasttext-0.9.2.tar.gz (68 kB)\n",
            "\u001b[K     |████████████████████████████████| 68 kB 2.7 MB/s \n",
            "\u001b[?25hCollecting pybind11>=2.2\n",
            "  Using cached pybind11-2.10.0-py3-none-any.whl (213 kB)\n",
            "Requirement already satisfied: setuptools>=0.7.0 in /usr/local/lib/python3.7/dist-packages (from fasttext) (57.4.0)\n",
            "Requirement already satisfied: numpy in /usr/local/lib/python3.7/dist-packages (from fasttext) (1.21.6)\n",
            "Building wheels for collected packages: fasttext\n",
            "  Building wheel for fasttext (setup.py) ... \u001b[?25l\u001b[?25hdone\n",
            "  Created wheel for fasttext: filename=fasttext-0.9.2-cp37-cp37m-linux_x86_64.whl size=3167251 sha256=0e647694862280dcb5d1431ecb77a949edc989c53dc31238f7ced8edd607f543\n",
            "  Stored in directory: /root/.cache/pip/wheels/4e/ca/bf/b020d2be95f7641801a6597a29c8f4f19e38f9c02a345bab9b\n",
            "Successfully built fasttext\n",
            "Installing collected packages: pybind11, fasttext\n",
            "Successfully installed fasttext-0.9.2 pybind11-2.10.0\n"
          ]
        }
      ],
      "source": [
        "!pip install fasttext"
      ]
    },
    {
      "cell_type": "code",
      "execution_count": null,
      "metadata": {
        "id": "mk0BsUgsF_Jf"
      },
      "outputs": [],
      "source": [
        "%matplotlib inline\n",
        "\n",
        "import os\n",
        "import matplotlib.pyplot as plt\n",
        "import numpy as np\n",
        "import pandas as pd\n",
        "from tqdm import tqdm\n",
        "\n",
        "import torchvision\n",
        "import torch\n",
        "import fasttext\n",
        "from torch.utils.data import Dataset, DataLoader"
      ]
    },
    {
      "cell_type": "code",
      "execution_count": null,
      "metadata": {
        "colab": {
          "base_uri": "https://localhost:8080/",
          "height": 35
        },
        "id": "2dJ_J-IU6aCS",
        "outputId": "160542e7-f856-4553-aa98-b21348e2071f"
      },
      "outputs": [
        {
          "data": {
            "application/vnd.google.colaboratory.intrinsic+json": {
              "type": "string"
            },
            "text/plain": [
              "'/'"
            ]
          },
          "execution_count": 41,
          "metadata": {},
          "output_type": "execute_result"
        }
      ],
      "source": [
        "os.chdir('/')\n",
        "%pwd"
      ]
    },
    {
      "cell_type": "code",
      "execution_count": null,
      "metadata": {
        "id": "V1tm8Qxs64fm"
      },
      "outputs": [],
      "source": [
        "os.chdir('content/drive/MyDrive/Colab Notebooks/AIISC/')\n",
        "path = %pwd"
      ]
    },
    {
      "cell_type": "code",
      "execution_count": null,
      "metadata": {
        "colab": {
          "base_uri": "https://localhost:8080/",
          "height": 35
        },
        "id": "ieBXke2c-zjS",
        "outputId": "507febfd-fc16-43a1-91b4-5d09a3f8006f"
      },
      "outputs": [
        {
          "data": {
            "application/vnd.google.colaboratory.intrinsic+json": {
              "type": "string"
            },
            "text/plain": [
              "'/content/drive/MyDrive/Colab Notebooks/AIISC'"
            ]
          },
          "execution_count": 43,
          "metadata": {},
          "output_type": "execute_result"
        }
      ],
      "source": [
        "path"
      ]
    },
    {
      "cell_type": "code",
      "execution_count": null,
      "metadata": {
        "id": "BWBLIvldGB_3"
      },
      "outputs": [],
      "source": [
        "train_df = pd.read_csv(path + '/memotion_train.csv')"
      ]
    },
    {
      "cell_type": "code",
      "execution_count": null,
      "metadata": {
        "colab": {
          "base_uri": "https://localhost:8080/",
          "height": 496
        },
        "id": "YpRDDZd6_ZXc",
        "outputId": "3a906730-0774-4b83-cce3-22c6bbb078ae"
      },
      "outputs": [
        {
          "data": {
            "text/html": [
              "\n",
              "  <div id=\"df-85e35905-07c6-4cf4-ade6-31cb5b0850ec\">\n",
              "    <div class=\"colab-df-container\">\n",
              "      <div>\n",
              "<style scoped>\n",
              "    .dataframe tbody tr th:only-of-type {\n",
              "        vertical-align: middle;\n",
              "    }\n",
              "\n",
              "    .dataframe tbody tr th {\n",
              "        vertical-align: top;\n",
              "    }\n",
              "\n",
              "    .dataframe thead th {\n",
              "        text-align: right;\n",
              "    }\n",
              "</style>\n",
              "<table border=\"1\" class=\"dataframe\">\n",
              "  <thead>\n",
              "    <tr style=\"text-align: right;\">\n",
              "      <th></th>\n",
              "      <th>Id</th>\n",
              "      <th>Image url</th>\n",
              "      <th>ocr_text</th>\n",
              "      <th>humour</th>\n",
              "      <th>sarcastic</th>\n",
              "      <th>offensive</th>\n",
              "      <th>motivational</th>\n",
              "      <th>overall_sentiment</th>\n",
              "      <th>classification_based_on</th>\n",
              "    </tr>\n",
              "  </thead>\n",
              "  <tbody>\n",
              "    <tr>\n",
              "      <th>0</th>\n",
              "      <td>1</td>\n",
              "      <td>https://preview.redd.it/9jkzlvt8p4q31.jpg?widt...</td>\n",
              "      <td>enters into a wrong class teacher and students</td>\n",
              "      <td>funny</td>\n",
              "      <td>not_sarcastic</td>\n",
              "      <td>slight</td>\n",
              "      <td>not_motivational</td>\n",
              "      <td>neutral</td>\n",
              "      <td>image_and_text</td>\n",
              "    </tr>\n",
              "    <tr>\n",
              "      <th>1</th>\n",
              "      <td>2</td>\n",
              "      <td>https://i.pinimg.com/originals/fd/c8/e2/fdc8e2...</td>\n",
              "      <td>dj if you single make some nooooissssseeee my ...</td>\n",
              "      <td>funny</td>\n",
              "      <td>not_sarcastic</td>\n",
              "      <td>not_offensive</td>\n",
              "      <td>not_motivational</td>\n",
              "      <td>neutral</td>\n",
              "      <td>image_and_text</td>\n",
              "    </tr>\n",
              "    <tr>\n",
              "      <th>2</th>\n",
              "      <td>3</td>\n",
              "      <td>https://i.pinimg.com/originals/85/10/13/851013...</td>\n",
              "      <td>everyone sit like a lady me</td>\n",
              "      <td>funny</td>\n",
              "      <td>not_sarcastic</td>\n",
              "      <td>slight</td>\n",
              "      <td>not_motivational</td>\n",
              "      <td>neutral</td>\n",
              "      <td>image_and_text</td>\n",
              "    </tr>\n",
              "    <tr>\n",
              "      <th>3</th>\n",
              "      <td>4</td>\n",
              "      <td>https://i.imgur.com/07ZcrjZ_d.webp?maxwidth=52...</td>\n",
              "      <td>when youre about to watch a 2 hour educational...</td>\n",
              "      <td>funny</td>\n",
              "      <td>not_sarcastic</td>\n",
              "      <td>not_offensive</td>\n",
              "      <td>not_motivational</td>\n",
              "      <td>neutral</td>\n",
              "      <td>image_and_text</td>\n",
              "    </tr>\n",
              "    <tr>\n",
              "      <th>4</th>\n",
              "      <td>5</td>\n",
              "      <td>https://i.imgur.com/MGddJxr_d.jpg?maxwidth=520...</td>\n",
              "      <td>government work from home olympic swimmers nsdf</td>\n",
              "      <td>very_funny</td>\n",
              "      <td>little_sarcastic</td>\n",
              "      <td>not_offensive</td>\n",
              "      <td>not_motivational</td>\n",
              "      <td>neutral</td>\n",
              "      <td>image_and_text</td>\n",
              "    </tr>\n",
              "  </tbody>\n",
              "</table>\n",
              "</div>\n",
              "      <button class=\"colab-df-convert\" onclick=\"convertToInteractive('df-85e35905-07c6-4cf4-ade6-31cb5b0850ec')\"\n",
              "              title=\"Convert this dataframe to an interactive table.\"\n",
              "              style=\"display:none;\">\n",
              "        \n",
              "  <svg xmlns=\"http://www.w3.org/2000/svg\" height=\"24px\"viewBox=\"0 0 24 24\"\n",
              "       width=\"24px\">\n",
              "    <path d=\"M0 0h24v24H0V0z\" fill=\"none\"/>\n",
              "    <path d=\"M18.56 5.44l.94 2.06.94-2.06 2.06-.94-2.06-.94-.94-2.06-.94 2.06-2.06.94zm-11 1L8.5 8.5l.94-2.06 2.06-.94-2.06-.94L8.5 2.5l-.94 2.06-2.06.94zm10 10l.94 2.06.94-2.06 2.06-.94-2.06-.94-.94-2.06-.94 2.06-2.06.94z\"/><path d=\"M17.41 7.96l-1.37-1.37c-.4-.4-.92-.59-1.43-.59-.52 0-1.04.2-1.43.59L10.3 9.45l-7.72 7.72c-.78.78-.78 2.05 0 2.83L4 21.41c.39.39.9.59 1.41.59.51 0 1.02-.2 1.41-.59l7.78-7.78 2.81-2.81c.8-.78.8-2.07 0-2.86zM5.41 20L4 18.59l7.72-7.72 1.47 1.35L5.41 20z\"/>\n",
              "  </svg>\n",
              "      </button>\n",
              "      \n",
              "  <style>\n",
              "    .colab-df-container {\n",
              "      display:flex;\n",
              "      flex-wrap:wrap;\n",
              "      gap: 12px;\n",
              "    }\n",
              "\n",
              "    .colab-df-convert {\n",
              "      background-color: #E8F0FE;\n",
              "      border: none;\n",
              "      border-radius: 50%;\n",
              "      cursor: pointer;\n",
              "      display: none;\n",
              "      fill: #1967D2;\n",
              "      height: 32px;\n",
              "      padding: 0 0 0 0;\n",
              "      width: 32px;\n",
              "    }\n",
              "\n",
              "    .colab-df-convert:hover {\n",
              "      background-color: #E2EBFA;\n",
              "      box-shadow: 0px 1px 2px rgba(60, 64, 67, 0.3), 0px 1px 3px 1px rgba(60, 64, 67, 0.15);\n",
              "      fill: #174EA6;\n",
              "    }\n",
              "\n",
              "    [theme=dark] .colab-df-convert {\n",
              "      background-color: #3B4455;\n",
              "      fill: #D2E3FC;\n",
              "    }\n",
              "\n",
              "    [theme=dark] .colab-df-convert:hover {\n",
              "      background-color: #434B5C;\n",
              "      box-shadow: 0px 1px 3px 1px rgba(0, 0, 0, 0.15);\n",
              "      filter: drop-shadow(0px 1px 2px rgba(0, 0, 0, 0.3));\n",
              "      fill: #FFFFFF;\n",
              "    }\n",
              "  </style>\n",
              "\n",
              "      <script>\n",
              "        const buttonEl =\n",
              "          document.querySelector('#df-85e35905-07c6-4cf4-ade6-31cb5b0850ec button.colab-df-convert');\n",
              "        buttonEl.style.display =\n",
              "          google.colab.kernel.accessAllowed ? 'block' : 'none';\n",
              "\n",
              "        async function convertToInteractive(key) {\n",
              "          const element = document.querySelector('#df-85e35905-07c6-4cf4-ade6-31cb5b0850ec');\n",
              "          const dataTable =\n",
              "            await google.colab.kernel.invokeFunction('convertToInteractive',\n",
              "                                                     [key], {});\n",
              "          if (!dataTable) return;\n",
              "\n",
              "          const docLinkHtml = 'Like what you see? Visit the ' +\n",
              "            '<a target=\"_blank\" href=https://colab.research.google.com/notebooks/data_table.ipynb>data table notebook</a>'\n",
              "            + ' to learn more about interactive tables.';\n",
              "          element.innerHTML = '';\n",
              "          dataTable['output_type'] = 'display_data';\n",
              "          await google.colab.output.renderOutput(dataTable, element);\n",
              "          const docLink = document.createElement('div');\n",
              "          docLink.innerHTML = docLinkHtml;\n",
              "          element.appendChild(docLink);\n",
              "        }\n",
              "      </script>\n",
              "    </div>\n",
              "  </div>\n",
              "  "
            ],
            "text/plain": [
              "   Id                                          Image url  \\\n",
              "0   1  https://preview.redd.it/9jkzlvt8p4q31.jpg?widt...   \n",
              "1   2  https://i.pinimg.com/originals/fd/c8/e2/fdc8e2...   \n",
              "2   3  https://i.pinimg.com/originals/85/10/13/851013...   \n",
              "3   4  https://i.imgur.com/07ZcrjZ_d.webp?maxwidth=52...   \n",
              "4   5  https://i.imgur.com/MGddJxr_d.jpg?maxwidth=520...   \n",
              "\n",
              "                                            ocr_text      humour  \\\n",
              "0    enters into a wrong class teacher and students        funny   \n",
              "1  dj if you single make some nooooissssseeee my ...       funny   \n",
              "2                       everyone sit like a lady me        funny   \n",
              "3  when youre about to watch a 2 hour educational...       funny   \n",
              "4   government work from home olympic swimmers nsdf   very_funny   \n",
              "\n",
              "          sarcastic      offensive      motivational overall_sentiment  \\\n",
              "0     not_sarcastic         slight  not_motivational           neutral   \n",
              "1     not_sarcastic  not_offensive  not_motivational           neutral   \n",
              "2     not_sarcastic         slight  not_motivational           neutral   \n",
              "3     not_sarcastic  not_offensive  not_motivational           neutral   \n",
              "4  little_sarcastic  not_offensive  not_motivational           neutral   \n",
              "\n",
              "  classification_based_on  \n",
              "0          image_and_text  \n",
              "1          image_and_text  \n",
              "2          image_and_text  \n",
              "3          image_and_text  \n",
              "4          image_and_text  "
            ]
          },
          "execution_count": 45,
          "metadata": {},
          "output_type": "execute_result"
        }
      ],
      "source": [
        "train_df.head()"
      ]
    },
    {
      "cell_type": "code",
      "execution_count": null,
      "metadata": {
        "colab": {
          "base_uri": "https://localhost:8080/"
        },
        "id": "Fg5L2_Pi6mjz",
        "outputId": "fb0cda8d-7591-477b-ce92-63612b89d4fd"
      },
      "outputs": [
        {
          "data": {
            "text/plain": [
              "count    7000.000000\n",
              "mean       17.936143\n",
              "std        10.898514\n",
              "min         1.000000\n",
              "25%        11.000000\n",
              "50%        16.000000\n",
              "75%        21.000000\n",
              "max       180.000000\n",
              "Name: ocr_text, dtype: float64"
            ]
          },
          "execution_count": 46,
          "metadata": {},
          "output_type": "execute_result"
        }
      ],
      "source": [
        "train_df.ocr_text.map(\n",
        "    lambda ocr_text: len(ocr_text.split(\" \"))\n",
        ").describe()"
      ]
    },
    {
      "cell_type": "code",
      "execution_count": null,
      "metadata": {
        "colab": {
          "base_uri": "https://localhost:8080/"
        },
        "id": "zCHziFhY68Ja",
        "outputId": "20f0f830-8d4d-4b67-bb43-1d32439a2493"
      },
      "outputs": [
        {
          "name": "stdout",
          "output_type": "stream",
          "text": [
            "(640, 529)\n",
            "(1080, 965)\n",
            "(700, 543)\n",
            "(435, 435)\n",
            "(435, 435)\n"
          ]
        }
      ],
      "source": [
        "from PIL import Image\n",
        "\n",
        "images = [\n",
        "    Image.open(\n",
        "        path + '/train_images/' + str(train_df.loc[i,'Id']) + '.jpg'\n",
        "    ).convert(\"RGB\")\n",
        "    for i in range(5)\n",
        "]\n",
        "\n",
        "for image in images:\n",
        "    print(image.size)"
      ]
    },
    {
      "cell_type": "code",
      "execution_count": null,
      "metadata": {
        "colab": {
          "base_uri": "https://localhost:8080/",
          "height": 202
        },
        "id": "6_l9vlAt2T9R",
        "outputId": "82dd1759-ffad-4263-bff0-64e12d7634ed"
      },
      "outputs": [
        {
          "data": {
            "image/png": "[encoded data removed]",
            "text/plain": [
              "<Figure size 1440x360 with 1 Axes>"
            ]
          },
          "metadata": {},
          "output_type": "display_data"
        }
      ],
      "source": [
        "image_transform = torchvision.transforms.Compose(\n",
        "    [\n",
        "        torchvision.transforms.Resize(size=(224, 224)),\n",
        "        torchvision.transforms.ToTensor()\n",
        "    ]\n",
        ")\n",
        "\n",
        "# convert the images and prepare for visualization.\n",
        "tensor_img = torch.stack(\n",
        "    [image_transform(image) for image in images]\n",
        ")\n",
        "grid = torchvision.utils.make_grid(tensor_img)\n",
        "\n",
        "# plot\n",
        "plt.rcParams[\"figure.figsize\"] = (20, 5)\n",
        "plt.axis('off')\n",
        "_ = plt.imshow(grid.permute(1, 2, 0))"
      ]
    },
    {
      "cell_type": "code",
      "execution_count": null,
      "metadata": {
        "id": "rRweEtPyOnWF"
      },
      "outputs": [],
      "source": [
        "class MemesDataset(Dataset):\n",
        "\n",
        "    def __init__(self,csv_file,root_dir,image_transform = None,text_transform = None):\n",
        "\n",
        "        self.train_dataframe = pd.read_csv(csv_file)\n",
        "        self.root_dir = root_dir\n",
        "        self.image_transform = image_transform\n",
        "        self.text_transform = text_transform\n",
        "        self.label_val = None\n",
        "\n",
        "    def __len__(self):\n",
        "        \"\"\"This method is called when you do len(instance) \n",
        "        for an instance of this class.\n",
        "        \"\"\"\n",
        "        return len(self.train_dataframe)\n",
        "\n",
        "    def __getitem__(self, idx):\n",
        "        \"\"\"This method is called when you do instance[key] \n",
        "        for an instance of this class.\n",
        "        \"\"\"\n",
        "        if torch.is_tensor(idx):\n",
        "            idx = idx.tolist()\n",
        "\n",
        "        img_id = self.train_dataframe.loc[idx, \"Id\"]\n",
        "        s = str(img_id) + \".jpg\"\n",
        "        image = Image.open(\n",
        "            self.root_dir + '/train_images/' + s\n",
        "        ).convert(\"RGB\")\n",
        "        if self.image_transform:\n",
        "            image = self.image_transform(image)\n",
        "        text = None\n",
        "        if self.text_transform:\n",
        "            text = torch.Tensor(\n",
        "                self.text_transform.get_sentence_vector(\n",
        "                    self.train_dataframe.loc[idx, \"ocr_text\"]\n",
        "                )\n",
        "            ).squeeze()\n",
        "\n",
        "        if \"overall_sentiment\" in self.train_dataframe.columns:\n",
        "            label = self.train_dataframe.loc[idx, \"overall_sentiment\"]\n",
        "            if label == \"positive\":\n",
        "                self.label_val = torch.tensor(2)\n",
        "            elif label == \"negative\":\n",
        "                self.label_val = torch.tensor(0)\n",
        "            else:\n",
        "                self.label_val = torch.tensor(1)\n",
        "            sample = {\n",
        "                \"id\": img_id, \n",
        "                \"image\": image, \n",
        "                \"text\": text, \n",
        "                \"label\": self.label_val\n",
        "            }\n",
        "\n",
        "        return sample"
      ]
    },
    {
      "cell_type": "code",
      "execution_count": null,
      "metadata": {
        "colab": {
          "base_uri": "https://localhost:8080/",
          "height": 235
        },
        "id": "h8vy9_47YRX0",
        "outputId": "9a1d3a3f-88a3-4c25-ff63-11945bc6f0d0"
      },
      "outputs": [
        {
          "ename": "NameError",
          "evalue": "ignored",
          "output_type": "error",
          "traceback": [
            "\u001b[0;31m---------------------------------------------------------------------------\u001b[0m",
            "\u001b[0;31mNameError\u001b[0m                                 Traceback (most recent call last)",
            "\u001b[0;32m<ipython-input-37-47f90463f8fd>\u001b[0m in \u001b[0;36m<module>\u001b[0;34m\u001b[0m\n\u001b[0;32m----> 1\u001b[0;31m \u001b[0mdataset\u001b[0m \u001b[0;34m=\u001b[0m \u001b[0mMemesDataset\u001b[0m\u001b[0;34m(\u001b[0m\u001b[0mcsv_file\u001b[0m \u001b[0;34m=\u001b[0m \u001b[0mpath\u001b[0m \u001b[0;34m+\u001b[0m \u001b[0;34m'/memotion_train.csv'\u001b[0m\u001b[0;34m,\u001b[0m\u001b[0mroot_dir\u001b[0m \u001b[0;34m=\u001b[0m \u001b[0mpath\u001b[0m\u001b[0;34m)\u001b[0m\u001b[0;34m\u001b[0m\u001b[0;34m\u001b[0m\u001b[0m\n\u001b[0m\u001b[1;32m      2\u001b[0m \u001b[0mfig\u001b[0m \u001b[0;34m=\u001b[0m \u001b[0mplt\u001b[0m\u001b[0;34m.\u001b[0m\u001b[0mfigure\u001b[0m\u001b[0;34m(\u001b[0m\u001b[0;34m)\u001b[0m\u001b[0;34m\u001b[0m\u001b[0;34m\u001b[0m\u001b[0m\n\u001b[1;32m      3\u001b[0m \u001b[0;32mfor\u001b[0m \u001b[0mi\u001b[0m \u001b[0;32min\u001b[0m \u001b[0mrange\u001b[0m\u001b[0;34m(\u001b[0m\u001b[0mlen\u001b[0m\u001b[0;34m(\u001b[0m\u001b[0mdataset\u001b[0m\u001b[0;34m)\u001b[0m\u001b[0;34m)\u001b[0m\u001b[0;34m:\u001b[0m\u001b[0;34m\u001b[0m\u001b[0;34m\u001b[0m\u001b[0m\n\u001b[1;32m      4\u001b[0m     \u001b[0msample\u001b[0m \u001b[0;34m=\u001b[0m \u001b[0mdataset\u001b[0m\u001b[0;34m[\u001b[0m\u001b[0mi\u001b[0m\u001b[0;34m]\u001b[0m\u001b[0;34m\u001b[0m\u001b[0;34m\u001b[0m\u001b[0m\n\u001b[1;32m      5\u001b[0m \u001b[0;34m\u001b[0m\u001b[0m\n",
            "\u001b[0;31mNameError\u001b[0m: name 'MemesDataset' is not defined"
          ]
        }
      ],
      "source": [
        "dataset = MemesDataset(csv_file = path + '/memotion_train.csv',root_dir = path)\n",
        "fig = plt.figure()\n",
        "for i in range(len(dataset)):\n",
        "    sample = dataset[i]\n",
        "\n",
        "    print(i, sample['image'])\n",
        "\n",
        "    ax = plt.subplot(1, 4, i + 1)\n",
        "    plt.tight_layout()\n",
        "    ax.set_title('Sample #{}'.format(i))\n",
        "    ax.axis('off')\n",
        "    if i == 3:\n",
        "        plt.show()\n",
        "        break"
      ]
    },
    {
      "cell_type": "code",
      "execution_count": null,
      "metadata": {
        "id": "YZyEfLYnw4kX"
      },
      "outputs": [],
      "source": [
        "import tempfile\n",
        "from pathlib import Path"
      ]
    },
    {
      "cell_type": "code",
      "execution_count": null,
      "metadata": {
        "id": "SeQHaWvOqMJ6"
      },
      "outputs": [],
      "source": [
        "def getImagePath(id, directory):\n",
        "\n",
        "  return directory + str(id) + '.jpg'"
      ]
    },
    {
      "cell_type": "code",
      "execution_count": null,
      "metadata": {
        "id": "c8YnMVWspwPT"
      },
      "outputs": [],
      "source": [
        "label_dict = {\n",
        "    'negative':0,\n",
        "    'positive':1,\n",
        "    'neutral':2\n",
        "}\n",
        "\n",
        "class HatefulMemesDataset(torch.utils.data.Dataset):\n",
        "    def __init__(\n",
        "        self,\n",
        "        data_path, \n",
        "        img_dir,\n",
        "        image_transform = None,\n",
        "        text_transform = None,\n",
        "        random_state=0,\n",
        "    ):\n",
        "\n",
        "        self.samples_frame = pd.read_csv(data_path + '/memotion_train.csv')\n",
        "        \n",
        "        self.samples_frame = self.samples_frame.reset_index(drop=True)\n",
        "\n",
        "        self.samples_frame['img'] = self.samples_frame.apply(\n",
        "            lambda row: getImagePath(row.Id, img_dir), axis=1\n",
        "        )\n",
        "    \n",
        "        self.image_transform = self._build_image_transform()\n",
        "        self.text_transform = self._build_text_transform(data_path)\n",
        "\n",
        "    def _build_text_transform(self,data_path):\n",
        "        with tempfile.NamedTemporaryFile() as ft_training_data:\n",
        "            ft_path = Path(ft_training_data.name)\n",
        "            with ft_path.open(\"w\") as ft:\n",
        "                train_text = pd.read_csv(data_path + '/memotion_train.csv')\n",
        "\n",
        "                training_data = list(train_text['ocr_text'])\n",
        "\n",
        "                for line in training_data:\n",
        "                    ft.write(line + \"\\n\")\n",
        "\n",
        "                language_transform = fasttext.train_unsupervised(\n",
        "                    str(ft_path),\n",
        "                    model=self.hparams.get(\"fasttext_model\", \"cbow\"),\n",
        "                    dim=self.embedding_dim\n",
        "                )\n",
        "        return language_transform\n",
        "    \n",
        "    def _build_image_transform(self):\n",
        "        image_dim = 224\n",
        "        image_transform = torchvision.transforms.Compose(\n",
        "            [\n",
        "                torchvision.transforms.Resize(\n",
        "                    size=(image_dim, image_dim)\n",
        "                ),        \n",
        "                torchvision.transforms.ToTensor(),\n",
        "                # all torchvision models expect the same\n",
        "                # normalization mean and std\n",
        "                # https://pytorch.org/docs/stable/torchvision/models.html\n",
        "                torchvision.transforms.Normalize(\n",
        "                    mean=(0.485, 0.456, 0.406), \n",
        "                    std=(0.229, 0.224, 0.225)\n",
        "                ),\n",
        "            ]\n",
        "        )\n",
        "        return image_transform\n",
        "\n",
        "    def __len__(self):\n",
        "        \n",
        "        return len(self.samples_frame)\n",
        "\n",
        "    def __getitem__(self, idx):\n",
        "        \n",
        "        if torch.is_tensor(idx):\n",
        "            idx = idx.tolist()\n",
        "\n",
        "        img_id = self.samples_frame.loc[idx, \"Id\"]\n",
        "\n",
        "        image = Image.open(\n",
        "            self.samples_frame.loc[idx, \"img\"]\n",
        "        ).convert(\"RGB\")\n",
        "\n",
        "        image = self.image_transform(image)\n",
        "\n",
        "        text = torch.Tensor(\n",
        "            self.text_transform.get_sentence_vector(\n",
        "                self.samples_frame.loc[idx, \"ocr_text\"]\n",
        "            )\n",
        "        ).squeeze()\n",
        "\n",
        "        # print('YESSSSSSSSSSSSS')\n",
        "        # print(self.samples_frame.columns)\n",
        "        if \"overall_sentiment\" in self.samples_frame.columns:\n",
        "\n",
        "            # \n",
        "\n",
        "            label = torch.Tensor(\n",
        "                [label_dict[self.samples_frame.loc[idx, \"overall_sentiment\"]]]\n",
        "            ).long().squeeze()\n",
        "            sample = {\n",
        "                \"id\": img_id, \n",
        "                \"image\": image, \n",
        "                \"text\": text, \n",
        "                \"label\": label\n",
        "            }\n",
        "        else:\n",
        "            sample = {\n",
        "                \"id\": img_id, \n",
        "                \"image\": image, \n",
        "                \"text\": text\n",
        "            }\n",
        "\n",
        "        return sample"
      ]
    },
    {
      "cell_type": "code",
      "execution_count": null,
      "metadata": {
        "colab": {
          "base_uri": "https://localhost:8080/",
          "height": 519
        },
        "id": "3MhlbVsyysZT",
        "outputId": "f09084de-6233-453f-9657-c577d49cc88b"
      },
      "outputs": [
        {
          "ename": "AttributeError",
          "evalue": "ignored",
          "output_type": "error",
          "traceback": [
            "\u001b[0;31m---------------------------------------------------------------------------\u001b[0m",
            "\u001b[0;31mAttributeError\u001b[0m                            Traceback (most recent call last)",
            "\u001b[0;32m<ipython-input-70-c7398a78fd44>\u001b[0m in \u001b[0;36m<module>\u001b[0;34m\u001b[0m\n\u001b[0;32m----> 1\u001b[0;31m \u001b[0mdataset\u001b[0m \u001b[0;34m=\u001b[0m \u001b[0mHatefulMemesDataset\u001b[0m\u001b[0;34m(\u001b[0m\u001b[0mdata_path\u001b[0m \u001b[0;34m=\u001b[0m \u001b[0mpath\u001b[0m\u001b[0;34m,\u001b[0m\u001b[0mimg_dir\u001b[0m \u001b[0;34m=\u001b[0m \u001b[0mpath\u001b[0m \u001b[0;34m+\u001b[0m \u001b[0;34m'/train_images'\u001b[0m\u001b[0;34m)\u001b[0m\u001b[0;34m\u001b[0m\u001b[0;34m\u001b[0m\u001b[0m\n\u001b[0m\u001b[1;32m      2\u001b[0m \u001b[0mfig\u001b[0m \u001b[0;34m=\u001b[0m \u001b[0mplt\u001b[0m\u001b[0;34m.\u001b[0m\u001b[0mfigure\u001b[0m\u001b[0;34m(\u001b[0m\u001b[0;34m)\u001b[0m\u001b[0;34m\u001b[0m\u001b[0;34m\u001b[0m\u001b[0m\n\u001b[1;32m      3\u001b[0m \u001b[0;32mfor\u001b[0m \u001b[0mi\u001b[0m \u001b[0;32min\u001b[0m \u001b[0mrange\u001b[0m\u001b[0;34m(\u001b[0m\u001b[0mlen\u001b[0m\u001b[0;34m(\u001b[0m\u001b[0mdataset\u001b[0m\u001b[0;34m)\u001b[0m\u001b[0;34m)\u001b[0m\u001b[0;34m:\u001b[0m\u001b[0;34m\u001b[0m\u001b[0;34m\u001b[0m\u001b[0m\n\u001b[1;32m      4\u001b[0m     \u001b[0msample\u001b[0m \u001b[0;34m=\u001b[0m \u001b[0mdataset\u001b[0m\u001b[0;34m[\u001b[0m\u001b[0mi\u001b[0m\u001b[0;34m]\u001b[0m\u001b[0;34m\u001b[0m\u001b[0;34m\u001b[0m\u001b[0m\n\u001b[1;32m      5\u001b[0m \u001b[0;34m\u001b[0m\u001b[0m\n",
            "\u001b[0;32m<ipython-input-69-fd063ddb6094>\u001b[0m in \u001b[0;36m__init__\u001b[0;34m(self, data_path, img_dir, image_transform, text_transform, random_state)\u001b[0m\n\u001b[1;32m     24\u001b[0m \u001b[0;34m\u001b[0m\u001b[0m\n\u001b[1;32m     25\u001b[0m         \u001b[0mself\u001b[0m\u001b[0;34m.\u001b[0m\u001b[0mimage_transform\u001b[0m \u001b[0;34m=\u001b[0m \u001b[0mself\u001b[0m\u001b[0;34m.\u001b[0m\u001b[0m_build_image_transform\u001b[0m\u001b[0;34m(\u001b[0m\u001b[0;34m)\u001b[0m\u001b[0;34m\u001b[0m\u001b[0;34m\u001b[0m\u001b[0m\n\u001b[0;32m---> 26\u001b[0;31m         \u001b[0mself\u001b[0m\u001b[0;34m.\u001b[0m\u001b[0mtext_transform\u001b[0m \u001b[0;34m=\u001b[0m \u001b[0mself\u001b[0m\u001b[0;34m.\u001b[0m\u001b[0m_build_text_transform\u001b[0m\u001b[0;34m(\u001b[0m\u001b[0mdata_path\u001b[0m\u001b[0;34m)\u001b[0m\u001b[0;34m\u001b[0m\u001b[0;34m\u001b[0m\u001b[0m\n\u001b[0m\u001b[1;32m     27\u001b[0m \u001b[0;34m\u001b[0m\u001b[0m\n\u001b[1;32m     28\u001b[0m     \u001b[0;32mdef\u001b[0m \u001b[0m_build_text_transform\u001b[0m\u001b[0;34m(\u001b[0m\u001b[0mself\u001b[0m\u001b[0;34m,\u001b[0m\u001b[0mdata_path\u001b[0m\u001b[0;34m)\u001b[0m\u001b[0;34m:\u001b[0m\u001b[0;34m\u001b[0m\u001b[0;34m\u001b[0m\u001b[0m\n",
            "\u001b[0;32m<ipython-input-69-fd063ddb6094>\u001b[0m in \u001b[0;36m_build_text_transform\u001b[0;34m(self, data_path)\u001b[0m\n\u001b[1;32m     39\u001b[0m                 language_transform = fasttext.train_unsupervised(\n\u001b[1;32m     40\u001b[0m                     \u001b[0mstr\u001b[0m\u001b[0;34m(\u001b[0m\u001b[0mft_path\u001b[0m\u001b[0;34m)\u001b[0m\u001b[0;34m,\u001b[0m\u001b[0;34m\u001b[0m\u001b[0;34m\u001b[0m\u001b[0m\n\u001b[0;32m---> 41\u001b[0;31m                     \u001b[0mmodel\u001b[0m\u001b[0;34m=\u001b[0m\u001b[0mself\u001b[0m\u001b[0;34m.\u001b[0m\u001b[0mhparams\u001b[0m\u001b[0;34m.\u001b[0m\u001b[0mget\u001b[0m\u001b[0;34m(\u001b[0m\u001b[0;34m\"fasttext_model\"\u001b[0m\u001b[0;34m,\u001b[0m \u001b[0;34m\"cbow\"\u001b[0m\u001b[0;34m)\u001b[0m\u001b[0;34m,\u001b[0m\u001b[0;34m\u001b[0m\u001b[0;34m\u001b[0m\u001b[0m\n\u001b[0m\u001b[1;32m     42\u001b[0m                     \u001b[0mdim\u001b[0m\u001b[0;34m=\u001b[0m\u001b[0mself\u001b[0m\u001b[0;34m.\u001b[0m\u001b[0membedding_dim\u001b[0m\u001b[0;34m\u001b[0m\u001b[0;34m\u001b[0m\u001b[0m\n\u001b[1;32m     43\u001b[0m                 )\n",
            "\u001b[0;31mAttributeError\u001b[0m: 'HatefulMemesDataset' object has no attribute 'hparams'"
          ]
        }
      ],
      "source": [
        "dataset = HatefulMemesDataset(data_path = path,img_dir = path + '/train_images')\n",
        "fig = plt.figure()\n",
        "for i in range(len(dataset)):\n",
        "    sample = dataset[i]\n",
        "\n",
        "    print(i, sample['image'])\n",
        "\n",
        "    ax = plt.subplot(1, 4, i + 1)\n",
        "    plt.tight_layout()\n",
        "    ax.set_title('Sample #{}'.format(i))\n",
        "    ax.axis('off')\n",
        "    if i == 3:\n",
        "        plt.show()\n",
        "        break"
      ]
    },
    {
      "cell_type": "code",
      "execution_count": null,
      "metadata": {
        "id": "XBDNAOwGqEbm"
      },
      "outputs": [],
      "source": [
        "class LanguageAndVisionConcat(torch.nn.Module):\n",
        "    def _init_(\n",
        "        self,\n",
        "        num_classes,\n",
        "        loss_fn,\n",
        "        language_module,\n",
        "        vision_module,\n",
        "        language_feature_dim,\n",
        "        vision_feature_dim,\n",
        "        fusion_output_size,\n",
        "        dropout_p,\n",
        "        \n",
        "    ):\n",
        "        super(LanguageAndVisionConcat, self)._init_()\n",
        "        self.language_module = language_module\n",
        "        self.vision_module = vision_module\n",
        "        \n",
        "        self.fusion = torch.nn.Linear(\n",
        "            in_features=(language_feature_dim + vision_feature_dim), \n",
        "            out_features=fusion_output_size\n",
        "        )\n",
        "        self.fc = torch.nn.Linear(\n",
        "            in_features=fusion_output_size, \n",
        "            out_features=num_classes\n",
        "        )\n",
        "        self.loss_fn = loss_fn\n",
        "        self.dropout = torch.nn.Dropout(dropout_p)\n",
        "        \n",
        "    def forward(self, text, image, label=None):\n",
        "        text_features = torch.nn.functional.relu(\n",
        "            self.language_module(text)\n",
        "        )\n",
        "        image_features = torch.nn.functional.relu(\n",
        "            self.vision_module(image)\n",
        "        )\n",
        "        combined = torch.cat(\n",
        "            [text_features, image_features], dim=1\n",
        "        )\n",
        "        fused = self.dropout(\n",
        "            torch.nn.functional.relu(\n",
        "            self.fusion(combined)\n",
        "            )\n",
        "        )\n",
        "        logits = self.fc(fused)\n",
        "        pred = torch.nn.functional.softmax(logits)\n",
        "        loss = (\n",
        "            self.loss_fn(pred, label) \n",
        "            if label is not None else label\n",
        "        )\n",
        "        return (pred, loss)"
      ]
    },
    {
      "cell_type": "code",
      "execution_count": null,
      "metadata": {
        "colab": {
          "base_uri": "https://localhost:8080/",
          "height": 252
        },
        "id": "-zZKwyiWr2K_",
        "outputId": "613f59fe-723b-4b98-e23d-b6be3c9031fd"
      },
      "outputs": [
        {
          "ename": "TypeError",
          "evalue": "ignored",
          "output_type": "error",
          "traceback": [
            "\u001b[0;31m---------------------------------------------------------------------------\u001b[0m",
            "\u001b[0;31mTypeError\u001b[0m                                 Traceback (most recent call last)",
            "\u001b[0;32m<ipython-input-66-e0758fe7b195>\u001b[0m in \u001b[0;36m<module>\u001b[0;34m\u001b[0m\n\u001b[0;32m----> 1\u001b[0;31m \u001b[0mdataset\u001b[0m \u001b[0;34m=\u001b[0m \u001b[0mHatefulMemesDataset\u001b[0m\u001b[0;34m(\u001b[0m\u001b[0mdata_path\u001b[0m \u001b[0;34m=\u001b[0m \u001b[0mpath\u001b[0m\u001b[0;34m,\u001b[0m\u001b[0mimage_dir\u001b[0m \u001b[0;34m=\u001b[0m \u001b[0mpath\u001b[0m \u001b[0;34m+\u001b[0m \u001b[0;34m'/train_images'\u001b[0m\u001b[0;34m,\u001b[0m\u001b[0mimage_transform\u001b[0m \u001b[0;34m=\u001b[0m \u001b[0mimage_transform\u001b[0m\u001b[0;34m)\u001b[0m\u001b[0;34m\u001b[0m\u001b[0;34m\u001b[0m\u001b[0m\n\u001b[0m\u001b[1;32m      2\u001b[0m \u001b[0mfig\u001b[0m \u001b[0;34m=\u001b[0m \u001b[0mplt\u001b[0m\u001b[0;34m.\u001b[0m\u001b[0mfigure\u001b[0m\u001b[0;34m(\u001b[0m\u001b[0;34m)\u001b[0m\u001b[0;34m\u001b[0m\u001b[0;34m\u001b[0m\u001b[0m\n\u001b[1;32m      3\u001b[0m \u001b[0;32mfor\u001b[0m \u001b[0mi\u001b[0m \u001b[0;32min\u001b[0m \u001b[0mrange\u001b[0m\u001b[0;34m(\u001b[0m\u001b[0mlen\u001b[0m\u001b[0;34m(\u001b[0m\u001b[0mdataset\u001b[0m\u001b[0;34m)\u001b[0m\u001b[0;34m)\u001b[0m\u001b[0;34m:\u001b[0m\u001b[0;34m\u001b[0m\u001b[0;34m\u001b[0m\u001b[0m\n\u001b[1;32m      4\u001b[0m     \u001b[0msample\u001b[0m \u001b[0;34m=\u001b[0m \u001b[0mdataset\u001b[0m\u001b[0;34m[\u001b[0m\u001b[0mi\u001b[0m\u001b[0;34m]\u001b[0m\u001b[0;34m\u001b[0m\u001b[0;34m\u001b[0m\u001b[0m\n\u001b[1;32m      5\u001b[0m \u001b[0;34m\u001b[0m\u001b[0m\n",
            "\u001b[0;31mTypeError\u001b[0m: __init__() got an unexpected keyword argument 'image_dir'"
          ]
        }
      ],
      "source": []
    },
    {
      "cell_type": "code",
      "execution_count": null,
      "metadata": {
        "id": "PJBAbndys1rb"
      },
      "outputs": [],
      "source": []
    }
  ],
  "metadata": {
    "accelerator": "GPU",
    "colab": {
      "collapsed_sections": [
        "TfOF9JSGp1T5"
      ],
      "provenance": []
    },
    "gpuClass": "standard",
    "kernelspec": {
      "display_name": "Python 3.7.10 ('basic')",
      "language": "python",
      "name": "python3"
    },
    "language_info": {
      "name": "python",
      "version": "3.7.10"
    },
    "vscode": {
      "interpreter": {
        "hash": "cbb9b752b2e00d79181b10810213ec250859823ac34c680a70252b6b3a1c26f5"
      }
    }
  },
  "nbformat": 4,
  "nbformat_minor": 0
}
